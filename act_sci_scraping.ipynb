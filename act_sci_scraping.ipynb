{
 "cells": [
  {
   "cell_type": "code",
   "execution_count": 26,
   "id": "73bc88a5",
   "metadata": {},
   "outputs": [],
   "source": [
    "from bs4 import BeautifulSoup\n",
    "import requests\n",
    "import pandas as pd\n",
    "import re"
   ]
  },
  {
   "cell_type": "code",
   "execution_count": 27,
   "id": "905b0627",
   "metadata": {},
   "outputs": [],
   "source": [
    "url = \"https://guide.wisc.edu/undergraduate/business/risk-insurance/business-actuarial-science-bba/#requirementstext\"\n",
    "page = requests.get(url)"
   ]
  },
  {
   "cell_type": "code",
   "execution_count": 28,
   "id": "489cf5ad",
   "metadata": {},
   "outputs": [],
   "source": [
    "text = BeautifulSoup(page.text, \"html.parser\")"
   ]
  },
  {
   "cell_type": "code",
   "execution_count": 29,
   "id": "76d03b30",
   "metadata": {},
   "outputs": [],
   "source": [
    "# Get the headings for the previous tables\n",
    "\n",
    "# First, we find all the tables and only keep the tables containing course info\n",
    "tables = text.findAll(\"table\", {\"class\": \"sc_courselist\" })\n",
    "\n",
    "#required core part\n",
    "table_names = []\n",
    "#for table in tables[4]:\n",
    "    #table_names.append(table.find(\"span\", {\"class\": \"odd areasubheader undefined\"}))"
   ]
  },
  {
   "cell_type": "code",
   "execution_count": 30,
   "id": "05038c21",
   "metadata": {},
   "outputs": [],
   "source": [
    "def get_ele(x):\n",
    "    for ele in x:\n",
    "        return ele.get_text()\n",
    "    \n",
    "def replace_that(table):\n",
    "    a = []\n",
    "    for row in table:\n",
    "        r = []\n",
    "        credits = row.findAll(\"td\", {\"class\": \"hourscol\" })\n",
    "        credits = get_ele(credits)\n",
    "        r.append(credits)\n",
    "        \n",
    "        catg = row.findAll(\"h2\",{\"name\":\"requirementstext\"})\n",
    "        catg = get_ele(catg)\n",
    "        r.append(catg)\n",
    "        \n",
    "        classtags= row.findAll(\"td\", {\"class\": \"codecol\"})\n",
    "        if len(classtags) > 0:\n",
    "            classtags = get_ele(classtags).replace(u'\\xa0',' ')\n",
    "            classtags = classtags.replace(u'\\u200b',' ')\n",
    "        r.append(classtags)\n",
    "        \n",
    "        a.append(r)\n",
    "    return(a)\n"
   ]
  },
  {
   "cell_type": "code",
   "execution_count": 31,
   "id": "c6bf1f1a",
   "metadata": {},
   "outputs": [
    {
     "data": {
      "text/plain": [
       "[({'Name': 'Actuarial Requirement'},\n",
       "  1,\n",
       "  ['MATH/ STAT  431', 'or STAT/ MATH  309', 'or STAT 311']),\n",
       " ({'Name': 'Actuarial Requirement'}, 1, ['STAT/ MATH  310', 'or STAT 312']),\n",
       " ({'Name': 'Actuarial Requirement'}, 0, ['ACT SCI 300']),\n",
       " ({'Name': 'Actuarial Requirement'}, 0, ['ACT SCI 301']),\n",
       " ({'Name': 'Actuarial Requirement'}, 1, ['ACT SCI 303']),\n",
       " ({'Name': 'Actuarial Requirement'}, 1, ['ACT SCI 650']),\n",
       " ({'Name': 'Actuarial Requirement'}, 1, ['ACT SCI 652']),\n",
       " ({'Name': 'Actuarial Requirement'}, 1, ['ACT SCI 651', 'or ACT SCI 653']),\n",
       " ({'Name': 'Actuarial Requirement'},\n",
       "  1,\n",
       "  ['ACT SCI 654', 'or ACT SCI 655', 'or GEN BUS 656']),\n",
       " ({'Name': 'Actuarial Requirement'}, '23', [[]])]"
      ]
     },
     "execution_count": 31,
     "metadata": {},
     "output_type": "execute_result"
    }
   ],
   "source": [
    "#Now, we aim to clean up tb\n",
    "def clean_up(tb, cat = \"None\"):\n",
    "    categories = []\n",
    "    for row in tb:\n",
    "        ## Categories\n",
    "        if row[0] != None and len(row[0]) > 0:\n",
    "            ## Categories\n",
    "            if row[0]==\"1\":\n",
    "                row[0] = round(int(row[0])/3)\n",
    "            elif row[0]==\"3\":\n",
    "                row[0] = round(int(row[0])/3)\n",
    "            category = ({\"Name\":cat},\n",
    "                        row[0],[row[2]])\n",
    "            categories.append(category)\n",
    "        elif len(row[2]) > 0:\n",
    "            category[-1].append(row[2])\n",
    "    return categories\n",
    "\n",
    "#categories = categories[:-1]\n",
    "#categories.pop(7)\n"
   ]
  },
  {
   "cell_type": "code",
   "execution_count": 35,
   "id": "a564f5d9",
   "metadata": {},
   "outputs": [],
   "source": [
    "## INFO FROM Major Requirement\n",
    "major_tbody = tables[1].findAll(\"tbody\")\n",
    "major_tr=major_tbody[0].findAll(\"tr\")\n",
    "major_req = replace_that(major_tr)\n",
    "major = clean_up(major_req, \"Actuarial Science Major Requirements\")\n",
    "\n",
    "## INFO FROM ELECTIVE Requirement\n",
    "elective_tbody = tables[2].findAll(\"tbody\")\n",
    "elective_tr=elective_tbody[0].findAll(\"tr\")\n",
    "elective_req = replace_that(elective_tr)\n",
    "elective = clean_up(elective_req, \"Recommended Electives\")"
   ]
  },
  {
   "cell_type": "code",
   "execution_count": null,
   "id": "baeae7a8",
   "metadata": {},
   "outputs": [],
   "source": []
  }
 ],
 "metadata": {
  "kernelspec": {
   "display_name": "Python 3 (ipykernel)",
   "language": "python",
   "name": "python3"
  },
  "language_info": {
   "codemirror_mode": {
    "name": "ipython",
    "version": 3
   },
   "file_extension": ".py",
   "mimetype": "text/x-python",
   "name": "python",
   "nbconvert_exporter": "python",
   "pygments_lexer": "ipython3",
   "version": "3.8.10"
  }
 },
 "nbformat": 4,
 "nbformat_minor": 5
}
