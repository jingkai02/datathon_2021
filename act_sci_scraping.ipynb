{
 "cells": [
  {
   "cell_type": "code",
   "execution_count": 1,
   "metadata": {},
   "outputs": [],
   "source": [
    "from bs4 import BeautifulSoup\n",
    "import requests\n",
    "import pandas as pd\n",
    "import re"
   ]
  },
  {
   "cell_type": "code",
   "execution_count": 2,
   "metadata": {},
   "outputs": [],
   "source": [
    "url = \"https://guide.wisc.edu/undergraduate/business/risk-insurance/business-actuarial-science-bba/#requirementstext\"\n",
    "page = requests.get(url)"
   ]
  },
  {
   "cell_type": "code",
   "execution_count": 3,
   "metadata": {},
   "outputs": [],
   "source": [
    "text = BeautifulSoup(page.text, \"html.parser\")"
   ]
  },
  {
   "cell_type": "code",
   "execution_count": 4,
   "metadata": {},
   "outputs": [],
   "source": [
    "# Get the headings for the previous tables\n",
    "\n",
    "# First, we find all the tables and only keep the tables containing course info\n",
    "tables = text.findAll(\"table\", {\"class\": \"sc_courselist\" })\n"
   ]
  },
  {
   "cell_type": "code",
   "execution_count": 5,
   "metadata": {},
   "outputs": [],
   "source": [
    "def get_ele(x):\n",
    "    for ele in x:\n",
    "        return ele.get_text()\n",
    "    \n",
    "def replace_that(table):\n",
    "    a = []\n",
    "    for row in table:\n",
    "        r = []\n",
    "        credits = row.findAll(\"td\", {\"class\": \"hourscol\" })\n",
    "        credits = get_ele(credits)\n",
    "        r.append(credits)\n",
    "        \n",
    "        catg = row.findAll(\"h2\",{\"name\":\"requirementstext\"})\n",
    "        catg = get_ele(catg)\n",
    "        r.append(catg)\n",
    "        \n",
    "        classtags= row.findAll(\"td\", {\"class\": \"codecol\"})\n",
    "        if len(classtags) > 0:\n",
    "            classtags = get_ele(classtags).replace(u'\\xa0',' ')\n",
    "            classtags = classtags.replace(u'\\u200b',' ')\n",
    "        r.append(classtags)\n",
    "        \n",
    "        a.append(r)\n",
    "    return(a)\n"
   ]
  },
  {
   "cell_type": "code",
   "execution_count": 6,
   "metadata": {},
   "outputs": [],
   "source": [
    "#Now, we aim to clean up tb\n",
    "def clean_up(tb, cat = \"None\"):\n",
    "    categories = []\n",
    "    for row in tb:\n",
    "        ## Categories\n",
    "        if row[0] != None and len(row[0]) > 0:\n",
    "            ## Categories\n",
    "            if row[0]==\"1\":\n",
    "                row[0] = round(int(row[0])/3)\n",
    "            elif row[0] in [\"3\",\"4\"]:\n",
    "                row[0] = round(int(row[0])/3)\n",
    "            category = ({\"Name\":cat},\n",
    "                        row[0],[row[2]])\n",
    "            categories.append(category)\n",
    "        elif len(row[2]) > 0:\n",
    "            category[-1].append(row[2].replace('or ',''))\n",
    "    return categories\n",
    "\n",
    "#clean_up(elective_req, \"Recommended Electives\")"
   ]
  },
  {
   "cell_type": "code",
   "execution_count": 17,
   "metadata": {},
   "outputs": [
    {
     "data": {
      "text/plain": [
       "[({'Name': 'Actuarial Science Major Requirements'},\n",
       "  1,\n",
       "  ['MATH/ STAT  431', 'STAT/ MATH  309', 'STAT 311']),\n",
       " ({'Name': 'Actuarial Science Major Requirements'},\n",
       "  1,\n",
       "  ['STAT/ MATH  310', 'STAT 312']),\n",
       " ({'Name': 'Actuarial Science Major Requirements'}, 0, ['ACT SCI 300']),\n",
       " ({'Name': 'Actuarial Science Major Requirements'}, 0, ['ACT SCI 301']),\n",
       " ({'Name': 'Actuarial Science Major Requirements'}, 1, ['ACT SCI 303']),\n",
       " ({'Name': 'Actuarial Science Major Requirements'}, 1, ['ACT SCI 650']),\n",
       " ({'Name': 'Actuarial Science Major Requirements'}, 1, ['ACT SCI 652']),\n",
       " ({'Name': 'Actuarial Science Major Requirements'},\n",
       "  1,\n",
       "  ['ACT SCI 651', 'ACT SCI 653']),\n",
       " ({'Name': 'Actuarial Science Major Requirements'},\n",
       "  1,\n",
       "  ['ACT SCI 654', 'ACT SCI 655', 'GEN BUS 656']),\n",
       " ({'Name': 'Recommended Electives'}, 1, ['MATH 234']),\n",
       " ({'Name': 'Recommended Electives'}, 1, ['MATH 340']),\n",
       " ({'Name': 'Recommended Electives'}, 1, ['R M I 300']),\n",
       " ({'Name': 'Recommended Electives'}, 1, ['FINANCE/ ECON  320']),\n",
       " ({'Name': 'Recommended Electives'}, 1, ['COMP SCI 220']),\n",
       " ({'Name': 'Recommended Electives'}, 3, ['STAT 303', 'STAT 304', 'STAT 305'])]"
      ]
     },
     "execution_count": 17,
     "metadata": {},
     "output_type": "execute_result"
    }
   ],
   "source": [
    "## INFO FROM Major Requirement\n",
    "major_tbody = tables[1].findAll(\"tbody\")\n",
    "major_tr=major_tbody[0].findAll(\"tr\")\n",
    "major_req = replace_that(major_tr)\n",
    "major = clean_up(major_req, \"Actuarial Science Major Requirements\")\n",
    "\n",
    "## INFO FROM ELECTIVE Requirement\n",
    "elective_tbody = tables[2].findAll(\"tbody\")\n",
    "elective_tr=elective_tbody[0].findAll(\"tr\")\n",
    "elective_req = replace_that(elective_tr)\n",
    "elective = clean_up(elective_req, \"Recommended Electives\")\n",
    "elective.pop(-1)\n",
    "elective.append(({'Name': 'Recommended Electives'}, 3, ['STAT 303', 'STAT 304', 'STAT 305']))\n",
    "#sp1=elective[-1][-1][0].split('&')[0]\n",
    "#sp2=elective[-1][-1][0].split('&')[1]\n",
    "#sp3=elective[-1][-1][0].split('&')[2]\n",
    "#elective[-1][-1][0]=sp1\n",
    "#elective[-1][-1].append(sp2)\n",
    "#elective[-1][-1].append(sp3)\n",
    "#elective\n",
    "act_sci_data = major+elective\n",
    "act_sci_data.pop(-7)\n",
    "act_sci_data"
   ]
  },
  {
   "cell_type": "code",
   "execution_count": 20,
   "metadata": {},
   "outputs": [
    {
     "data": {
      "text/plain": [
       "[({'Name': 'Actuarial Science Major Requirements'},\n",
       "  1,\n",
       "  ['MATH/ STAT  431', 'STAT/ MATH  309', 'STAT 311']),\n",
       " ({'Name': 'Actuarial Science Major Requirements'},\n",
       "  1,\n",
       "  ['STAT/ MATH  310', 'STAT 312']),\n",
       " ({'Name': 'Actuarial Science Major Requirements'}, 1, ['ACT SCI 300']),\n",
       " ({'Name': 'Actuarial Science Major Requirements'}, 1, ['ACT SCI 301']),\n",
       " ({'Name': 'Actuarial Science Major Requirements'}, 1, ['ACT SCI 303']),\n",
       " ({'Name': 'Actuarial Science Major Requirements'}, 1, ['ACT SCI 650']),\n",
       " ({'Name': 'Actuarial Science Major Requirements'}, 1, ['ACT SCI 652']),\n",
       " ({'Name': 'Actuarial Science Major Requirements'},\n",
       "  1,\n",
       "  ['ACT SCI 651', 'ACT SCI 653']),\n",
       " ({'Name': 'Actuarial Science Major Requirements'},\n",
       "  1,\n",
       "  ['ACT SCI 654', 'ACT SCI 655', 'GEN BUS 656']),\n",
       " ({'Name': 'Recommended Electives'}, 1, ['MATH 234']),\n",
       " ({'Name': 'Recommended Electives'}, 1, ['MATH 340']),\n",
       " ({'Name': 'Recommended Electives'}, 1, ['R M I 300']),\n",
       " ({'Name': 'Recommended Electives'}, 1, ['FINANCE/ ECON  320']),\n",
       " ({'Name': 'Recommended Electives'}, 1, ['COMP SCI 220']),\n",
       " ({'Name': 'Recommended Electives'}, 3, ['STAT 303', 'STAT 304', 'STAT 305'])]"
      ]
     },
     "execution_count": 20,
     "metadata": {},
     "output_type": "execute_result"
    }
   ],
   "source": [
    "for i, row in enumerate(act_sci_data):\n",
    "    if row[1] == 0:\n",
    "        act_sci_data[i] = (row[0],1,row[2])\n",
    "act_sci_data"
   ]
  },
  {
   "cell_type": "code",
   "execution_count": null,
   "metadata": {},
   "outputs": [],
   "source": []
  }
 ],
 "metadata": {
  "kernelspec": {
   "display_name": "Python 3",
   "language": "python",
   "name": "python3"
  },
  "language_info": {
   "codemirror_mode": {
    "name": "ipython",
    "version": 3
   },
   "file_extension": ".py",
   "mimetype": "text/x-python",
   "name": "python",
   "nbconvert_exporter": "python",
   "pygments_lexer": "ipython3",
   "version": "3.7.6"
  }
 },
 "nbformat": 4,
 "nbformat_minor": 5
}
