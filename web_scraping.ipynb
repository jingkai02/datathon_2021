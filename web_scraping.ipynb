{
 "cells": [
  {
   "cell_type": "code",
   "execution_count": 23,
   "metadata": {},
   "outputs": [],
   "source": [
    "from bs4 import BeautifulSoup\n",
    "import requests\n",
    "import pandas as pd\n",
    "import re"
   ]
  },
  {
   "cell_type": "code",
   "execution_count": 24,
   "metadata": {},
   "outputs": [],
   "source": [
    "url = \"https://guide.wisc.edu/undergraduate/letters-science/statistics/data-science-bs/#requirementstext\"\n",
    "page = requests.get(url)"
   ]
  },
  {
   "cell_type": "code",
   "execution_count": 25,
   "metadata": {},
   "outputs": [],
   "source": [
    "text = BeautifulSoup(page.text, \"html.parser\")"
   ]
  },
  {
   "cell_type": "code",
   "execution_count": 72,
   "metadata": {},
   "outputs": [],
   "source": [
    "## Search for course catalogue number\n",
    "#Search for required credits\n",
    "credit = text.findAll(\"td\", {\"class\": \"hourscol\" })\n",
    "credit\n",
    "# Search for tags with class \n",
    "classtags= text.findAll(\"td\", {\"class\": \"codecol\"})\n",
    "def mod_class(classn):\n",
    "    str_class = classn.text\n",
    "    mod_class = str_class.replace(u'\\xa0',' ')\n",
    "    return mod_class\n",
    "#str_class\n",
    "## Create dictionary of class lik"
   ]
  },
  {
   "cell_type": "code",
   "execution_count": 76,
   "metadata": {},
   "outputs": [],
   "source": [
    "for classn in classtags:\n",
    "    mod_class(classn)"
   ]
  },
  {
   "cell_type": "code",
   "execution_count": 107,
   "metadata": {},
   "outputs": [
    {
     "name": "stdout",
     "output_type": "stream",
     "text": [
      "[<td class=\"hourscol\">18</td>] [] []\n",
      "[<td class=\"hourscol\"></td>] [] []\n",
      "[<td class=\"hourscol\">3</td>] [<span class=\"courselistcomment areasubheader undefined\">Machine Learning</span>] []\n",
      "[<td class=\"hourscol\"></td>] [] []\n",
      "[<td class=\"hourscol\"></td>] [] [<td class=\"codecol\"><div class=\"blockindent\" style=\"margin-left:20px;\"><a class=\"bubblelink code\" href=\"/search/?P=COMP%20SCI%20532\" onclick=\"return showCourse(this, 'COMP SCI 532');\" title=\"COMP SCI/​E C E/​M E  532\">COMP SCI/​E C E/​M E  532</a></div></td>]\n",
      "[<td class=\"hourscol\"></td>] [] [<td class=\"codecol\"><div class=\"blockindent\" style=\"margin-left:20px;\"><a class=\"bubblelink code\" href=\"/search/?P=COMP%20SCI%20539\" onclick=\"return showCourse(this, 'COMP SCI 539');\" title=\"COMP SCI/​E C E/​M E  539\">COMP SCI/​E C E/​M E  539</a></div></td>]\n",
      "[<td class=\"hourscol\"></td>] [] [<td class=\"codecol\"><div class=\"blockindent\" style=\"margin-left:20px;\"><a class=\"bubblelink code\" href=\"/search/?P=COMP%20SCI%20540\" onclick=\"return showCourse(this, 'COMP SCI 540');\" title=\"COMP SCI 540\">COMP SCI 540</a></div></td>]\n",
      "[<td class=\"hourscol\"></td>] [] [<td class=\"codecol\"><div class=\"blockindent\" style=\"margin-left:20px;\"><a class=\"bubblelink code\" href=\"/search/?P=MATH%20535\" onclick=\"return showCourse(this, 'MATH 535');\" title=\"MATH 535\">MATH 535</a></div></td>]\n",
      "[<td class=\"hourscol\"></td>] [] [<td class=\"codecol\"><div class=\"blockindent\" style=\"margin-left:20px;\"><a class=\"bubblelink code\" href=\"/search/?P=STAT%20451\" onclick=\"return showCourse(this, 'STAT 451');\" title=\"STAT 451\">STAT 451</a></div></td>]\n",
      "[<td class=\"hourscol\"></td>] [] [<td class=\"codecol\"><div class=\"blockindent\" style=\"margin-left:20px;\"><a class=\"bubblelink code\" href=\"/search/?P=STAT%20453\" onclick=\"return showCourse(this, 'STAT 453');\" title=\"STAT 453\">STAT 453</a></div></td>]\n",
      "[<td class=\"hourscol\">3</td>] [<span class=\"courselistcomment areasubheader undefined\">Advanced Computing</span>] []\n",
      "[<td class=\"hourscol\"></td>] [] []\n",
      "[<td class=\"hourscol\"></td>] [] [<td class=\"codecol\"><div class=\"blockindent\" style=\"margin-left:20px;\"><a class=\"bubblelink code\" href=\"/search/?P=COMP%20SCI%20400\" onclick=\"return showCourse(this, 'COMP SCI 400');\" title=\"COMP SCI 400\">COMP SCI 400</a></div></td>]\n",
      "[<td class=\"hourscol\"></td>] [] [<td class=\"codecol\"><div class=\"blockindent\" style=\"margin-left:20px;\"><a class=\"bubblelink code\" href=\"/search/?P=COMP%20SCI%20412\" onclick=\"return showCourse(this, 'COMP SCI 412');\" title=\"COMP SCI 412\">COMP SCI 412</a></div></td>]\n",
      "[<td class=\"hourscol\"></td>] [] [<td class=\"codecol\"><div class=\"blockindent\" style=\"margin-left:20px;\"><a class=\"bubblelink code\" href=\"/search/?P=COMP%20SCI%20471\" onclick=\"return showCourse(this, 'COMP SCI 471');\" title=\"COMP SCI/​STAT  471\">COMP SCI/​STAT  471</a></div></td>]\n",
      "[<td class=\"hourscol\"></td>] [] [<td class=\"codecol\"><div class=\"blockindent\" style=\"margin-left:20px;\"><a class=\"bubblelink code\" href=\"/search/?P=COMP%20SCI%20513\" onclick=\"return showCourse(this, 'COMP SCI 513');\" title=\"COMP SCI/​MATH  513\">COMP SCI/​MATH  513</a></div></td>]\n",
      "[<td class=\"hourscol\"></td>] [] [<td class=\"codecol\"><div class=\"blockindent\" style=\"margin-left:20px;\"><a class=\"bubblelink code\" href=\"/search/?P=COMP%20SCI%20514\" onclick=\"return showCourse(this, 'COMP SCI 514');\" title=\"COMP SCI/​MATH  514\">COMP SCI/​MATH  514</a></div></td>]\n",
      "[<td class=\"hourscol\"></td>] [] [<td class=\"codecol\"><div class=\"blockindent\" style=\"margin-left:20px;\"><a class=\"bubblelink code\" href=\"/search/?P=COMP%20SCI%20524\" onclick=\"return showCourse(this, 'COMP SCI 524');\" title=\"COMP SCI/​E C E/​I SY E  524\">COMP SCI/​E C E/​I SY E  524</a></div></td>]\n",
      "[<td class=\"hourscol\"></td>] [] [<td class=\"codecol\"><div class=\"blockindent\" style=\"margin-left:20px;\"><a class=\"bubblelink code\" href=\"/search/?P=COMP%20SCI%20564\" onclick=\"return showCourse(this, 'COMP SCI 564');\" title=\"COMP SCI 564\">COMP SCI 564</a></div></td>]\n",
      "[<td class=\"hourscol\"></td>] [] [<td class=\"codecol\"><div class=\"blockindent\" style=\"margin-left:20px;\"><a class=\"bubblelink code\" href=\"/search/?P=GEOG%20573\" onclick=\"return showCourse(this, 'GEOG 573');\" title=\"GEOG 573\">GEOG 573</a></div></td>]\n",
      "[<td class=\"hourscol\"></td>] [] [<td class=\"codecol\"><div class=\"blockindent\" style=\"margin-left:20px;\"><a class=\"bubblelink code\" href=\"/search/?P=GEOG%20574\" onclick=\"return showCourse(this, 'GEOG 574');\" title=\"GEOG 574\">GEOG 574</a></div></td>]\n",
      "[<td class=\"hourscol\">3</td>] [<span class=\"courselistcomment areasubheader undefined\">Statistical Modeling</span>] []\n",
      "[<td class=\"hourscol\"></td>] [] []\n",
      "[<td class=\"hourscol\"></td>] [] [<td class=\"codecol\"><div class=\"blockindent\" style=\"margin-left:20px;\"><a class=\"bubblelink code\" href=\"/search/?P=ECON%20400\" onclick=\"return showCourse(this, 'ECON 400');\" title=\"ECON 400\">ECON 400</a></div></td>]\n",
      "[<td class=\"hourscol\"></td>] [] [<td class=\"codecol\"><div class=\"blockindent\" style=\"margin-left:20px;\"><a class=\"bubblelink code\" href=\"/search/?P=ECON%20410\" onclick=\"return showCourse(this, 'ECON 410');\" title=\"ECON 410\">ECON 410</a></div></td>]\n",
      "[<td class=\"hourscol\"></td>] [] [<td class=\"codecol\"><div class=\"blockindent\" style=\"margin-left:20px;\"><a class=\"bubblelink code\" href=\"/search/?P=STAT%20309\" onclick=\"return showCourse(this, 'STAT 309');\" title=\"STAT/​MATH  309\">STAT/​MATH  309</a></div></td>]\n",
      "[<td class=\"hourscol\"></td>] [] [<td class=\"codecol\"><div class=\"blockindent\" style=\"margin-left:20px;\"><a class=\"bubblelink code\" href=\"/search/?P=STAT%20310\" onclick=\"return showCourse(this, 'STAT 310');\" title=\"STAT/​MATH  310\">STAT/​MATH  310</a></div></td>]\n",
      "[<td class=\"hourscol\"></td>] [] [<td class=\"codecol\"><div class=\"blockindent\" style=\"margin-left:20px;\"><a class=\"bubblelink code\" href=\"/search/?P=STAT%20311\" onclick=\"return showCourse(this, 'STAT 311');\" title=\"STAT 311\">STAT 311</a></div></td>]\n",
      "[<td class=\"hourscol\"></td>] [] [<td class=\"codecol\"><div class=\"blockindent\" style=\"margin-left:20px;\"><a class=\"bubblelink code\" href=\"/search/?P=STAT%20312\" onclick=\"return showCourse(this, 'STAT 312');\" title=\"STAT 312\">STAT 312</a></div></td>]\n",
      "[<td class=\"hourscol\"></td>] [] [<td class=\"codecol\"><div class=\"blockindent\" style=\"margin-left:20px;\"><a class=\"bubblelink code\" href=\"/search/?P=STAT%20349\" onclick=\"return showCourse(this, 'STAT 349');\" title=\"STAT 349\">STAT 349</a></div></td>]\n",
      "[<td class=\"hourscol\"></td>] [] [<td class=\"codecol\"><div class=\"blockindent\" style=\"margin-left:20px;\"><a class=\"bubblelink code\" href=\"/search/?P=STAT%20351\" onclick=\"return showCourse(this, 'STAT 351');\" title=\"STAT 351\">STAT 351</a></div></td>]\n",
      "[<td class=\"hourscol\"></td>] [] [<td class=\"codecol\"><div class=\"blockindent\" style=\"margin-left:20px;\"><a class=\"bubblelink code\" href=\"/search/?P=STAT%20421\" onclick=\"return showCourse(this, 'STAT 421');\" title=\"STAT 421\">STAT 421</a></div></td>]\n",
      "[<td class=\"hourscol\"></td>] [] [<td class=\"codecol\"><div class=\"blockindent\" style=\"margin-left:20px;\"><a class=\"bubblelink code\" href=\"/search/?P=STAT%20424\" onclick=\"return showCourse(this, 'STAT 424');\" title=\"STAT/​M E  424\">STAT/​M E  424</a></div></td>]\n",
      "[<td class=\"hourscol\"></td>] [] [<td class=\"codecol\"><div class=\"blockindent\" style=\"margin-left:20px;\"><a class=\"bubblelink code\" href=\"/search/?P=STAT%20431\" onclick=\"return showCourse(this, 'STAT 431');\" title=\"STAT/​MATH  431\">STAT/​MATH  431</a></div></td>]\n",
      "[<td class=\"hourscol\"></td>] [] [<td class=\"codecol\"><div class=\"blockindent\" style=\"margin-left:20px;\"><a class=\"bubblelink code\" href=\"/search/?P=STAT%20443\" onclick=\"return showCourse(this, 'STAT 443');\" title=\"STAT 443\">STAT 443</a></div></td>]\n",
      "[<td class=\"hourscol\"></td>] [] [<td class=\"codecol\"><div class=\"blockindent\" style=\"margin-left:20px;\"><a class=\"bubblelink code\" href=\"/search/?P=STAT%20456\" onclick=\"return showCourse(this, 'STAT 456');\" title=\"STAT 456\">STAT 456</a></div></td>]\n",
      "[<td class=\"hourscol\"></td>] [] [<td class=\"codecol\"><div class=\"blockindent\" style=\"margin-left:20px;\"><a class=\"bubblelink code\" href=\"/search/?P=STAT%20461\" onclick=\"return showCourse(this, 'STAT 461');\" title=\"STAT 461\">STAT 461</a></div></td>]\n",
      "[<td class=\"hourscol\"></td>] [] [<td class=\"codecol\"><div class=\"blockindent\" style=\"margin-left:20px;\"><a class=\"bubblelink code\" href=\"/search/?P=MATH%20531\" onclick=\"return showCourse(this, 'MATH 531');\" title=\"MATH 531\">MATH 531</a></div></td>]\n",
      "[<td class=\"hourscol\"></td>] [] [<td class=\"codecol\"><div class=\"blockindent\" style=\"margin-left:20px;\"><a class=\"bubblelink code\" href=\"/search/?P=MATH%20632\" onclick=\"return showCourse(this, 'MATH 632');\" title=\"MATH/​I SY E/​OTM/​STAT  632\">MATH/​I SY E/​OTM/​STAT  632</a></div></td>]\n",
      "[<td class=\"hourscol\"></td>] [] [<td class=\"codecol\"><div class=\"blockindent\" style=\"margin-left:20px;\"><a class=\"bubblelink code\" href=\"/search/?P=MATH%20635\" onclick=\"return showCourse(this, 'MATH 635');\" title=\"MATH 635\">MATH 635</a></div></td>]\n",
      "[<td class=\"hourscol\">0-3</td>] [<span class=\"courselistcomment areasubheader undefined\">Linear Algebra</span>] []\n",
      "[<td class=\"hourscol\"></td>] [] []\n",
      "[<td class=\"hourscol\"></td>] [] [<td class=\"codecol\"><div class=\"blockindent\" style=\"margin-left:20px;\"><a class=\"bubblelink code\" href=\"/search/?P=MATH%20320\" onclick=\"return showCourse(this, 'MATH 320');\" title=\"MATH 320\">MATH 320</a></div></td>]\n",
      "[<td class=\"hourscol\"></td>] [] [<td class=\"codecol\"><div class=\"blockindent\" style=\"margin-left:20px;\"><a class=\"bubblelink code\" href=\"/search/?P=MATH%20340\" onclick=\"return showCourse(this, 'MATH 340');\" title=\"MATH 340\">MATH 340</a></div></td>]\n",
      "[<td class=\"hourscol\"></td>] [] [<td class=\"codecol\"><div class=\"blockindent\" style=\"margin-left:20px;\"><a class=\"bubblelink code\" href=\"/search/?P=MATH%20341\" onclick=\"return showCourse(this, 'MATH 341');\" title=\"MATH 341\">MATH 341</a></div></td>]\n",
      "[<td class=\"hourscol\"></td>] [] [<td class=\"codecol\"><div class=\"blockindent\" style=\"margin-left:20px;\"><a class=\"bubblelink code\" href=\"/search/?P=MATH%20375\" onclick=\"return showCourse(this, 'MATH 375');\" title=\"MATH 375\">MATH 375</a></div></td>]\n",
      "[<td class=\"hourscol\"></td>] [] [<td class=\"codecol\"><div class=\"blockindent\" style=\"margin-left:20px;\"><a class=\"bubblelink code\" href=\"/search/?P=COMP%20SCI%20532\" onclick=\"return showCourse(this, 'COMP SCI 532');\" title=\"COMP SCI/​E C E/​M E  532\">COMP SCI/​E C E/​M E  532</a></div></td>]\n",
      "[<td class=\"hourscol\">6-9</td>] [<span class=\"courselistcomment areasubheader undefined\">Other Electives</span>] []\n",
      "[<td class=\"hourscol\"></td>] [] []\n",
      "[<td class=\"hourscol\"></td>] [] [<td class=\"codecol\"><div class=\"blockindent\" style=\"margin-left:20px;\"><a class=\"bubblelink code\" href=\"/search/?P=E%20C%20E%20203\" onclick=\"return showCourse(this, 'E C E 203');\" title=\"E C E 203\">E C E 203</a></div></td>]\n",
      "[<td class=\"hourscol\"></td>] [] [<td class=\"codecol\"><div class=\"blockindent\" style=\"margin-left:20px;\"><a class=\"bubblelink code\" href=\"/search/?P=ECON%20570\" onclick=\"return showCourse(this, 'ECON 570');\" title=\"ECON 570\">ECON 570</a></div></td>]\n",
      "[<td class=\"hourscol\"></td>] [] [<td class=\"codecol\"><div class=\"blockindent\" style=\"margin-left:20px;\"><a class=\"bubblelink code\" href=\"/search/?P=GEOG%20572\" onclick=\"return showCourse(this, 'GEOG 572');\" title=\"GEOG 572\">GEOG 572</a></div></td>]\n",
      "[<td class=\"hourscol\"></td>] [] [<td class=\"codecol\"><div class=\"blockindent\" style=\"margin-left:20px;\"><a class=\"bubblelink code\" href=\"/search/?P=GEOG%20575\" onclick=\"return showCourse(this, 'GEOG 575');\" title=\"GEOG 575\">GEOG 575</a></div></td>]\n",
      "[<td class=\"hourscol\"></td>] [] [<td class=\"codecol\"><div class=\"blockindent\" style=\"margin-left:20px;\"><a class=\"bubblelink code\" href=\"/search/?P=I%20SY%20E%20323\" onclick=\"return showCourse(this, 'I SY E 323');\" title=\"I SY E 323\">I SY E 323</a></div></td>]\n",
      "[<td class=\"hourscol\"></td>] [] [<td class=\"codecol\"><div class=\"blockindent\" style=\"margin-left:20px;\"><a class=\"bubblelink code\" href=\"/search/?P=I%20SY%20E%20412\" onclick=\"return showCourse(this, 'I SY E 412');\" title=\"I SY E 412\">I SY E 412</a></div></td>]\n",
      "[<td class=\"hourscol\"></td>] [] [<td class=\"codecol\"><div class=\"blockindent\" style=\"margin-left:20px;\"><a class=\"bubblelink code\" href=\"/search/?P=I%20SY%20E%20512\" onclick=\"return showCourse(this, 'I SY E 512');\" title=\"I SY E/​M E  512\">I SY E/​M E  512</a></div></td>]\n",
      "[<td class=\"hourscol\"></td>] [] [<td class=\"codecol\"><div class=\"blockindent\" style=\"margin-left:20px;\"><a class=\"bubblelink code\" href=\"/search/?P=I%20SY%20E%20575\" onclick=\"return showCourse(this, 'I SY E 575');\" title=\"I SY E 575\">I SY E 575</a></div></td>]\n",
      "[<td class=\"hourscol\"></td>] [] [<td class=\"codecol\"><div class=\"blockindent\" style=\"margin-left:20px;\"><a class=\"bubblelink code\" href=\"/search/?P=I%20SY%20E%20612\" onclick=\"return showCourse(this, 'I SY E 612');\" title=\"I SY E 612\">I SY E 612</a></div></td>]\n",
      "[<td class=\"hourscol\"></td>] [] [<td class=\"codecol\"><div class=\"blockindent\" style=\"margin-left:20px;\"><a class=\"bubblelink code\" href=\"/search/?P=COMP%20SCI%20425\" onclick=\"return showCourse(this, 'COMP SCI 425');\" title=\"COMP SCI/​I SY E/​MATH  425\">COMP SCI/​I SY E/​MATH  425</a></div></td>]\n",
      "[<td class=\"hourscol\"></td>] [] [<td class=\"codecol\"><div class=\"blockindent\" style=\"margin-left:20px;\"><a class=\"bubblelink code\" href=\"/search/?P=COMP%20SCI%20525\" onclick=\"return showCourse(this, 'COMP SCI 525');\" title=\"COMP SCI/​I SY E/​MATH/​STAT  525\">COMP SCI/​I SY E/​MATH/​STAT  525</a></div></td>]\n",
      "[<td class=\"hourscol\"></td>] [] [<td class=\"codecol\"><div class=\"blockindent\" style=\"margin-left:20px;\"><a class=\"bubblelink code\" href=\"/search/?P=COMP%20SCI%20533\" onclick=\"return showCourse(this, 'COMP SCI 533');\" title=\"COMP SCI/​E C E  533\">COMP SCI/​E C E  533</a></div></td>]\n",
      "[<td class=\"hourscol\"></td>] [] [<td class=\"codecol\"><div class=\"blockindent\" style=\"margin-left:20px;\"><a class=\"bubblelink code\" href=\"/search/?P=COMP%20SCI%20559\" onclick=\"return showCourse(this, 'COMP SCI 559');\" title=\"COMP SCI 559\">COMP SCI 559</a></div></td>]\n",
      "[<td class=\"hourscol\"></td>] [] [<td class=\"codecol\"><div class=\"blockindent\" style=\"margin-left:20px;\"><a class=\"bubblelink code\" href=\"/search/?P=COMP%20SCI%20567\" onclick=\"return showCourse(this, 'COMP SCI 567');\" title=\"COMP SCI/​B M I  567\">COMP SCI/​B M I  567</a></div></td>]\n",
      "[<td class=\"hourscol\"></td>] [] [<td class=\"codecol\"><div class=\"blockindent\" style=\"margin-left:20px;\"><a class=\"bubblelink code\" href=\"/search/?P=COMP%20SCI%20576\" onclick=\"return showCourse(this, 'COMP SCI 576');\" title=\"COMP SCI/​B M I  576\">COMP SCI/​B M I  576</a></div></td>]\n",
      "[<td class=\"hourscol\"></td>] [] [<td class=\"codecol\"><div class=\"blockindent\" style=\"margin-left:20px;\"><a class=\"bubblelink code\" href=\"/search/?P=COMP%20SCI%20577\" onclick=\"return showCourse(this, 'COMP SCI 577');\" title=\"COMP SCI 577\">COMP SCI 577</a></div></td>]\n",
      "[<td class=\"hourscol\"></td>] [] [<td class=\"codecol\"><div class=\"blockindent\" style=\"margin-left:20px;\"><a class=\"bubblelink code\" href=\"/search/?P=SOC%20351\" onclick=\"return showCourse(this, 'SOC 351');\" title=\"SOC 351\">SOC 351</a></div></td>]\n",
      "[<td class=\"hourscol\"></td>] [] [<td class=\"codecol\"><div class=\"blockindent\" style=\"margin-left:20px;\"><a class=\"bubblelink code\" href=\"/search/?P=SOC%20693\" onclick=\"return showCourse(this, 'SOC 693');\" title=\"SOC/​C&amp;E SOC  693\">SOC/​C&amp;E SOC  693</a></div></td>]\n",
      "[<td class=\"hourscol\"></td>] [] [<td class=\"codecol\"><div class=\"blockindent\" style=\"margin-left:20px;\"><a class=\"bubblelink code\" href=\"/search/?P=STAT%20433\" onclick=\"return showCourse(this, 'STAT 433');\" title=\"STAT 433\">STAT 433</a></div></td>]\n"
     ]
    }
   ],
   "source": [
    "table = text.findAll(\"tbody\")[4]\n",
    "table_tr = table.findAll(\"tr\")\n",
    "#table.findAll(\"span\",{\"class\":\"courselistcomment areasubheader undefined\"})\n",
    "for row in table_tr:\n",
    "    credits = row.findAll(\"td\", {\"class\": \"hourscol\" })\n",
    "    catg = row.findAll(\"span\",{\"class\":\"courselistcomment areasubheader undefined\"})\n",
    "    classtags= row.findAll(\"td\", {\"class\": \"codecol\"})\n",
    "    print(credits,catg,classtags)"
   ]
  },
  {
   "cell_type": "code",
   "execution_count": null,
   "metadata": {},
   "outputs": [],
   "source": []
  }
 ],
 "metadata": {
  "kernelspec": {
   "display_name": "Python 3",
   "language": "python",
   "name": "python3"
  },
  "language_info": {
   "codemirror_mode": {
    "name": "ipython",
    "version": 3
   },
   "file_extension": ".py",
   "mimetype": "text/x-python",
   "name": "python",
   "nbconvert_exporter": "python",
   "pygments_lexer": "ipython3",
   "version": "3.8.8"
  }
 },
 "nbformat": 4,
 "nbformat_minor": 4
}
