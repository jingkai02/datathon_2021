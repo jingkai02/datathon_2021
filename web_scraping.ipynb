{
 "cells": [
  {
   "cell_type": "code",
   "execution_count": 1,
   "metadata": {},
   "outputs": [],
   "source": [
    "from bs4 import BeautifulSoup\n",
    "import requests\n",
    "import pandas as pd\n",
    "import re"
   ]
  },
  {
   "cell_type": "code",
   "execution_count": 2,
   "metadata": {},
   "outputs": [],
   "source": [
    "url = \"https://guide.wisc.edu/undergraduate/letters-science/statistics/data-science-bs/#requirementstext\"\n",
    "page = requests.get(url)"
   ]
  },
  {
   "cell_type": "code",
   "execution_count": 3,
   "metadata": {},
   "outputs": [],
   "source": [
    "text = BeautifulSoup(page.text, \"html.parser\")"
   ]
  },
  {
   "cell_type": "code",
   "execution_count": 4,
   "metadata": {},
   "outputs": [],
   "source": [
    "## Search for course catalogue number\n",
    "#Search for required credits\n",
    "credit = text.findAll(\"td\", {\"class\": \"hourscol\" })\n",
    "credit\n",
    "# Search for tags with class \n",
    "classtags= text.findAll(\"td\", {\"class\": \"codecol\"})\n",
    "def mod_class(classn):\n",
    "    str_class = classn.text\n",
    "    mod_class = str_class.replace(u'\\xa0',' ')\n",
    "    return mod_class\n",
    "#str_class\n",
    "## Create dictionary of class lik"
   ]
  },
  {
   "cell_type": "code",
   "execution_count": 5,
   "metadata": {},
   "outputs": [],
   "source": [
    "for classn in classtags:\n",
    "    mod_class(classn)"
   ]
  },
  {
   "cell_type": "code",
   "execution_count": 23,
   "metadata": {},
   "outputs": [],
   "source": [
    "table = text.findAll(\"tbody\")[4]\n",
    "table_tr = table.findAll(\"tr\")\n",
    "#table.findAll(\"span\",{\"class\":\"courselistcomment areasubheader undefined\"})\n",
    "def get_ele(x):\n",
    "    for ele in x:\n",
    "        return ele.get_text()\n",
    "def replace_that(table):\n",
    "    a = []\n",
    "    for row in table:\n",
    "        r = []\n",
    "        credits = row.findAll(\"td\", {\"class\": \"hourscol\" })\n",
    "        credits = credits[0].get_text()\n",
    "        catg = row.findAll(\"span\",{\"class\":\"courselistcomment areasubheader undefined\"})\n",
    "        catg = get_ele(catg)\n",
    "        classtags= row.findAll(\"td\", {\"class\": \"codecol\"})\n",
    "        classtags = get_ele(classtags)\n",
    "        r.append(credits)\n",
    "        r.append(catg)\n",
    "        r.append(classtags)\n",
    "        a.append(r)\n",
    "    return(a)\n",
    "tb = replace_that(table_tr)\n",
    "#tb = list(tb)"
   ]
  },
  {
   "cell_type": "code",
   "execution_count": 24,
   "metadata": {},
   "outputs": [
    {
     "data": {
      "text/plain": [
       "['3', 'Advanced Computing', None]"
      ]
     },
     "execution_count": 24,
     "metadata": {},
     "output_type": "execute_result"
    }
   ],
   "source": [
    "tb[10]"
   ]
  },
  {
   "cell_type": "code",
   "execution_count": 35,
   "metadata": {},
   "outputs": [
    {
     "name": "stdout",
     "output_type": "stream",
     "text": [
      "['18', None, None]\n",
      "['', None, None]\n",
      "['3', 'Machine Learning', None]\n",
      "['', None, None]\n",
      "['', None, 'COMP\\xa0SCI/\\u200bE\\xa0C\\xa0E/\\u200bM\\xa0E\\xa0\\xa0532']\n",
      "['', None, 'COMP\\xa0SCI/\\u200bE\\xa0C\\xa0E/\\u200bM\\xa0E\\xa0\\xa0539']\n",
      "['', None, 'COMP\\xa0SCI\\xa0540']\n",
      "['', None, 'MATH\\xa0535']\n",
      "['', None, 'STAT\\xa0451']\n",
      "['', None, 'STAT\\xa0453']\n",
      "['3', 'Advanced Computing', None]\n",
      "['', None, None]\n",
      "['', None, 'COMP\\xa0SCI\\xa0400']\n",
      "['', None, 'COMP\\xa0SCI\\xa0412']\n",
      "['', None, 'COMP\\xa0SCI/\\u200bSTAT\\xa0\\xa0471']\n",
      "['', None, 'COMP\\xa0SCI/\\u200bMATH\\xa0\\xa0513']\n",
      "['', None, 'COMP\\xa0SCI/\\u200bMATH\\xa0\\xa0514']\n",
      "['', None, 'COMP\\xa0SCI/\\u200bE\\xa0C\\xa0E/\\u200bI\\xa0SY\\xa0E\\xa0\\xa0524']\n",
      "['', None, 'COMP\\xa0SCI\\xa0564']\n",
      "['', None, 'GEOG\\xa0573']\n",
      "['', None, 'GEOG\\xa0574']\n",
      "['3', 'Statistical Modeling', None]\n",
      "['', None, None]\n",
      "['', None, 'ECON\\xa0400']\n",
      "['', None, 'ECON\\xa0410']\n",
      "['', None, 'STAT/\\u200bMATH\\xa0\\xa0309']\n",
      "['', None, 'STAT/\\u200bMATH\\xa0\\xa0310']\n",
      "['', None, 'STAT\\xa0311']\n",
      "['', None, 'STAT\\xa0312']\n",
      "['', None, 'STAT\\xa0349']\n",
      "['', None, 'STAT\\xa0351']\n",
      "['', None, 'STAT\\xa0421']\n",
      "['', None, 'STAT/\\u200bM\\xa0E\\xa0\\xa0424']\n",
      "['', None, 'STAT/\\u200bMATH\\xa0\\xa0431']\n",
      "['', None, 'STAT\\xa0443']\n",
      "['', None, 'STAT\\xa0456']\n",
      "['', None, 'STAT\\xa0461']\n",
      "['', None, 'MATH\\xa0531']\n",
      "['', None, 'MATH/\\u200bI\\xa0SY\\xa0E/\\u200bOTM/\\u200bSTAT\\xa0\\xa0632']\n",
      "['', None, 'MATH\\xa0635']\n",
      "['0-3', 'Linear Algebra', None]\n",
      "['', None, None]\n",
      "['', None, 'MATH\\xa0320']\n",
      "['', None, 'MATH\\xa0340']\n",
      "['', None, 'MATH\\xa0341']\n",
      "['', None, 'MATH\\xa0375']\n",
      "['', None, 'COMP\\xa0SCI/\\u200bE\\xa0C\\xa0E/\\u200bM\\xa0E\\xa0\\xa0532']\n",
      "['6-9', 'Other Electives', None]\n",
      "['', None, None]\n",
      "['', None, 'E\\xa0C\\xa0E\\xa0203']\n",
      "['', None, 'ECON\\xa0570']\n",
      "['', None, 'GEOG\\xa0572']\n",
      "['', None, 'GEOG\\xa0575']\n",
      "['', None, 'I\\xa0SY\\xa0E\\xa0323']\n",
      "['', None, 'I\\xa0SY\\xa0E\\xa0412']\n",
      "['', None, 'I\\xa0SY\\xa0E/\\u200bM\\xa0E\\xa0\\xa0512']\n",
      "['', None, 'I\\xa0SY\\xa0E\\xa0575']\n",
      "['', None, 'I\\xa0SY\\xa0E\\xa0612']\n",
      "['', None, 'COMP\\xa0SCI/\\u200bI\\xa0SY\\xa0E/\\u200bMATH\\xa0\\xa0425']\n",
      "['', None, 'COMP\\xa0SCI/\\u200bI\\xa0SY\\xa0E/\\u200bMATH/\\u200bSTAT\\xa0\\xa0525']\n",
      "['', None, 'COMP\\xa0SCI/\\u200bE\\xa0C\\xa0E\\xa0\\xa0533']\n",
      "['', None, 'COMP\\xa0SCI\\xa0559']\n",
      "['', None, 'COMP\\xa0SCI/\\u200bB\\xa0M\\xa0I\\xa0\\xa0567']\n",
      "['', None, 'COMP\\xa0SCI/\\u200bB\\xa0M\\xa0I\\xa0\\xa0576']\n",
      "['', None, 'COMP\\xa0SCI\\xa0577']\n",
      "['', None, 'SOC\\xa0351']\n",
      "['', None, 'SOC/\\u200bC&E\\xa0SOC\\xa0\\xa0693']\n",
      "['', None, 'STAT\\xa0433']\n"
     ]
    }
   ],
   "source": [
    "def replace_None(table):\n",
    "    for element in table:\n",
    "        for e in element:\n",
    "            if e == None:\n",
    "                e == \"\"\n",
    "        print(element)\n",
    "        \n",
    "replace_None(tb)"
   ]
  },
  {
   "cell_type": "code",
   "execution_count": null,
   "metadata": {},
   "outputs": [],
   "source": []
  }
 ],
 "metadata": {
  "kernelspec": {
   "display_name": "Python 3",
   "language": "python",
   "name": "python3"
  },
  "language_info": {
   "codemirror_mode": {
    "name": "ipython",
    "version": 3
   },
   "file_extension": ".py",
   "mimetype": "text/x-python",
   "name": "python",
   "nbconvert_exporter": "python",
   "pygments_lexer": "ipython3",
   "version": "3.8.8"
  }
 },
 "nbformat": 4,
 "nbformat_minor": 4
}
