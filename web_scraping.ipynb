{
 "cells": [
  {
   "cell_type": "code",
   "execution_count": 1,
   "metadata": {},
   "outputs": [],
   "source": [
    "from bs4 import BeautifulSoup\n",
    "import requests\n",
    "import pandas as pd\n",
    "import re"
   ]
  },
  {
   "cell_type": "code",
   "execution_count": 2,
   "metadata": {},
   "outputs": [],
   "source": [
    "url = \"https://guide.wisc.edu/undergraduate/letters-science/statistics/data-science-bs/#requirementstext\"\n",
    "page = requests.get(url)"
   ]
  },
  {
   "cell_type": "code",
   "execution_count": 3,
   "metadata": {},
   "outputs": [],
   "source": [
    "text = BeautifulSoup(page.text, \"html.parser\")"
   ]
  },
  {
   "cell_type": "code",
   "execution_count": 4,
   "metadata": {},
   "outputs": [],
   "source": [
    "## Search for course catalogue number\n",
    "#Search for required credits\n",
    "credit = text.findAll(\"td\", {\"class\": \"hourscol\" })\n",
    "credit\n",
    "# Search for tags with class \n",
    "classtags= text.findAll(\"td\", {\"class\": \"codecol\"})\n",
    "def mod_class(classn):\n",
    "    str_class = classn.text\n",
    "    mod_class = str_class.replace(u'\\xa0',' ')\n",
    "    return mod_class\n",
    "#str_class\n",
    "## Create dictionary of class lik"
   ]
  },
  {
   "cell_type": "code",
   "execution_count": 5,
   "metadata": {},
   "outputs": [],
   "source": [
    "for classn in classtags:\n",
    "    mod_class(classn)"
   ]
  },
  {
   "cell_type": "code",
   "execution_count": 7,
   "metadata": {},
   "outputs": [
    {
     "name": "stdout",
     "output_type": "stream",
     "text": [
      "[<td class=\"hourscol\">18</td>] None None\n",
      "[<td class=\"hourscol\"></td>] None None\n",
      "[<td class=\"hourscol\">3</td>] Machine Learning None\n",
      "[<td class=\"hourscol\"></td>] None None\n",
      "[<td class=\"hourscol\"></td>] None COMP SCI/​E C E/​M E  532\n",
      "[<td class=\"hourscol\"></td>] None COMP SCI/​E C E/​M E  539\n",
      "[<td class=\"hourscol\"></td>] None COMP SCI 540\n",
      "[<td class=\"hourscol\"></td>] None MATH 535\n",
      "[<td class=\"hourscol\"></td>] None STAT 451\n",
      "[<td class=\"hourscol\"></td>] None STAT 453\n",
      "[<td class=\"hourscol\">3</td>] Advanced Computing None\n",
      "[<td class=\"hourscol\"></td>] None None\n",
      "[<td class=\"hourscol\"></td>] None COMP SCI 400\n",
      "[<td class=\"hourscol\"></td>] None COMP SCI 412\n",
      "[<td class=\"hourscol\"></td>] None COMP SCI/​STAT  471\n",
      "[<td class=\"hourscol\"></td>] None COMP SCI/​MATH  513\n",
      "[<td class=\"hourscol\"></td>] None COMP SCI/​MATH  514\n",
      "[<td class=\"hourscol\"></td>] None COMP SCI/​E C E/​I SY E  524\n",
      "[<td class=\"hourscol\"></td>] None COMP SCI 564\n",
      "[<td class=\"hourscol\"></td>] None GEOG 573\n",
      "[<td class=\"hourscol\"></td>] None GEOG 574\n",
      "[<td class=\"hourscol\">3</td>] Statistical Modeling None\n",
      "[<td class=\"hourscol\"></td>] None None\n",
      "[<td class=\"hourscol\"></td>] None ECON 400\n",
      "[<td class=\"hourscol\"></td>] None ECON 410\n",
      "[<td class=\"hourscol\"></td>] None STAT/​MATH  309\n",
      "[<td class=\"hourscol\"></td>] None STAT/​MATH  310\n",
      "[<td class=\"hourscol\"></td>] None STAT 311\n",
      "[<td class=\"hourscol\"></td>] None STAT 312\n",
      "[<td class=\"hourscol\"></td>] None STAT 349\n",
      "[<td class=\"hourscol\"></td>] None STAT 351\n",
      "[<td class=\"hourscol\"></td>] None STAT 421\n",
      "[<td class=\"hourscol\"></td>] None STAT/​M E  424\n",
      "[<td class=\"hourscol\"></td>] None STAT/​MATH  431\n",
      "[<td class=\"hourscol\"></td>] None STAT 443\n",
      "[<td class=\"hourscol\"></td>] None STAT 456\n",
      "[<td class=\"hourscol\"></td>] None STAT 461\n",
      "[<td class=\"hourscol\"></td>] None MATH 531\n",
      "[<td class=\"hourscol\"></td>] None MATH/​I SY E/​OTM/​STAT  632\n",
      "[<td class=\"hourscol\"></td>] None MATH 635\n",
      "[<td class=\"hourscol\">0-3</td>] Linear Algebra None\n",
      "[<td class=\"hourscol\"></td>] None None\n",
      "[<td class=\"hourscol\"></td>] None MATH 320\n",
      "[<td class=\"hourscol\"></td>] None MATH 340\n",
      "[<td class=\"hourscol\"></td>] None MATH 341\n",
      "[<td class=\"hourscol\"></td>] None MATH 375\n",
      "[<td class=\"hourscol\"></td>] None COMP SCI/​E C E/​M E  532\n",
      "[<td class=\"hourscol\">6-9</td>] Other Electives None\n",
      "[<td class=\"hourscol\"></td>] None None\n",
      "[<td class=\"hourscol\"></td>] None E C E 203\n",
      "[<td class=\"hourscol\"></td>] None ECON 570\n",
      "[<td class=\"hourscol\"></td>] None GEOG 572\n",
      "[<td class=\"hourscol\"></td>] None GEOG 575\n",
      "[<td class=\"hourscol\"></td>] None I SY E 323\n",
      "[<td class=\"hourscol\"></td>] None I SY E 412\n",
      "[<td class=\"hourscol\"></td>] None I SY E/​M E  512\n",
      "[<td class=\"hourscol\"></td>] None I SY E 575\n",
      "[<td class=\"hourscol\"></td>] None I SY E 612\n",
      "[<td class=\"hourscol\"></td>] None COMP SCI/​I SY E/​MATH  425\n",
      "[<td class=\"hourscol\"></td>] None COMP SCI/​I SY E/​MATH/​STAT  525\n",
      "[<td class=\"hourscol\"></td>] None COMP SCI/​E C E  533\n",
      "[<td class=\"hourscol\"></td>] None COMP SCI 559\n",
      "[<td class=\"hourscol\"></td>] None COMP SCI/​B M I  567\n",
      "[<td class=\"hourscol\"></td>] None COMP SCI/​B M I  576\n",
      "[<td class=\"hourscol\"></td>] None COMP SCI 577\n",
      "[<td class=\"hourscol\"></td>] None SOC 351\n",
      "[<td class=\"hourscol\"></td>] None SOC/​C&E SOC  693\n",
      "[<td class=\"hourscol\"></td>] None STAT 433\n"
     ]
    }
   ],
   "source": [
    "table = text.findAll(\"tbody\")[4]\n",
    "table_tr = table.findAll(\"tr\")\n",
    "#table.findAll(\"span\",{\"class\":\"courselistcomment areasubheader undefined\"})\n",
    "def get_ele(x):\n",
    "    for ele in x:\n",
    "        return ele.get_text()\n",
    "for row in table_tr:\n",
    "    credits = row.findAll(\"td\", {\"class\": \"hourscol\" })\n",
    "    catg = row.findAll(\"span\",{\"class\":\"courselistcomment areasubheader undefined\"})\n",
    "    catg = get_ele(catg)\n",
    "    classtags= row.findAll(\"td\", {\"class\": \"codecol\"})\n",
    "    classtags = get_ele(classtags)\n",
    "    print(credits,catg,classtags)"
   ]
  },
  {
   "cell_type": "code",
   "execution_count": null,
   "metadata": {},
   "outputs": [],
   "source": []
  }
 ],
 "metadata": {
  "kernelspec": {
   "display_name": "Python 3",
   "language": "python",
   "name": "python3"
  },
  "language_info": {
   "codemirror_mode": {
    "name": "ipython",
    "version": 3
   },
   "file_extension": ".py",
   "mimetype": "text/x-python",
   "name": "python",
   "nbconvert_exporter": "python",
   "pygments_lexer": "ipython3",
   "version": "3.8.8"
  }
 },
 "nbformat": 4,
 "nbformat_minor": 4
}
