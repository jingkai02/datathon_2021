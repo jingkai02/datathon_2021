{
 "cells": [
  {
   "cell_type": "code",
   "execution_count": 23,
   "metadata": {},
   "outputs": [],
   "source": [
    "from bs4 import BeautifulSoup\n",
    "import requests\n",
    "import pandas as pd\n",
    "import re"
   ]
  },
  {
   "cell_type": "code",
   "execution_count": 24,
   "metadata": {},
   "outputs": [],
   "source": [
    "url = \"https://guide.wisc.edu/undergraduate/letters-science/statistics/data-science-bs/#requirementstext\"\n",
    "\n",
    "page = requests.get(url)"
   ]
  },
  {
   "cell_type": "code",
   "execution_count": 25,
   "metadata": {},
   "outputs": [],
   "source": [
    "text = BeautifulSoup(page.text, \"html.parser\")"
   ]
  },
  {
   "cell_type": "code",
   "execution_count": 72,
   "metadata": {},
   "outputs": [],
   "source": [
    "## Search for course catalogue number\n",
    "#Search for required credits\n",
    "credit = text.findAll(\"td\", {\"class\": \"hourscol\" })\n",
    "credit\n",
    "# Search for tags with class \n",
    "classtags= text.findAll(\"td\", {\"class\": \"codecol\"})\n",
    "def mod_class(classn):\n",
    "    str_class = classn.text\n",
    "    mod_class = str_class.replace(u'\\xa0',' ')\n",
    "    return mod_class\n",
    "#str_class\n",
    "## Create dictionary of class lik"
   ]
  },
  {
   "cell_type": "code",
   "execution_count": 76,
   "metadata": {},
   "outputs": [],
   "source": [
    "for classn in classtags:\n",
    "    mod_class(classn)"
   ]
  },
  {
   "cell_type": "code",
   "execution_count": 78,
   "metadata": {},
   "outputs": [
    {
     "data": {
      "text/plain": [
       "<table class=\"sc_courselist\" width=\"100%\"> <caption class=\"hidden noscript\">Course List</caption> <colgroup> <col class=\"codecol\"/> <col class=\"titlecol\"/> <col align=\"char\" char=\".\" class=\"hourscol\"/> </colgroup> <thead> <tr class=\"hidden noscript\"> <th scope=\"col\">Code</th> <th scope=\"col\">Title</th> <th class=\"hourscol\" scope=\"col\">Credits</th> </tr> </thead> <tbody> <tr class=\"even areaheader firstrow\"><td colspan=\"2\"><span class=\"courselistcomment areaheader\">Foundational Math Courses</span></td><td class=\"hourscol\"></td></tr> <tr class=\"odd\"><td class=\"codecol\"><a class=\"bubblelink code\" href=\"/search/?P=MATH%20221\" onclick=\"return showCourse(this, 'MATH 221');\" title=\"MATH 221\">MATH 221</a></td><td> <i aria-hidden=\"true\" class=\"fa fa-graduation-cap\"></i>  Calculus and Analytic Geometry 1</td><td class=\"hourscol\">5</td></tr> <tr class=\"orclass odd\"><td class=\"codecol orclass\">or <a class=\"bubblelink code\" href=\"/search/?P=MATH%20217\" onclick=\"return showCourse(this, 'MATH 217');\" title=\"MATH 217\">MATH 217</a></td><td colspan=\"2\"> <i aria-hidden=\"true\" class=\"fa fa-graduation-cap\"></i>  Calculus with Algebra and Trigonometry II</td></tr> <tr class=\"orclass odd\"><td class=\"codecol orclass\">or <a class=\"bubblelink code\" href=\"/search/?P=MATH%20275\" onclick=\"return showCourse(this, 'MATH 275');\" title=\"MATH 275\">MATH 275</a></td><td colspan=\"2\"> <i aria-hidden=\"true\" class=\"fa fa-graduation-cap\"></i>  Topics in Calculus I</td></tr> <tr class=\"even lastrow\"><td class=\"codecol\"><a class=\"bubblelink code\" href=\"/search/?P=MATH%20222\" onclick=\"return showCourse(this, 'MATH 222');\" title=\"MATH 222\">MATH 222</a></td><td> <i aria-hidden=\"true\" class=\"fa fa-graduation-cap\"></i>  Calculus and Analytic Geometry 2</td><td class=\"hourscol\">4</td></tr> <tr class=\"orclass even lastrow\"><td class=\"codecol orclass\">or <a class=\"bubblelink code\" href=\"/search/?P=MATH%20276\" onclick=\"return showCourse(this, 'MATH 276');\" title=\"MATH 276\">MATH 276</a></td><td colspan=\"2\"> <i aria-hidden=\"true\" class=\"fa fa-graduation-cap\"></i>  Topics in Calculus II</td></tr> </tbody> </table>"
      ]
     },
     "execution_count": 78,
     "metadata": {},
     "output_type": "execute_result"
    }
   ],
   "source": [
    "table = text.findAll(\"table\", {\"class\": \"sc_courselist\" })\n",
    "for row in table:\n",
    "    "
   ]
  },
  {
   "cell_type": "code",
   "execution_count": null,
   "metadata": {},
   "outputs": [],
   "source": []
  }
 ],
 "metadata": {
  "kernelspec": {
   "display_name": "Python 3",
   "language": "python",
   "name": "python3"
  },
  "language_info": {
   "codemirror_mode": {
    "name": "ipython",
    "version": 3
   },
   "file_extension": ".py",
   "mimetype": "text/x-python",
   "name": "python",
   "nbconvert_exporter": "python",
   "pygments_lexer": "ipython3",
   "version": "3.8.8"
  }
 },
 "nbformat": 4,
 "nbformat_minor": 4
}
