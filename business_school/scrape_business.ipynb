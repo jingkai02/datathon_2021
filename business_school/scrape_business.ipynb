{
 "cells": [
  {
   "cell_type": "markdown",
   "metadata": {},
   "source": [
    "# Wisconsin School of Business\n",
    "This document contains the code to scrape major requirements for the Wisconsin School of Business\n",
    "\n",
    "## Part 1: Specific Major requirements\n",
    "In this first section, we will first scrape specific major requirements before moving on to general BBA requirements."
   ]
  },
  {
   "cell_type": "code",
   "execution_count": 1,
   "metadata": {},
   "outputs": [],
   "source": [
    "from bs4 import BeautifulSoup\n",
    "import requests\n",
    "import pandas as pd\n",
    "import re"
   ]
  },
  {
   "cell_type": "code",
   "execution_count": 2,
   "metadata": {},
   "outputs": [],
   "source": [
    "# For now, we will use Finance as a sample major to test as it looks to combine all the elements we want.\n",
    "\n",
    "url = \"https://guide.wisc.edu/undergraduate/business/finance/business-finance-investment-banking-bba/index.html#requirementstext\"\n",
    "page = requests.get(url)"
   ]
  },
  {
   "cell_type": "code",
   "execution_count": 19,
   "metadata": {},
   "outputs": [],
   "source": [
    "# Some helper functions to make our life easier\n",
    "\n",
    "def get_ele(x):\n",
    "    for ele in x:\n",
    "        return ele.get_text()\n",
    "    \n",
    "def replace_that(table):\n",
    "    ## Consider all the different possible types of rows\n",
    "    a = []\n",
    "    for row in table:\n",
    "        r = []\n",
    "        credits = row.findAll(\"td\", {\"class\": \"hourscol\" })\n",
    "        credits = get_ele(credits)\n",
    "        r.append(credits)\n",
    "        \n",
    "        catg = row.findAll(\"h2\",{\"name\":\"requirementstext\"})\n",
    "        catg = get_ele(catg)\n",
    "        r.append(catg)\n",
    "        \n",
    "        classtags= row.findAll(\"td\", {\"class\": \"codecol\"})\n",
    "        if len(classtags) > 0:\n",
    "            classtags = get_ele(classtags).replace(u'\\xa0',' ')\n",
    "            classtags = classtags.replace(u'\\u200b',' ')\n",
    "        r.append(classtags)\n",
    "        \n",
    "        ## Add row if got course list comment\n",
    "        \n",
    "        comments = row.findAll(\"span\", {\"class\": \"courselistcomment\"})\n",
    "        comments = get_ele(comments)\n",
    "        r.append(comments)\n",
    "        \n",
    "        a.append(r)\n",
    "    return(a)\n",
    "\n",
    "# Clean up tb\n",
    "def clean_up(tb, cat = \"None\"):\n",
    "    categories = []\n",
    "    for row in tb:\n",
    "        ## Categories\n",
    "        if row[0] != None and len(row[0]) > 0:\n",
    "            ## Categories\n",
    "            if row[0]==\"1\":\n",
    "                row[0] = round(int(row[0])/3)\n",
    "            elif row[0] in [\"3\",\"4\"]:\n",
    "                row[0] = round(int(row[0])/3)\n",
    "            category = ({\"Name\":cat},\n",
    "                        row[0],[row[2]])\n",
    "            categories.append(category)\n",
    "        elif len(row[2]) > 0:\n",
    "            category[-1].append(row[2].replace('or ',''))\n",
    "    return categories"
   ]
  },
  {
   "cell_type": "code",
   "execution_count": 2,
   "metadata": {},
   "outputs": [],
   "source": [
    "# General function to scrape major info from url\n",
    "\n",
    "def scrape_business(url):\n",
    "    ## Scrape url for page content\n",
    "    #page = requests.get(url)\n",
    "    \n",
    "    ## Get page content\n",
    "    text = BeautifulSoup(page.text, \"html.parser\")\n",
    "    tables = text.findAll(\"table\", {\"class\": \"sc_courselist\" })\n",
    "\n",
    "    bba_req = tables[0]\n",
    "    \n",
    "    # We will repeat the info extraction process for each table\n",
    "    for table in range(1:len(tables)):\n",
    "        #TODO: Extract the necessary info from each table\n",
    "    \n",
    "    return(url)"
   ]
  },
  {
   "cell_type": "code",
   "execution_count": 20,
   "metadata": {},
   "outputs": [
    {
     "data": {
      "text/plain": [
       "[['3', None, 'MATH 213', None],\n",
       " [None, None, 'or MATH 222', None],\n",
       " ['3', None, 'ACCT I S 301', None],\n",
       " ['3', None, 'FINANCE/ ECON  320', None],\n",
       " ['3', None, 'FINANCE 325', None],\n",
       " ['3', None, 'FINANCE 330', None],\n",
       " ['3-4', None, [], 'Select one of the following:'],\n",
       " ['', None, 'FINANCE 305', None],\n",
       " ['', None, 'ECON 301', None],\n",
       " ['', None, 'ECON 302', None],\n",
       " ['', None, 'ECON 311', None],\n",
       " ['', None, 'ECON 312', None],\n",
       " ['', None, 'ECON 330', None],\n",
       " ['3', None, [], 'Complete one 3-credit Finance course numbered above 400'],\n",
       " ['21-22', None, [], None]]"
      ]
     },
     "execution_count": 20,
     "metadata": {},
     "output_type": "execute_result"
    }
   ],
   "source": [
    "text = BeautifulSoup(page.text, \"html.parser\")\n",
    "tables = text.findAll(\"table\", {\"class\": \"sc_courselist\" })\n",
    "major_tbody = tables[1].findAll(\"tbody\")\n",
    "major_tr=major_tbody[0].findAll(\"tr\")\n",
    "major_req = replace_that(major_tr)\n",
    "major_req"
   ]
  },
  {
   "cell_type": "code",
   "execution_count": 16,
   "metadata": {},
   "outputs": [
    {
     "data": {
      "text/plain": [
       "[<tr class=\"even firstrow\"><td class=\"codecol\"><a class=\"bubblelink code\" href=\"/search/?P=MATH%20213\" onclick=\"return showCourse(this, 'MATH 213');\" title=\"MATH 213\">MATH 213</a></td><td> <i aria-hidden=\"true\" class=\"fa fa-graduation-cap\"></i>  Calculus and Introduction to Differential Equations</td><td class=\"hourscol\">3</td></tr>,\n",
       " <tr class=\"orclass even firstrow\"><td class=\"codecol orclass\">or <a class=\"bubblelink code\" href=\"/search/?P=MATH%20222\" onclick=\"return showCourse(this, 'MATH 222');\" title=\"MATH 222\">MATH 222</a></td><td colspan=\"2\"> <i aria-hidden=\"true\" class=\"fa fa-graduation-cap\"></i>  Calculus and Analytic Geometry 2</td></tr>,\n",
       " <tr class=\"odd\"><td class=\"codecol\"><a class=\"bubblelink code\" href=\"/search/?P=ACCT%20I%20S%20301\" onclick=\"return showCourse(this, 'ACCT I S 301');\" title=\"ACCT I S 301\">ACCT I S 301</a></td><td> Financial Reporting I</td><td class=\"hourscol\">3</td></tr>,\n",
       " <tr class=\"even\"><td class=\"codecol\"><a class=\"bubblelink code\" href=\"/search/?P=FINANCE%20320\" onclick=\"return showCourse(this, 'FINANCE 320');\" title=\"FINANCE/​ECON  320\">FINANCE/​ECON  320</a></td><td> Investment Theory</td><td class=\"hourscol\">3</td></tr>,\n",
       " <tr class=\"odd\"><td class=\"codecol\"><a class=\"bubblelink code\" href=\"/search/?P=FINANCE%20325\" onclick=\"return showCourse(this, 'FINANCE 325');\" title=\"FINANCE 325\">FINANCE 325</a></td><td> Corporation Finance</td><td class=\"hourscol\">3</td></tr>,\n",
       " <tr class=\"even\"><td class=\"codecol\"><a class=\"bubblelink code\" href=\"/search/?P=FINANCE%20330\" onclick=\"return showCourse(this, 'FINANCE 330');\" title=\"FINANCE 330\">FINANCE 330</a></td><td> Derivative Securities</td><td class=\"hourscol\">3</td></tr>,\n",
       " <tr class=\"odd\"><td colspan=\"2\"><span class=\"courselistcomment\">Select one of the following:</span></td><td class=\"hourscol\">3-4</td></tr>,\n",
       " <tr class=\"even\"><td class=\"codecol\"><div class=\"blockindent\" style=\"margin-left:20px;\"><a class=\"bubblelink code\" href=\"/search/?P=FINANCE%20305\" onclick=\"return showCourse(this, 'FINANCE 305');\" title=\"FINANCE 305\">FINANCE 305</a></div></td><td> Financial Markets, Institutions and Economic Activity</td><td class=\"hourscol\"></td></tr>,\n",
       " <tr class=\"odd\"><td class=\"codecol\"><div class=\"blockindent\" style=\"margin-left:20px;\"><a class=\"bubblelink code\" href=\"/search/?P=ECON%20301\" onclick=\"return showCourse(this, 'ECON 301');\" title=\"ECON 301\">ECON 301</a></div></td><td> Intermediate Microeconomic Theory</td><td class=\"hourscol\"></td></tr>,\n",
       " <tr class=\"even\"><td class=\"codecol\"><div class=\"blockindent\" style=\"margin-left:20px;\"><a class=\"bubblelink code\" href=\"/search/?P=ECON%20302\" onclick=\"return showCourse(this, 'ECON 302');\" title=\"ECON 302\">ECON 302</a></div></td><td> Intermediate Macroeconomic Theory</td><td class=\"hourscol\"></td></tr>,\n",
       " <tr class=\"odd\"><td class=\"codecol\"><div class=\"blockindent\" style=\"margin-left:20px;\"><a class=\"bubblelink code\" href=\"/search/?P=ECON%20311\" onclick=\"return showCourse(this, 'ECON 311');\" title=\"ECON 311\">ECON 311</a></div></td><td> Intermediate Microeconomic Theory - Advanced Treatment</td><td class=\"hourscol\"></td></tr>,\n",
       " <tr class=\"even\"><td class=\"codecol\"><div class=\"blockindent\" style=\"margin-left:20px;\"><a class=\"bubblelink code\" href=\"/search/?P=ECON%20312\" onclick=\"return showCourse(this, 'ECON 312');\" title=\"ECON 312\">ECON 312</a></div></td><td> Intermediate Macroeconomic Theory - Advanced Treatment</td><td class=\"hourscol\"></td></tr>,\n",
       " <tr class=\"odd\"><td class=\"codecol\"><div class=\"blockindent\" style=\"margin-left:20px;\"><a class=\"bubblelink code\" href=\"/search/?P=ECON%20330\" onclick=\"return showCourse(this, 'ECON 330');\" title=\"ECON 330\">ECON 330</a></div></td><td> Money and Banking</td><td class=\"hourscol\"></td></tr>,\n",
       " <tr class=\"even lastrow\"><td colspan=\"2\"><span class=\"courselistcomment\">Complete one 3-credit Finance course numbered above 400</span> <sup>1</sup></td><td class=\"hourscol\">3</td></tr>,\n",
       " <tr class=\"listsum\"><td colspan=\"2\">Total Credits</td><td class=\"hourscol\">21-22</td></tr>]"
      ]
     },
     "execution_count": 16,
     "metadata": {},
     "output_type": "execute_result"
    }
   ],
   "source": [
    "major_tr"
   ]
  }
 ],
 "metadata": {
  "kernelspec": {
   "display_name": "Python 3",
   "language": "python",
   "name": "python3"
  },
  "language_info": {
   "codemirror_mode": {
    "name": "ipython",
    "version": 3
   },
   "file_extension": ".py",
   "mimetype": "text/x-python",
   "name": "python",
   "nbconvert_exporter": "python",
   "pygments_lexer": "ipython3",
   "version": "3.7.6"
  }
 },
 "nbformat": 4,
 "nbformat_minor": 4
}
