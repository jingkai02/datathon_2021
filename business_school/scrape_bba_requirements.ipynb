{
 "cells": [
  {
   "cell_type": "markdown",
   "metadata": {},
   "source": [
    "# Wisconsin School of Business\n",
    "This document contains the code to scrape major requirements for the Wisconsin School of Business\n",
    "\n",
    "## Part 1: Specific Major requirements\n",
    "In this first section, we will first scrape specific major requirements before moving on to general BBA requirements."
   ]
  },
  {
   "cell_type": "code",
   "execution_count": 4,
   "metadata": {},
   "outputs": [],
   "source": [
    "from bs4 import BeautifulSoup\n",
    "import requests\n",
    "import pandas as pd\n",
    "import re"
   ]
  },
  {
   "cell_type": "code",
   "execution_count": 5,
   "metadata": {},
   "outputs": [],
   "source": [
    "# For now, we will use Finance as a sample major to test as it looks to combine all the elements we want.\n",
    "\n",
    "url = \"https://guide.wisc.edu/undergraduate/business/finance/business-finance-investment-banking-bba/index.html#requirementstext\"\n",
    "page = requests.get(url)"
   ]
  },
  {
   "cell_type": "code",
   "execution_count": 10,
   "metadata": {},
   "outputs": [],
   "source": [
    "# Some helper functions to make our life easier\n",
    "\n",
    "def get_ele(x):\n",
    "    for ele in x:\n",
    "        return ele.get_text()\n",
    "    \n",
    "def replace_that(table):\n",
    "    a = []\n",
    "    for row in table:\n",
    "        r = []\n",
    "        credits = row.findAll(\"td\", {\"class\": \"hourscol\" })\n",
    "        credits = get_ele(credits)\n",
    "        r.append(credits)\n",
    "        \n",
    "        catg = row.findAll(\"h2\",{\"name\":\"requirementstext\"})\n",
    "        catg = get_ele(catg)\n",
    "        r.append(catg)\n",
    "        \n",
    "        classtags= row.findAll(\"td\", {\"class\": \"codecol\"})\n",
    "        if len(classtags) > 0:\n",
    "            classtags = get_ele(classtags).replace(u'\\xa0',' ')\n",
    "            classtags = classtags.replace(u'\\u200b',' ')\n",
    "        r.append(classtags)\n",
    "        \n",
    "        a.append(r)\n",
    "    return(a)"
   ]
  },
  {
   "cell_type": "code",
   "execution_count": 2,
   "metadata": {},
   "outputs": [],
   "source": [
    "# General function to scrape major info from url\n",
    "\n",
    "def scrape_business(url):\n",
    "    ## Scrape url for page content\n",
    "    #page = requests.get(url)\n",
    "    \n",
    "    ## Get page content\n",
    "    text = BeautifulSoup(page.text, \"html.parser\")\n",
    "    tables = text.findAll(\"table\", {\"class\": \"sc_courselist\" })\n",
    "\n",
    "    bba_req = tables[0]\n",
    "    \n",
    "    # We will repeat the info extraction process for each table\n",
    "    for table in range(1:len(tables)):\n",
    "        \n",
    "    \n",
    "    return(url)"
   ]
  },
  {
   "cell_type": "code",
   "execution_count": null,
   "metadata": {},
   "outputs": [],
   "source": []
  },
  {
   "cell_type": "code",
   "execution_count": 17,
   "metadata": {},
   "outputs": [],
   "source": [
    "text = BeautifulSoup(page.text, \"html.parser\")\n",
    "tables = text.findAll(\"table\", {\"class\": \"sc_courselist\" })\n"
   ]
  }
 ],
 "metadata": {
  "kernelspec": {
   "display_name": "Python 3",
   "language": "python",
   "name": "python3"
  },
  "language_info": {
   "codemirror_mode": {
    "name": "ipython",
    "version": 3
   },
   "file_extension": ".py",
   "mimetype": "text/x-python",
   "name": "python",
   "nbconvert_exporter": "python",
   "pygments_lexer": "ipython3",
   "version": "3.7.6"
  }
 },
 "nbformat": 4,
 "nbformat_minor": 4
}
