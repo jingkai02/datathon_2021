{
 "cells": [
  {
   "cell_type": "code",
   "execution_count": 4,
   "metadata": {},
   "outputs": [
    {
     "data": {
      "text/plain": [
       "[[[{'Name': 'Foundational Math Courses'}],\n",
       "  [['5', ['MATH 221', 'MATH 217', 'MATH 275']],\n",
       "   ['4', ['MATH 222', 'MATH 276']]]],\n",
       " [[{'Name': 'Foundational Data Science Courses'}],\n",
       "  [['4', ['STAT 240']],\n",
       "   ['4', ['STAT 340']],\n",
       "   ['4', ['COMP SCI 220', 'COMP SCI 300']],\n",
       "   ['4', ['COMP SCI 320']],\n",
       "   ['3-4', ['L I S 461']]]]]"
      ]
     },
     "execution_count": 4,
     "metadata": {},
     "output_type": "execute_result"
    }
   ],
   "source": [
    "data = [[[{'Name': 'Foundational Math Courses'}],\n",
    "  [['5', ['MATH 221', 'MATH 217', 'MATH 275']],\n",
    "   ['4', ['MATH 222', 'MATH 276']]]],\n",
    " [[{'Name': 'Foundational Data Science Courses'}],\n",
    "  [['4', ['STAT 240']],\n",
    "   ['4', ['STAT 340']],\n",
    "   ['4', ['COMP SCI 220', 'COMP SCI 300']],\n",
    "   ['4', ['COMP SCI 320']],\n",
    "   ['3-4', ['L I S 461']]]]]\n",
    "data"
   ]
  },
  {
   "cell_type": "code",
   "execution_count": null,
   "metadata": {},
   "outputs": [],
   "source": [
    "## Implement Monte Carlo Simulation to determine the number of additional credits \n",
    "## This Monte Carlo can be potentially eliminated if we know what classes students are taking.\n",
    "\n",
    "## Step 1: Initialize no of trials\n",
    "\n",
    "## Step 2: Pick random classes from each category to form list of \"classes taken\" in ori Major\n",
    "\n",
    "## Step 3: Compare each class to each category in target Major. For each class, \n",
    "## calculate how many categories the class fulfills in the target major, and sort the classes\n",
    "## taken by that priority\n",
    "\n",
    "## Step 4: Go down the priority list to take turns eliminating categories. \n",
    "\n",
    "## optional: This step could be randomized if we decide to randomize what classes to take. \n",
    "##          we could then find the minimum additional credits we need to take\n",
    "\n",
    "## Step 5: Over all the trials, find the starting classes that result in the least additional classes\n"
   ]
  }
 ],
 "metadata": {
  "kernelspec": {
   "display_name": "Python 3",
   "language": "python",
   "name": "python3"
  },
  "language_info": {
   "codemirror_mode": {
    "name": "ipython",
    "version": 3
   },
   "file_extension": ".py",
   "mimetype": "text/x-python",
   "name": "python",
   "nbconvert_exporter": "python",
   "pygments_lexer": "ipython3",
   "version": "3.7.6"
  }
 },
 "nbformat": 4,
 "nbformat_minor": 4
}
