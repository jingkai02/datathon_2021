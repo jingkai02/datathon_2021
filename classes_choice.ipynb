{
 "cells": [
  {
   "cell_type": "code",
   "execution_count": 8,
   "metadata": {},
   "outputs": [],
   "source": [
    "import random"
   ]
  },
  {
   "cell_type": "code",
   "execution_count": 37,
   "metadata": {},
   "outputs": [
    {
     "data": {
      "text/plain": [
       "[[[{'Name': 'Foundational Math Courses'}],\n",
       "  [[1, ['MATH 221', 'MATH 217', 'MATH 275']], [1, ['MATH 222', 'MATH 276']]]],\n",
       " [[{'Name': 'Foundational Data Science Courses'}],\n",
       "  [[1, ['STAT 240']],\n",
       "   [1, ['STAT 340']],\n",
       "   [1, ['COMP SCI 220', 'COMP SCI 300']],\n",
       "   [1, ['COMP SCI 320']],\n",
       "   [1, ['L I S 461']]]]]"
      ]
     },
     "execution_count": 37,
     "metadata": {},
     "output_type": "execute_result"
    }
   ],
   "source": [
    "data = [[[{'Name': 'Foundational Math Courses'}],\n",
    "  [[1, ['MATH 221', 'MATH 217', 'MATH 275']],\n",
    "   [1, ['MATH 222', 'MATH 276']]]],\n",
    " [[{'Name': 'Foundational Data Science Courses'}],\n",
    "  [[1, ['STAT 240']],\n",
    "   [1, ['STAT 340']],\n",
    "   [1, ['COMP SCI 220', 'COMP SCI 300']],\n",
    "   [1, ['COMP SCI 320']],\n",
    "   [1, ['L I S 461']]]]]\n",
    "data"
   ]
  },
  {
   "cell_type": "code",
   "execution_count": null,
   "metadata": {},
   "outputs": [],
   "source": []
  },
  {
   "cell_type": "code",
   "execution_count": 74,
   "metadata": {},
   "outputs": [],
   "source": [
    "\n",
    "## Implement Monte Carlo Simulation to determine the number of additional credits \n",
    "## This Monte Carlo can be potentially eliminated if we know what classes students are taking.\n",
    "\n",
    "# Function to randomly select classes\n",
    "\n",
    "def sample(category):\n",
    "    samples = random.sample(category[1],category[0])\n",
    "    return samples\n",
    "\n",
    "classes = []\n",
    "\n",
    "## Use recursion to choose classes\n",
    "def choose_classes(class_req):\n",
    "    class_list = []\n",
    "    for req_list in class_req:\n",
    "        for rows in req_list:\n",
    "            if type(rows) == list:\n",
    "                for row in rows:\n",
    "                    if type(row) != dict:\n",
    "                        for classes in row[1]:\n",
    "                            class_list.append(classes)\n",
    "    return class_list\n",
    "\n",
    "## Function for Monte Carlo simulation to find best combis\n",
    "def best_classes(class_req):\n",
    "    \n",
    "    ## Step 1: Initialize no of trials\n",
    "    n = 1000\n",
    "\n",
    "    for i in range(n):\n",
    "\n",
    "    ## Step 2: Pick random classes from each category to form list of \"classes taken\" in ori Major\n",
    "        classes = []\n",
    "        choose_classes(class_req)\n",
    "\n",
    "    ## Step 3: Compare each class to each category in target Major. For each class, \n",
    "    ## calculate how many categories the class fulfills in the target major, and sort the classes\n",
    "    ## taken by that priority\n",
    "    \n",
    "        for i, c in enumerate(classes):\n",
    "            count = 0\n",
    "            \n",
    "            if c in None:\n",
    "                count += 1\n",
    "                \n",
    "            classes\n",
    "\n",
    "    ## Step 4: Go down the priority list to take turns eliminating categories. \n",
    "\n",
    "    ## optional: This step could be randomized if we decide to randomize what classes to take. \n",
    "    ##          we could then find the minimum additional credits we need to take\n",
    "\n",
    "    ## Step 5: Over all the trials, find the starting classes that result in the least additional classes\n"
   ]
  },
  {
   "cell_type": "code",
   "execution_count": 83,
   "metadata": {},
   "outputs": [
    {
     "data": {
      "text/plain": [
       "['MATH 221',\n",
       " 'MATH 217',\n",
       " 'MATH 275',\n",
       " 'MATH 222',\n",
       " 'MATH 276',\n",
       " 'STAT 240',\n",
       " 'STAT 340',\n",
       " 'COMP SCI 220',\n",
       " 'COMP SCI 300',\n",
       " 'COMP SCI 320',\n",
       " 'L I S 461']"
      ]
     },
     "execution_count": 83,
     "metadata": {},
     "output_type": "execute_result"
    }
   ],
   "source": [
    "choose_classes(data)"
   ]
  },
  {
   "cell_type": "code",
   "execution_count": null,
   "metadata": {},
   "outputs": [],
   "source": []
  }
 ],
 "metadata": {
  "kernelspec": {
   "display_name": "Python 3",
   "language": "python",
   "name": "python3"
  },
  "language_info": {
   "codemirror_mode": {
    "name": "ipython",
    "version": 3
   },
   "file_extension": ".py",
   "mimetype": "text/x-python",
   "name": "python",
   "nbconvert_exporter": "python",
   "pygments_lexer": "ipython3",
   "version": "3.7.6"
  }
 },
 "nbformat": 4,
 "nbformat_minor": 4
}
