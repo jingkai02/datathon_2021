{
 "cells": [
  {
   "cell_type": "code",
   "execution_count": 1,
   "metadata": {},
   "outputs": [],
   "source": [
    "from bs4 import BeautifulSoup\n",
    "import requests\n",
    "import pandas as pd\n",
    "import re"
   ]
  },
  {
   "cell_type": "code",
   "execution_count": 2,
   "metadata": {},
   "outputs": [],
   "source": [
    "url = \"https://guide.wisc.edu/undergraduate/letters-science/statistics/data-science-bs/#requirementstext\"\n",
    "\n",
    "page = requests.get(url)"
   ]
  },
  {
   "cell_type": "code",
   "execution_count": 3,
   "metadata": {},
   "outputs": [],
   "source": [
    "text = BeautifulSoup(page.text, \"html.parser\")"
   ]
  },
  {
   "cell_type": "code",
   "execution_count": 4,
   "metadata": {},
   "outputs": [
    {
     "data": {
      "text/plain": [
       "'MATH\\xa0221'"
      ]
     },
     "execution_count": 4,
     "metadata": {},
     "output_type": "execute_result"
    }
   ],
   "source": [
    "## Search for course catalogue number\n",
    "#Search for required credits\n",
    "credit = text.findAll(\"td\", {\"class\": \"hourscol\" })\n",
    "credit\n",
    "# Search for tags with class \n",
    "classtags = text.findAll(\"td\", {\"class\": \"codecol\" })\n",
    "str_class = classtags[0].text\n",
    "mod_class = str_class.replace('\\\\',' ')\n",
    "\n",
    "str_class = re.sub(r\"[a-z]\",\" \",str_class)\n",
    "mod_class\n",
    "#str_class\n",
    "## Create dictionary of class lik"
   ]
  },
  {
   "cell_type": "code",
   "execution_count": 6,
   "metadata": {},
   "outputs": [
    {
     "data": {
      "text/plain": [
       "[[[{'Name': 'Foundational Math Courses'}],\n",
       "  [['5', ['MATH 221', 'MATH 217', 'MATH 275']],\n",
       "   ['4', ['MATH 222', 'MATH 276']]]],\n",
       " [[{'Name': 'Foundational Data Science Courses'}],\n",
       "  [['4', ['STAT 240']],\n",
       "   ['4', ['STAT 340']],\n",
       "   ['4', ['COMP SCI 220', 'COMP SCI 300']],\n",
       "   ['4', ['COMP SCI 320']],\n",
       "   ['3-4', ['L I S 461']]]]]"
      ]
     },
     "execution_count": 6,
     "metadata": {},
     "output_type": "execute_result"
    }
   ],
   "source": [
    "# Get the headings for the previous tables\n",
    "\n",
    "# First, we find all the tables and only keep the tables containing course info\n",
    "tables = text.findAll(\"tbody\")[2:4]\n",
    "\n",
    "table_names = []\n",
    "for table in tables:\n",
    "    table_names.append(table.find(\"span\", {\"class\": \"courselistcomment areaheader\"}).contents[0])\n",
    "\n",
    "DS = []\n",
    "\n",
    "for i,table_name in enumerate(table_names):\n",
    "    ## Append table name\n",
    "    cat = []\n",
    "    cat.append({\"Name\":table_name})\n",
    "    \n",
    "    ## Next, get the required credits\n",
    "    credit = tables[i].findAll(\"tr\")\n",
    "    \n",
    "    flag = 0 # marks the start of the category\n",
    "    categories = []\n",
    "    for row in credit:\n",
    "        # Search for rows containing numbers\n",
    "        if row.find(\"td\",{\"class\":\"hourscol\"}) and len(row.find(\"td\",{\"class\":\"hourscol\"}).text) > 0:\n",
    "            credit = row.find(\"td\",{\"class\":\"hourscol\"}).text\n",
    "\n",
    "            # Start of a section!\n",
    "            if row.find(\"a\"):\n",
    "                class_code = row.find(\"a\").contents[0].replace(u'\\xa0',' ')\n",
    "                categories.append([credit,[class_code]])\n",
    "            \n",
    "        else:\n",
    "            if row.find(\"a\"):\n",
    "                class_code = row.find(\"a\").contents[0].replace(u'\\xa0',' ')\n",
    "                categories[-1][-1].append(class_code)\n",
    "\n",
    "    DS.append([cat,categories])\n",
    "    \n",
    "DS\n"
   ]
  },
  {
   "cell_type": "code",
   "execution_count": 7,
   "metadata": {},
   "outputs": [
    {
     "data": {
      "text/plain": [
       "[({'Name': None}, '18', []),\n",
       " ({'Name': 'Machine Learning'},\n",
       "  '3',\n",
       "  ['COMP SCI/ E C E/ M E  532',\n",
       "   'COMP SCI/ E C E/ M E  539',\n",
       "   'COMP SCI 540',\n",
       "   'MATH 535',\n",
       "   'STAT 451',\n",
       "   'STAT 453']),\n",
       " ({'Name': 'Advanced Computing'},\n",
       "  '3',\n",
       "  ['COMP SCI 400',\n",
       "   'COMP SCI 412',\n",
       "   'COMP SCI/ STAT  471',\n",
       "   'COMP SCI/ MATH  513',\n",
       "   'COMP SCI/ MATH  514',\n",
       "   'COMP SCI/ E C E/ I SY E  524',\n",
       "   'COMP SCI 564',\n",
       "   'GEOG 573',\n",
       "   'GEOG 574']),\n",
       " ({'Name': 'Statistical Modeling'},\n",
       "  '3',\n",
       "  ['ECON 400',\n",
       "   'ECON 410',\n",
       "   'STAT/ MATH  309',\n",
       "   'STAT/ MATH  310',\n",
       "   'STAT 311',\n",
       "   'STAT 312',\n",
       "   'STAT 349',\n",
       "   'STAT 351',\n",
       "   'STAT 421',\n",
       "   'STAT/ M E  424',\n",
       "   'STAT/ MATH  431',\n",
       "   'STAT 443',\n",
       "   'STAT 456',\n",
       "   'STAT 461',\n",
       "   'MATH 531',\n",
       "   'MATH/ I SY E/ OTM/ STAT  632',\n",
       "   'MATH 635']),\n",
       " ({'Name': 'Linear Algebra'},\n",
       "  '0-3',\n",
       "  ['MATH 320',\n",
       "   'MATH 340',\n",
       "   'MATH 341',\n",
       "   'MATH 375',\n",
       "   'COMP SCI/ E C E/ M E  532']),\n",
       " ({'Name': 'Other Electives'},\n",
       "  '6-9',\n",
       "  ['E C E 203',\n",
       "   'ECON 570',\n",
       "   'GEOG 572',\n",
       "   'GEOG 575',\n",
       "   'I SY E 323',\n",
       "   'I SY E 412',\n",
       "   'I SY E/ M E  512',\n",
       "   'I SY E 575',\n",
       "   'I SY E 612',\n",
       "   'COMP SCI/ I SY E/ MATH  425',\n",
       "   'COMP SCI/ I SY E/ MATH/ STAT  525',\n",
       "   'COMP SCI/ E C E  533',\n",
       "   'COMP SCI 559',\n",
       "   'COMP SCI/ B M I  567',\n",
       "   'COMP SCI/ B M I  576',\n",
       "   'COMP SCI 577',\n",
       "   'SOC 351',\n",
       "   'SOC/ C&E SOC  693',\n",
       "   'STAT 433'])]"
      ]
     },
     "execution_count": 7,
     "metadata": {},
     "output_type": "execute_result"
    }
   ],
   "source": [
    "table = text.findAll(\"tbody\")[4]\n",
    "table_tr = table.findAll(\"tr\")\n",
    "\n",
    "def get_ele(x):\n",
    "    for ele in x:\n",
    "        return ele.get_text()\n",
    "def replace_that(table):\n",
    "    a = []\n",
    "    for row in table:\n",
    "        r = []\n",
    "        credits = row.findAll(\"td\", {\"class\": \"hourscol\" })\n",
    "        credits = credits[0].get_text()\n",
    "        catg = row.findAll(\"span\",{\"class\":\"courselistcomment areasubheader undefined\"})\n",
    "        catg = get_ele(catg)\n",
    "        classtags= row.findAll(\"td\", {\"class\": \"codecol\"})\n",
    "        if len(classtags) > 0:\n",
    "            classtags = get_ele(classtags).replace(u'\\xa0',' ')\n",
    "            classtags = classtags.replace(u'\\u200b',' ')\n",
    "        r.append(credits)\n",
    "        r.append(catg)\n",
    "        r.append(classtags)\n",
    "        a.append(r)\n",
    "    return(a)\n",
    "\n",
    "tb = replace_that(table_tr)\n",
    "#tb = list(tb)\n",
    "\n",
    "#Now, we aim to clean up tb\n",
    "\n",
    "categories = []\n",
    "for row in tb:\n",
    "    ## Categories\n",
    "    if len(row[0]) > 0:\n",
    "        ## Categories\n",
    "        category = ({\"Name\":row[1]},row[0],[])\n",
    "        categories.append(category)\n",
    "    elif len(row[2]) > 0:\n",
    "        categories[-1][-1].append(row[2])\n",
    "\n",
    "        \n",
    "categories"
   ]
  },
  {
   "cell_type": "code",
   "execution_count": null,
   "metadata": {},
   "outputs": [],
   "source": []
  }
 ],
 "metadata": {
  "kernelspec": {
   "display_name": "Python 3",
   "language": "python",
   "name": "python3"
  },
  "language_info": {
   "codemirror_mode": {
    "name": "ipython",
    "version": 3
   },
   "file_extension": ".py",
   "mimetype": "text/x-python",
   "name": "python",
   "nbconvert_exporter": "python",
   "pygments_lexer": "ipython3",
   "version": "3.7.6"
  }
 },
 "nbformat": 4,
 "nbformat_minor": 4
}
