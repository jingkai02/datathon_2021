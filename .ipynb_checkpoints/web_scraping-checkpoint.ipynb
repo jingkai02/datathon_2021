{
 "cells": [
  {
   "cell_type": "code",
   "execution_count": 1,
   "metadata": {},
   "outputs": [],
   "source": [
    "from bs4 import BeautifulSoup\n",
    "import requests\n",
    "import pandas as pd\n"
   ]
  },
  {
   "cell_type": "code",
   "execution_count": 2,
   "metadata": {},
   "outputs": [],
   "source": [
    "url = \"https://guide.wisc.edu/undergraduate/letters-science/statistics/data-science-bs/#requirementstext\"\n",
    "\n",
    "page = requests.get(url)"
   ]
  },
  {
   "cell_type": "code",
   "execution_count": 9,
   "metadata": {},
   "outputs": [],
   "source": [
    "text = BeautifulSoup(page.text, \"html.parser\")"
   ]
  },
  {
   "cell_type": "code",
   "execution_count": 13,
   "metadata": {},
   "outputs": [
    {
     "ename": "SyntaxError",
     "evalue": "(unicode error) 'unicodeescape' codec can't decode bytes in position 0-2: truncated \\xXX escape (<ipython-input-13-57d65e0990f1>, line 8)",
     "output_type": "error",
     "traceback": [
      "\u001b[1;36m  File \u001b[1;32m\"<ipython-input-13-57d65e0990f1>\"\u001b[1;36m, line \u001b[1;32m8\u001b[0m\n\u001b[1;33m    mod_class = str_class.replace('\\xa',' ')\u001b[0m\n\u001b[1;37m                                  ^\u001b[0m\n\u001b[1;31mSyntaxError\u001b[0m\u001b[1;31m:\u001b[0m (unicode error) 'unicodeescape' codec can't decode bytes in position 0-2: truncated \\xXX escape\n"
     ]
    }
   ],
   "source": [
    "## Search for course catalogue number\n",
    "#Search for required credits\n",
    "credit = text.findAll(\"td\", {\"class\": \"hourscol\" })\n",
    "credit\n",
    "# Search for tags with class \n",
    "classtags = text.findAll(\"td\", {\"class\": \"codecol\" })\n",
    "str_class = classtags[0].text\n",
    "mod_class = str_class.replace('\\xa',' ')\n",
    "\n",
    "## Create dictionary of class lik"
   ]
  },
  {
   "cell_type": "code",
   "execution_count": null,
   "metadata": {},
   "outputs": [],
   "source": []
  }
 ],
 "metadata": {
  "kernelspec": {
   "display_name": "Python 3",
   "language": "python",
   "name": "python3"
  },
  "language_info": {
   "codemirror_mode": {
    "name": "ipython",
    "version": 3
   },
   "file_extension": ".py",
   "mimetype": "text/x-python",
   "name": "python",
   "nbconvert_exporter": "python",
   "pygments_lexer": "ipython3",
   "version": "3.8.8"
  }
 },
 "nbformat": 4,
 "nbformat_minor": 4
}
