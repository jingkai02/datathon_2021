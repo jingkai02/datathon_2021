{
 "cells": [
  {
   "cell_type": "code",
   "execution_count": 1,
   "metadata": {},
   "outputs": [],
   "source": [
    "import PySimpleGUI as sg\n",
    "import numpy as np\n",
    "from matplotlib.backends.backend_tkagg import FigureCanvasTkAgg\n",
    "import matplotlib\n",
    "import matplotlib.pyplot as plt\n",
    "import pandas as pd\n",
    "import time"
   ]
  },
  {
   "cell_type": "code",
   "execution_count": 2,
   "metadata": {},
   "outputs": [],
   "source": [
    "## Import the datasets\n",
    "\n",
    "%run classes_choice.ipynb"
   ]
  },
  {
   "cell_type": "code",
   "execution_count": 3,
   "metadata": {},
   "outputs": [],
   "source": [
    "# Create dictionary mapping inputs to classes\n",
    "\n",
    "class_dict = {\"Data Science\": DS_DATA,\n",
    "             \"Math\": MATH_DATA,\n",
    "             \"Actuarial Science\":ACT_SCI_DATA}"
   ]
  },
  {
   "cell_type": "code",
   "execution_count": 4,
   "metadata": {},
   "outputs": [],
   "source": [
    "# Render a Matplotlib file from pandas dataframe from input files\n",
    "def render_mpl_table(data, col_width=3.0, row_height=0.625, font_size=14,\n",
    "                     header_color='#40466e', row_colors=['#f1f1f2', 'w'], edge_color='w',\n",
    "                     bbox=[0, 0, 1, 1], header_columns=0,\n",
    "                     ax=None, **kwargs):\n",
    "    if ax is None:\n",
    "        size = (np.array(data.shape[::-1]) + np.array([0, 1])) * np.array([col_width, row_height])\n",
    "        fig, ax = plt.subplots(figsize=size)\n",
    "        ax.axis('off')\n",
    "    mpl_table = ax.table(cellText=data.values, bbox=bbox, colLabels=data.columns, **kwargs)\n",
    "    mpl_table.auto_set_font_size(False)\n",
    "    mpl_table.set_fontsize(font_size)\n",
    "\n",
    "    for k, cell in mpl_table._cells.items():\n",
    "        cell.set_edgecolor(edge_color)\n",
    "        if k[0] == 0 or k[1] < header_columns:\n",
    "            cell.set_text_props(weight='bold', color='w')\n",
    "            cell.set_facecolor(header_color)\n",
    "        else:\n",
    "            cell.set_facecolor(row_colors[k[0]%len(row_colors) ])\n",
    "    return ax.get_figure(), ax\n"
   ]
  },
  {
   "cell_type": "code",
   "execution_count": 5,
   "metadata": {},
   "outputs": [],
   "source": [
    "# Helper function to draw table on interface\n",
    "def draw_figure(canvas, figure):\n",
    "    figure_canvas_agg = FigureCanvasTkAgg(figure, canvas)\n",
    "    figure_canvas_agg.draw()\n",
    "    figure_canvas_agg.get_tk_widget().pack(side=\"top\", fill=\"both\", expand=1)\n",
    "    return figure_canvas_agg"
   ]
  },
  {
   "cell_type": "code",
   "execution_count": 6,
   "metadata": {},
   "outputs": [],
   "source": [
    "# Function that makes the display window\n",
    "def Display():\n",
    "    matplotlib.use(\"TkAgg\")\n",
    "\n",
    "    \n",
    "    # Define the window layout\n",
    "    layout = [\n",
    "        [sg.Text(\"What majors are you interested in?\")],\n",
    "        [sg.Text('Current Major',size=(20, 1),justification='center')],\n",
    "        [sg.Combo(['Data Science','Math','Actuarial Science'],default_value='Data Science',key='current')],\n",
    "        [sg.Text('New Major',size=(20, 1),justification='center')],\n",
    "        [sg.Combo(['Data Science','Math','Actuarial Science'],default_value='Math',key='new')],\n",
    "        [sg.Text(size=(40,3), key='-OUTPUT-')],\n",
    "        [sg.Canvas(key=\"-CANVAS-\")],\n",
    "        [sg.Button('Ok'), sg.Button('Quit')]\n",
    "    ]\n",
    "\n",
    "    # Create the form and show it without the plot\n",
    "    window = sg.Window(\n",
    "        \"Best Classes to Take\",\n",
    "        layout,\n",
    "        location=(0, 0),\n",
    "        finalize=True,\n",
    "        element_justification=\"center\"\n",
    "    )\n",
    "\n",
    "    # Create an event loop\n",
    "    while True:\n",
    "        event, values = window.Read()\n",
    "        \n",
    "        maj_1 = values[\"current\"]\n",
    "        maj_2 = values[\"new\"]\n",
    "        n,class_df = best_classes(class_dict[maj_1],class_dict[maj_2])\n",
    "        \n",
    "            # Making the dataframe into a figure\n",
    "        fig,ax = render_mpl_table(class_df, header_columns=0, col_width=5.0)\n",
    "        fig.savefig(\"test.png\")\n",
    "\n",
    "        # End program if user closes window or\n",
    "        # presses the OK button\n",
    "        if event == sg.WIN_CLOSED or event == 'Quit':\n",
    "            break\n",
    "        \n",
    "        elif event == \"Ok\":\n",
    "            # Add the plot to the window\n",
    "            draw_figure(window[\"-CANVAS-\"].TKCanvas, fig)\n",
    "        \n",
    "        # Output a message to the window\n",
    "        window['-OUTPUT-'].update(\"Recommended classes for \" + maj_1 + '\\n\\n' + str(n) + \" more classes needed to double major\")\n",
    "        \n",
    "    # Finish up by removing from the screen\n",
    "    window.Close()\n",
    "    "
   ]
  },
  {
   "cell_type": "code",
   "execution_count": null,
   "metadata": {},
   "outputs": [],
   "source": [
    "Display()"
   ]
  }
 ],
 "metadata": {
  "kernelspec": {
   "display_name": "Python 3",
   "language": "python",
   "name": "python3"
  },
  "language_info": {
   "codemirror_mode": {
    "name": "ipython",
    "version": 3
   },
   "file_extension": ".py",
   "mimetype": "text/x-python",
   "name": "python",
   "nbconvert_exporter": "python",
   "pygments_lexer": "ipython3",
   "version": "3.7.6"
  }
 },
 "nbformat": 4,
 "nbformat_minor": 4
}
