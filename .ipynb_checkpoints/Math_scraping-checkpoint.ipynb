{
 "cells": [
  {
   "cell_type": "code",
   "execution_count": 1,
   "metadata": {},
   "outputs": [],
   "source": [
    "from bs4 import BeautifulSoup\n",
    "import requests\n",
    "import pandas as pd\n",
    "import re"
   ]
  },
  {
   "cell_type": "code",
   "execution_count": 2,
   "metadata": {},
   "outputs": [],
   "source": [
    "url = \"https://guide.wisc.edu/undergraduate/letters-science/mathematics/mathematics-ba/mathematics-mathematics-data-risk-analysis-ba/#requirementstext\"\n",
    "page = requests.get(url)"
   ]
  },
  {
   "cell_type": "code",
   "execution_count": 3,
   "metadata": {},
   "outputs": [],
   "source": [
    "text = BeautifulSoup(page.text, \"html.parser\")"
   ]
  },
  {
   "cell_type": "code",
   "execution_count": 4,
   "metadata": {},
   "outputs": [],
   "source": [
    "## Search for Core Math Requirement\n",
    "#Search for required credits\n",
    "credit = text.findAll(\"td\", {\"class\": \"hourscol\" })\n",
    "credit\n",
    "# Search for tags with class \n",
    "classtags= text.findAll(\"td\", {\"class\": \"codecol\"})\n",
    "def mod_class(classn):\n",
    "    str_class = classn.text\n",
    "    mod_class = str_class.replace(u'\\xa0',' ')\n",
    "    return mod_class\n",
    "#str_class\n",
    "## Create dictionary of class lik"
   ]
  },
  {
   "cell_type": "code",
   "execution_count": 5,
   "metadata": {},
   "outputs": [],
   "source": [
    "for classn in classtags:\n",
    "    mod_class(classn)"
   ]
  },
  {
   "cell_type": "code",
   "execution_count": 6,
   "metadata": {},
   "outputs": [],
   "source": [
    "# Get the headings for the previous tables\n",
    "\n",
    "# First, we find all the tables and only keep the tables containing course info\n",
    "tables = text.findAll(\"tbody\")\n",
    "\n",
    "#required core part\n",
    "table_names = []\n",
    "#for table in tables[4]:\n",
    "    #table_names.append(table.find(\"span\", {\"class\": \"odd areasubheader undefined\"}))\n"
   ]
  },
  {
   "cell_type": "code",
   "execution_count": 7,
   "metadata": {},
   "outputs": [
    {
     "data": {
      "text/plain": [
       "[({'Name': 'Linear Algebra'},\n",
       "  1,\n",
       "  ['MATH 320', 'MATH 340', 'MATH 341', 'MATH 375']),\n",
       " ({'Name': 'Probability (Complete at least one)'},\n",
       "  1,\n",
       "  ['MATH/ STAT  431', 'MATH/ STAT  309', 'MATH 531']),\n",
       " ({'Name': 'Statistics'}, 1, ['MATH/ STAT  310', 'STAT 312']),\n",
       " ({'Name': 'Intermediate Mathematics Requirement (complete at least one)'},\n",
       "  2,\n",
       "  ['MATH 321& MATH 322', 'MATH 341', 'MATH 375', 'MATH 421']),\n",
       " ({'Name': 'Advanced Mathematics Requirement (select one)'},\n",
       "  1,\n",
       "  ['MATH/ COMP SCI  514', 'MATH 521', 'MATH 531', 'MATH 535', 'MATH 540']),\n",
       " ({'Name': 'Elective to reach required six courses and 18 credits'},\n",
       "  2,\n",
       "  ['MATH/ COMP SCI  513',\n",
       "   'MATH/ COMP SCI  514',\n",
       "   'MATH 519',\n",
       "   'MATH 521',\n",
       "   'MATH 522',\n",
       "   'MATH/ COMP SCI/ I SY E/ STAT  525',\n",
       "   'MATH 531',\n",
       "   'MATH 535',\n",
       "   'MATH 540',\n",
       "   'MATH 541',\n",
       "   'MATH 542',\n",
       "   'MATH 605',\n",
       "   'MATH 619',\n",
       "   'MATH 627',\n",
       "   'MATH 629',\n",
       "   'MATH/ I SY E/ OTM/ STAT  632',\n",
       "   'MATH 635',\n",
       "   'MATH 319',\n",
       "   'MATH 321',\n",
       "   'MATH 322',\n",
       "   'MATH 376',\n",
       "   'MATH 415',\n",
       "   'MATH 421',\n",
       "   'MATH/ COMP SCI/ I SY E  425',\n",
       "   'MATH/ COMP SCI/ E C E  435',\n",
       "   'MATH 443',\n",
       "   'MATH 467',\n",
       "   'MATH/ COMP SCI/ STAT  475']),\n",
       " ({'Name': 'Select a distinct introduction course or sequence: '},\n",
       "  2,\n",
       "  ['STAT 340', 'STAT/ M E  424']),\n",
       " ({'Name': 'Select remaining courses/credits from:'},\n",
       "  3,\n",
       "  ['ACT SCI 650',\n",
       "   'ACT SCI 651',\n",
       "   'ACT SCI 652',\n",
       "   'ACT SCI 653',\n",
       "   'ACT SCI 654',\n",
       "   'ACT SCI 655',\n",
       "   'GEN BUS 656',\n",
       "   'STAT 349',\n",
       "   'STAT 351',\n",
       "   'STAT 411',\n",
       "   'STAT 421',\n",
       "   'STAT 456',\n",
       "   'STAT 461',\n",
       "   'STAT/ COMP SCI  471',\n",
       "   'STAT/ COMP SCI/ MATH  475',\n",
       "   'STAT/ COMP SCI/ I SY E/ MATH  525',\n",
       "   'STAT 575',\n",
       "   'STAT/ I SY E/ MATH/ OTM  632',\n",
       "   'STAT/ B M I  641',\n",
       "   'STAT/ B M I  642'])]"
      ]
     },
     "execution_count": 7,
     "metadata": {},
     "output_type": "execute_result"
    }
   ],
   "source": [
    "## INFO FROM ELECTIVES\n",
    "\n",
    "table = text.findAll(\"tbody\")\n",
    "table_tr = table[0].findAll(\"tr\")\n",
    "\n",
    "def get_ele(x):\n",
    "    for ele in x:\n",
    "        return ele.get_text()\n",
    "def replace_that(table):\n",
    "    a = []\n",
    "    for row in table:\n",
    "        r = []\n",
    "        credits = row.findAll(\"td\", {\"class\": \"hourscol\" })\n",
    "        credits = get_ele(credits)\n",
    "        \n",
    "        catg = row.findAll(\"span\",{\"class\":\"courselistcomment areasubheader undefined\"})\n",
    "        catg = get_ele(catg)\n",
    "        classtags= row.findAll(\"td\", {\"class\": \"codecol\"})\n",
    "        if len(classtags) > 0:\n",
    "            classtags = get_ele(classtags).replace(u'\\xa0',' ')\n",
    "            classtags = classtags.replace(u'\\u200b',' ')\n",
    "        \n",
    "        r.append(credits)\n",
    "        r.append(catg)\n",
    "        r.append(classtags)\n",
    "        a.append(r)\n",
    "    return(a[1:])\n",
    "\n",
    "tb = replace_that(table_tr)\n",
    "#tb = list(tb)\n",
    "\n",
    "#Now, we aim to clean up tb\n",
    "\n",
    "\n",
    "categories = []\n",
    "for row in tb:\n",
    "    ## Categories\n",
    "    if row[0] != None and len(row[0]) > 0:\n",
    "        ## Categories\n",
    "        if row[0] in [\"0-3\",\"3-5\"]:\n",
    "            row[0] = 1\n",
    "        elif row[1] == \"Select a distinct introduction course or sequence: \":\n",
    "            category = ({\"Name\":row[1]},2,['STAT 340','STAT/ M E  424'])\n",
    "            categories.append(category)\n",
    "            pass\n",
    "        elif row[0] in [\"0-6\",\"3-6\"]:\n",
    "            row[0] = 2\n",
    "        elif row[0] == \"6-14\":\n",
    "            row[0] = 3\n",
    "        else:\n",
    "            row[0] = round(int(row[0])/3)\n",
    "        category = ({\"Name\":row[1]},row[0],[])\n",
    "        categories.append(category)\n",
    "    elif len(row[2]) > 0:\n",
    "        categories[-1][-1].append(row[2].replace(\"or \",\"\"))\n",
    "\n",
    "categories = categories[:-1]\n",
    "categories.pop(7)\n",
    "categories"
   ]
  },
  {
   "cell_type": "code",
   "execution_count": null,
   "metadata": {},
   "outputs": [],
   "source": []
  }
 ],
 "metadata": {
  "kernelspec": {
   "display_name": "Python 3",
   "language": "python",
   "name": "python3"
  },
  "language_info": {
   "codemirror_mode": {
    "name": "ipython",
    "version": 3
   },
   "file_extension": ".py",
   "mimetype": "text/x-python",
   "name": "python",
   "nbconvert_exporter": "python",
   "pygments_lexer": "ipython3",
   "version": "3.7.6"
  }
 },
 "nbformat": 4,
 "nbformat_minor": 4
}
