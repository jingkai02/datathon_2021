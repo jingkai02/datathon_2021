{
 "cells": [
  {
   "cell_type": "code",
   "execution_count": 3,
   "metadata": {},
   "outputs": [],
   "source": [
    "from bs4 import BeautifulSoup\n",
    "import requests\n",
    "import pandas as pd\n",
    "import re"
   ]
  },
  {
   "cell_type": "code",
   "execution_count": 29,
   "metadata": {},
   "outputs": [],
   "source": [
    "url = \"https://guide.wisc.edu/undergraduate/letters-science/mathematics/mathematics-ba/mathematics-mathematics-data-risk-analysis-ba/#requirementstext\"\n",
    "page = requests.get(url)"
   ]
  },
  {
   "cell_type": "code",
   "execution_count": 30,
   "metadata": {},
   "outputs": [],
   "source": [
    "text = BeautifulSoup(page.text, \"html.parser\")"
   ]
  },
  {
   "cell_type": "code",
   "execution_count": 31,
   "metadata": {},
   "outputs": [],
   "source": [
    "## Search for Core Math Requirement\n",
    "#Search for required credits\n",
    "credit = text.findAll(\"td\", {\"class\": \"hourscol\" })\n",
    "credit\n",
    "# Search for tags with class \n",
    "classtags= text.findAll(\"td\", {\"class\": \"codecol\"})\n",
    "def mod_class(classn):\n",
    "    str_class = classn.text\n",
    "    mod_class = str_class.replace(u'\\xa0',' ')\n",
    "    return mod_class\n",
    "#str_class\n",
    "## Create dictionary of class lik"
   ]
  },
  {
   "cell_type": "code",
   "execution_count": 32,
   "metadata": {},
   "outputs": [],
   "source": [
    "for classn in classtags:\n",
    "    mod_class(classn)"
   ]
  },
  {
   "cell_type": "code",
   "execution_count": 34,
   "metadata": {},
   "outputs": [
    {
     "name": "stdout",
     "output_type": "stream",
     "text": [
      "<tbody> <tr class=\"even areaheader firstrow\"><td colspan=\"2\"><span class=\"courselistcomment areaheader\">Core Math Requirement (minimum of six distinct MATH courses for at least 18 credits)</span></td><td class=\"hourscol\"></td></tr> <tr class=\"odd areasubheader undefined\"><td colspan=\"2\"><span class=\"courselistcomment areasubheader undefined\">Linear Algebra</span></td><td class=\"hourscol\">3-5</td></tr> <tr class=\"even\"><td class=\"codecol\"><div class=\"blockindent\" style=\"margin-left:20px;\"><a class=\"bubblelink code\" href=\"/search/?P=MATH%20320\" onclick=\"return showCourse(this, 'MATH 320');\" title=\"MATH 320\">MATH 320</a></div></td><td> Linear Algebra and Differential Equations</td><td class=\"hourscol\"></td></tr> <tr class=\"orclass even\"><td class=\"codecol orclass\"><div class=\"blockindent\" style=\"margin-left:20px;\">or <a class=\"bubblelink code\" href=\"/search/?P=MATH%20340\" onclick=\"return showCourse(this, 'MATH 340');\" title=\"MATH 340\">MATH 340</a></div></td><td colspan=\"2\">  Elementary Matrix and Linear Algebra</td></tr> <tr class=\"orclass even\"><td class=\"codecol orclass\"><div class=\"blockindent\" style=\"margin-left:20px;\">or <a class=\"bubblelink code\" href=\"/search/?P=MATH%20341\" onclick=\"return showCourse(this, 'MATH 341');\" title=\"MATH 341\">MATH 341</a></div></td><td colspan=\"2\">  Linear Algebra</td></tr> <tr class=\"orclass even\"><td class=\"codecol orclass\"><div class=\"blockindent\" style=\"margin-left:20px;\">or <a class=\"bubblelink code\" href=\"/search/?P=MATH%20375\" onclick=\"return showCourse(this, 'MATH 375');\" title=\"MATH 375\">MATH 375</a></div></td><td colspan=\"2\">  Topics in Multi-Variable Calculus and Linear Algebra</td></tr> <tr class=\"odd areasubheader undefined\"><td colspan=\"2\"><span class=\"courselistcomment areasubheader undefined\">Probability (Complete at least one)</span></td><td class=\"hourscol\">3</td></tr> <tr class=\"even\"><td class=\"codecol\"><div class=\"blockindent\" style=\"margin-left:20px;\"><a class=\"bubblelink code\" href=\"/search/?P=MATH%20431\" onclick=\"return showCourse(this, 'MATH 431');\" title=\"MATH/​STAT  431\">MATH/​STAT  431</a></div></td><td> Introduction to the Theory of Probability</td><td class=\"hourscol\"></td></tr> <tr class=\"orclass even\"><td class=\"codecol orclass\"><div class=\"blockindent\" style=\"margin-left:20px;\">or <a class=\"bubblelink code\" href=\"/search/?P=MATH%20309\" onclick=\"return showCourse(this, 'MATH 309');\" title=\"MATH/​STAT  309\">MATH/​STAT  309</a></div></td><td colspan=\"2\">  Introduction to Probability and Mathematical Statistics I</td></tr> <tr class=\"odd\"><td class=\"codecol\"><div class=\"blockindent\" style=\"margin-left:20px;\"><a class=\"bubblelink code\" href=\"/search/?P=MATH%20531\" onclick=\"return showCourse(this, 'MATH 531');\" title=\"MATH 531\">MATH 531</a></div></td><td> Probability Theory</td><td class=\"hourscol\"></td></tr> <tr class=\"even areasubheader undefined\"><td colspan=\"2\"><span class=\"courselistcomment areasubheader undefined\">Statistics</span> <sup>1</sup></td><td class=\"hourscol\">3</td></tr> <tr class=\"odd\"><td class=\"codecol\"><div class=\"blockindent\" style=\"margin-left:20px;\"><a class=\"bubblelink code\" href=\"/search/?P=MATH%20310\" onclick=\"return showCourse(this, 'MATH 310');\" title=\"MATH/​STAT  310\">MATH/​STAT  310</a></div></td><td> Introduction to Probability and Mathematical Statistics II</td><td class=\"hourscol\"></td></tr> <tr class=\"orclass odd\"><td class=\"codecol orclass\"><div class=\"blockindent\" style=\"margin-left:20px;\">or <a class=\"bubblelink code\" href=\"/search/?P=STAT%20312\" onclick=\"return showCourse(this, 'STAT 312');\" title=\"STAT 312\">STAT 312</a></div></td><td colspan=\"2\">  Introduction to Theory and Methods of Mathematical Statistics II</td></tr> <tr class=\"even areasubheader undefined\"><td colspan=\"2\"><span class=\"courselistcomment areasubheader undefined\">Intermediate Mathematics Requirement (complete at least one)</span></td><td class=\"hourscol\">0-6</td></tr> <tr class=\"odd\"><td class=\"codecol\"><div class=\"blockindent\" style=\"margin-left:20px;\"><a class=\"bubblelink code\" href=\"/search/?P=MATH%20321\" onclick=\"return showCourse(this, 'MATH 321');\" title=\"MATH 321\">MATH 321</a><br/><span class=\"blockindent\" style=\"margin-left:20px;\">&amp; <a class=\"bubblelink code\" href=\"/search/?P=MATH%20322\" onclick=\"return showCourse(this, 'MATH 322');\" title=\"MATH 322\">MATH 322</a></span></div></td><td> Applied Mathematical Analysis<br/><span class=\"blockindent\" style=\"margin-left:20px;\">and  Applied Mathematical Analysis</span></td><td class=\"hourscol\"></td></tr> <tr class=\"even\"><td class=\"codecol\"><div class=\"blockindent\" style=\"margin-left:20px;\"><a class=\"bubblelink code\" href=\"/search/?P=MATH%20341\" onclick=\"return showCourse(this, 'MATH 341');\" title=\"MATH 341\">MATH 341</a></div></td><td> Linear Algebra</td><td class=\"hourscol\"></td></tr> <tr class=\"odd\"><td class=\"codecol\"><div class=\"blockindent\" style=\"margin-left:20px;\"><a class=\"bubblelink code\" href=\"/search/?P=MATH%20375\" onclick=\"return showCourse(this, 'MATH 375');\" title=\"MATH 375\">MATH 375</a></div></td><td> Topics in Multi-Variable Calculus and Linear Algebra</td><td class=\"hourscol\"></td></tr> <tr class=\"even\"><td class=\"codecol\"><div class=\"blockindent\" style=\"margin-left:20px;\"><a class=\"bubblelink code\" href=\"/search/?P=MATH%20421\" onclick=\"return showCourse(this, 'MATH 421');\" title=\"MATH 421\">MATH 421</a></div></td><td> The Theory of Single Variable Calculus</td><td class=\"hourscol\"></td></tr> <tr class=\"odd areasubheader undefined\"><td colspan=\"2\"><span class=\"courselistcomment areasubheader undefined\">Advanced Mathematics Requirement (select one)</span></td><td class=\"hourscol\">3</td></tr> <tr class=\"even\"><td class=\"codecol\"><div class=\"blockindent\" style=\"margin-left:20px;\"><a class=\"bubblelink code\" href=\"/search/?P=MATH%20514\" onclick=\"return showCourse(this, 'MATH 514');\" title=\"MATH/​COMP SCI  514\">MATH/​COMP SCI  514</a></div></td><td> Numerical Analysis</td><td class=\"hourscol\"></td></tr> <tr class=\"odd\"><td class=\"codecol\"><div class=\"blockindent\" style=\"margin-left:20px;\"><a class=\"bubblelink code\" href=\"/search/?P=MATH%20521\" onclick=\"return showCourse(this, 'MATH 521');\" title=\"MATH 521\">MATH 521</a></div></td><td> Analysis I</td><td class=\"hourscol\"></td></tr> <tr class=\"even\"><td class=\"codecol\"><div class=\"blockindent\" style=\"margin-left:20px;\"><a class=\"bubblelink code\" href=\"/search/?P=MATH%20531\" onclick=\"return showCourse(this, 'MATH 531');\" title=\"MATH 531\">MATH 531</a></div></td><td> Probability Theory</td><td class=\"hourscol\"></td></tr> <tr class=\"odd\"><td class=\"codecol\"><div class=\"blockindent\" style=\"margin-left:20px;\"><a class=\"bubblelink code\" href=\"/search/?P=MATH%20535\" onclick=\"return showCourse(this, 'MATH 535');\" title=\"MATH 535\">MATH 535</a></div></td><td> Mathematical Methods in Data Science</td><td class=\"hourscol\"></td></tr> <tr class=\"even\"><td class=\"codecol\"><div class=\"blockindent\" style=\"margin-left:20px;\"><a class=\"bubblelink code\" href=\"/search/?P=MATH%20540\" onclick=\"return showCourse(this, 'MATH 540');\" title=\"MATH 540\">MATH 540</a></div></td><td> Linear Algebra II</td><td class=\"hourscol\"></td></tr> <tr class=\"odd areasubheader undefined\"><td colspan=\"2\"><span class=\"courselistcomment areasubheader undefined\">Elective to reach required six courses and 18 credits</span></td><td class=\"hourscol\">3-6</td></tr> <tr class=\"even areasubheader undefined\"><td colspan=\"2\"><span class=\"courselistcomment areasubheader undefined\">Select one or more from:</span> <sup>2</sup></td><td class=\"hourscol\"></td></tr> <tr class=\"odd\"><td class=\"codecol\"><div class=\"blockindent\" style=\"margin-left:20px;\"><a class=\"bubblelink code\" href=\"/search/?P=MATH%20513\" onclick=\"return showCourse(this, 'MATH 513');\" title=\"MATH/​COMP SCI  513\">MATH/​COMP SCI  513</a></div></td><td> Numerical Linear Algebra</td><td class=\"hourscol\"></td></tr> <tr class=\"even\"><td class=\"codecol\"><div class=\"blockindent\" style=\"margin-left:20px;\"><a class=\"bubblelink code\" href=\"/search/?P=MATH%20514\" onclick=\"return showCourse(this, 'MATH 514');\" title=\"MATH/​COMP SCI  514\">MATH/​COMP SCI  514</a></div></td><td> Numerical Analysis</td><td class=\"hourscol\"></td></tr> <tr class=\"odd\"><td class=\"codecol\"><div class=\"blockindent\" style=\"margin-left:20px;\"><a class=\"bubblelink code\" href=\"/search/?P=MATH%20519\" onclick=\"return showCourse(this, 'MATH 519');\" title=\"MATH 519\">MATH 519</a></div></td><td> Ordinary Differential Equations</td><td class=\"hourscol\"></td></tr> <tr class=\"even\"><td class=\"codecol\"><div class=\"blockindent\" style=\"margin-left:20px;\"><a class=\"bubblelink code\" href=\"/search/?P=MATH%20521\" onclick=\"return showCourse(this, 'MATH 521');\" title=\"MATH 521\">MATH 521</a></div></td><td> Analysis I</td><td class=\"hourscol\"></td></tr> <tr class=\"odd\"><td class=\"codecol\"><div class=\"blockindent\" style=\"margin-left:20px;\"><a class=\"bubblelink code\" href=\"/search/?P=MATH%20522\" onclick=\"return showCourse(this, 'MATH 522');\" title=\"MATH 522\">MATH 522</a></div></td><td> Analysis II</td><td class=\"hourscol\"></td></tr> <tr class=\"even\"><td class=\"codecol\"><div class=\"blockindent\" style=\"margin-left:20px;\"><a class=\"bubblelink code\" href=\"/search/?P=MATH%20525\" onclick=\"return showCourse(this, 'MATH 525');\" title=\"MATH/​COMP SCI/​I SY E/​STAT  525\">MATH/​COMP SCI/​I SY E/​STAT  525</a></div></td><td> Linear Optimization</td><td class=\"hourscol\"></td></tr> <tr class=\"odd\"><td class=\"codecol\"><div class=\"blockindent\" style=\"margin-left:20px;\"><a class=\"bubblelink code\" href=\"/search/?P=MATH%20531\" onclick=\"return showCourse(this, 'MATH 531');\" title=\"MATH 531\">MATH 531</a></div></td><td> Probability Theory</td><td class=\"hourscol\"></td></tr> <tr class=\"even\"><td class=\"codecol\"><div class=\"blockindent\" style=\"margin-left:20px;\"><a class=\"bubblelink code\" href=\"/search/?P=MATH%20535\" onclick=\"return showCourse(this, 'MATH 535');\" title=\"MATH 535\">MATH 535</a></div></td><td> Mathematical Methods in Data Science</td><td class=\"hourscol\"></td></tr> <tr class=\"odd\"><td class=\"codecol\"><div class=\"blockindent\" style=\"margin-left:20px;\"><a class=\"bubblelink code\" href=\"/search/?P=MATH%20540\" onclick=\"return showCourse(this, 'MATH 540');\" title=\"MATH 540\">MATH 540</a></div></td><td> Linear Algebra II</td><td class=\"hourscol\"></td></tr> <tr class=\"even\"><td class=\"codecol\"><div class=\"blockindent\" style=\"margin-left:20px;\"><a class=\"bubblelink code\" href=\"/search/?P=MATH%20541\" onclick=\"return showCourse(this, 'MATH 541');\" title=\"MATH 541\">MATH 541</a></div></td><td> Modern Algebra</td><td class=\"hourscol\"></td></tr> <tr class=\"odd\"><td class=\"codecol\"><div class=\"blockindent\" style=\"margin-left:20px;\"><a class=\"bubblelink code\" href=\"/search/?P=MATH%20542\" onclick=\"return showCourse(this, 'MATH 542');\" title=\"MATH 542\">MATH 542</a></div></td><td> Modern Algebra</td><td class=\"hourscol\"></td></tr> <tr class=\"even\"><td class=\"codecol\"><div class=\"blockindent\" style=\"margin-left:20px;\"><a class=\"bubblelink code\" href=\"/search/?P=MATH%20605\" onclick=\"return showCourse(this, 'MATH 605');\" title=\"MATH 605\">MATH 605</a></div></td><td> Stochastic Methods for Biology</td><td class=\"hourscol\"></td></tr> <tr class=\"odd\"><td class=\"codecol\"><div class=\"blockindent\" style=\"margin-left:20px;\"><a class=\"bubblelink code\" href=\"/search/?P=MATH%20619\" onclick=\"return showCourse(this, 'MATH 619');\" title=\"MATH 619\">MATH 619</a></div></td><td> Analysis of Partial Differential Equations</td><td class=\"hourscol\"></td></tr> <tr class=\"even\"><td class=\"codecol\"><div class=\"blockindent\" style=\"margin-left:20px;\"><a class=\"bubblelink code\" href=\"/search/?P=MATH%20627\" onclick=\"return showCourse(this, 'MATH 627');\" title=\"MATH 627\">MATH 627</a></div></td><td> Introduction to Fourier Analysis</td><td class=\"hourscol\"></td></tr> <tr class=\"odd\"><td class=\"codecol\"><div class=\"blockindent\" style=\"margin-left:20px;\"><a class=\"bubblelink code\" href=\"/search/?P=MATH%20629\" onclick=\"return showCourse(this, 'MATH 629');\" title=\"MATH 629\">MATH 629</a></div></td><td> Introduction to Measure and Integration</td><td class=\"hourscol\"></td></tr> <tr class=\"even\"><td class=\"codecol\"><div class=\"blockindent\" style=\"margin-left:20px;\"><a class=\"bubblelink code\" href=\"/search/?P=MATH%20632\" onclick=\"return showCourse(this, 'MATH 632');\" title=\"MATH/​I SY E/​OTM/​STAT  632\">MATH/​I SY E/​OTM/​STAT  632</a></div></td><td> Introduction to Stochastic Processes</td><td class=\"hourscol\"></td></tr> <tr class=\"odd\"><td class=\"codecol\"><div class=\"blockindent\" style=\"margin-left:20px;\"><a class=\"bubblelink code\" href=\"/search/?P=MATH%20635\" onclick=\"return showCourse(this, 'MATH 635');\" title=\"MATH 635\">MATH 635</a></div></td><td> An Introduction to Brownian Motion and Stochastic Calculus</td><td class=\"hourscol\"></td></tr> <tr class=\"even areasubheader undefined\"><td colspan=\"2\"><span class=\"courselistcomment areasubheader undefined\">Remaining courses/credits may be selected from:</span></td><td class=\"hourscol\"></td></tr> <tr class=\"odd\"><td class=\"codecol\"><div class=\"blockindent\" style=\"margin-left:20px;\"><a class=\"bubblelink code\" href=\"/search/?P=MATH%20319\" onclick=\"return showCourse(this, 'MATH 319');\" title=\"MATH 319\">MATH 319</a></div></td><td> Techniques in Ordinary Differential Equations</td><td class=\"hourscol\"></td></tr> <tr class=\"even\"><td class=\"codecol\"><div class=\"blockindent\" style=\"margin-left:20px;\"><a class=\"bubblelink code\" href=\"/search/?P=MATH%20321\" onclick=\"return showCourse(this, 'MATH 321');\" title=\"MATH 321\">MATH 321</a></div></td><td> Applied Mathematical Analysis</td><td class=\"hourscol\"></td></tr> <tr class=\"odd\"><td class=\"codecol\"><div class=\"blockindent\" style=\"margin-left:20px;\"><a class=\"bubblelink code\" href=\"/search/?P=MATH%20322\" onclick=\"return showCourse(this, 'MATH 322');\" title=\"MATH 322\">MATH 322</a></div></td><td> Applied Mathematical Analysis</td><td class=\"hourscol\"></td></tr> <tr class=\"even\"><td class=\"codecol\"><div class=\"blockindent\" style=\"margin-left:20px;\"><a class=\"bubblelink code\" href=\"/search/?P=MATH%20376\" onclick=\"return showCourse(this, 'MATH 376');\" title=\"MATH 376\">MATH 376</a></div></td><td> Topics in Multi-Variable Calculus and Differential Equations</td><td class=\"hourscol\"></td></tr> <tr class=\"odd\"><td class=\"codecol\"><div class=\"blockindent\" style=\"margin-left:20px;\"><a class=\"bubblelink code\" href=\"/search/?P=MATH%20415\" onclick=\"return showCourse(this, 'MATH 415');\" title=\"MATH 415\">MATH 415</a></div></td><td> Applied Dynamical Systems, Chaos and Modeling</td><td class=\"hourscol\"></td></tr> <tr class=\"even\"><td class=\"codecol\"><div class=\"blockindent\" style=\"margin-left:20px;\"><a class=\"bubblelink code\" href=\"/search/?P=MATH%20421\" onclick=\"return showCourse(this, 'MATH 421');\" title=\"MATH 421\">MATH 421</a></div></td><td> The Theory of Single Variable Calculus</td><td class=\"hourscol\"></td></tr> <tr class=\"odd\"><td class=\"codecol\"><div class=\"blockindent\" style=\"margin-left:20px;\"><a class=\"bubblelink code\" href=\"/search/?P=MATH%20425\" onclick=\"return showCourse(this, 'MATH 425');\" title=\"MATH/​COMP SCI/​I SY E  425\">MATH/​COMP SCI/​I SY E  425</a></div></td><td> Introduction to Combinatorial Optimization</td><td class=\"hourscol\"></td></tr> <tr class=\"even\"><td class=\"codecol\"><div class=\"blockindent\" style=\"margin-left:20px;\"><a class=\"bubblelink code\" href=\"/search/?P=MATH%20435\" onclick=\"return showCourse(this, 'MATH 435');\" title=\"MATH/​COMP SCI/​E C E  435\">MATH/​COMP SCI/​E C E  435</a></div></td><td> Introduction to Cryptography</td><td class=\"hourscol\"></td></tr> <tr class=\"odd\"><td class=\"codecol\"><div class=\"blockindent\" style=\"margin-left:20px;\"><a class=\"bubblelink code\" href=\"/search/?P=MATH%20443\" onclick=\"return showCourse(this, 'MATH 443');\" title=\"MATH 443\">MATH 443</a></div></td><td> Applied Linear Algebra</td><td class=\"hourscol\"></td></tr> <tr class=\"even\"><td class=\"codecol\"><div class=\"blockindent\" style=\"margin-left:20px;\"><a class=\"bubblelink code\" href=\"/search/?P=MATH%20467\" onclick=\"return showCourse(this, 'MATH 467');\" title=\"MATH 467\">MATH 467</a></div></td><td> Introduction to Number Theory</td><td class=\"hourscol\"></td></tr> <tr class=\"odd\"><td class=\"codecol\"><div class=\"blockindent\" style=\"margin-left:20px;\"><a class=\"bubblelink code\" href=\"/search/?P=MATH%20475\" onclick=\"return showCourse(this, 'MATH 475');\" title=\"MATH/​COMP SCI/​STAT  475\">MATH/​COMP SCI/​STAT  475</a></div></td><td> Introduction to Combinatorics</td><td class=\"hourscol\"></td></tr> <tr class=\"even areaheader\"><td colspan=\"2\"><span class=\"courselistcomment areaheader\">Data/Risk Requirement (Four Courses distinct from the above for at least 12 credits)</span> <sup>3</sup></td><td class=\"hourscol\"></td></tr> <tr class=\"odd areasubheader undefined\"><td colspan=\"2\"><span class=\"courselistcomment areasubheader undefined\">Select a distinct introduction course or sequence: </span></td><td class=\"hourscol\">3-6</td></tr> <tr class=\"even areasubheader undefined\"><td colspan=\"2\"><div class=\"blockindent\" style=\"margin-left:20px;\"><span class=\"courselistcomment areasubheader undefined commentindent\">Actuarial Sciences:</span></div></td><td class=\"hourscol\"></td></tr> <tr class=\"odd\"><td class=\"codecol\"><div class=\"blockindent\" style=\"margin-left:20px;\"><a class=\"bubblelink code\" href=\"/search/?P=ACT%20SCI%20303\" onclick=\"return showCourse(this, 'ACT SCI 303');\" title=\"ACT SCI 303\">ACT SCI 303</a></div></td><td> Theory of Interest</td><td class=\"hourscol\"></td></tr> <tr class=\"even areasubheader undefined\"><td colspan=\"2\"><div class=\"blockindent\" style=\"margin-left:20px;\"><span class=\"courselistcomment areasubheader undefined commentindent\">Statistics:</span></div></td><td class=\"hourscol\"></td></tr> <tr class=\"odd\"><td class=\"codecol\"><div class=\"blockindent\" style=\"margin-left:20px;\"><a class=\"bubblelink code\" href=\"/search/?P=STAT%20333\" onclick=\"return showCourse(this, 'STAT 333');\" title=\"STAT 333\">STAT 333</a><br/><span class=\"blockindent\" style=\"margin-left:20px;\">&amp; <a class=\"bubblelink code\" href=\"/search/?P=STAT%20424\" onclick=\"return showCourse(this, 'STAT 424');\" title=\"STAT/​M E  424\">STAT/​M E  424</a></span></div></td><td> <i aria-hidden=\"true\" class=\"fa fa-graduation-cap\"></i>  Applied Regression Analysis<br/><span class=\"blockindent\" style=\"margin-left:20px;\">and  Statistical Experimental Design</span></td><td class=\"hourscol\"></td></tr> <tr class=\"even areasubheader undefined\"><td colspan=\"2\"><div class=\"blockindent\" style=\"margin-left:20px;\"><span class=\"courselistcomment areasubheader undefined commentindent\">Data Science:</span></div></td><td class=\"hourscol\"></td></tr> <tr class=\"odd\"><td class=\"codecol\"><div class=\"blockindent\" style=\"margin-left:20px;\"><a class=\"bubblelink code\" href=\"/search/?P=STAT%20340\" onclick=\"return showCourse(this, 'STAT 340');\" title=\"STAT 340\">STAT 340</a><br/><span class=\"blockindent\" style=\"margin-left:20px;\">&amp; <a class=\"bubblelink code\" href=\"/search/?P=STAT%20424\" onclick=\"return showCourse(this, 'STAT 424');\" title=\"STAT/​M E  424\">STAT/​M E  424</a></span></div></td><td> Introduction to Data Modeling II<br/><span class=\"blockindent\" style=\"margin-left:20px;\">and  Statistical Experimental Design</span></td><td class=\"hourscol\"></td></tr> <tr class=\"even areasubheader undefined\"><td colspan=\"2\"><span class=\"courselistcomment areasubheader undefined\">Select remaining courses/credits from:</span> <sup>4</sup></td><td class=\"hourscol\">6-14</td></tr> <tr class=\"odd\"><td class=\"codecol\"><div class=\"blockindent\" style=\"margin-left:20px;\"><a class=\"bubblelink code\" href=\"/search/?P=ACT%20SCI%20650\" onclick=\"return showCourse(this, 'ACT SCI 650');\" title=\"ACT SCI 650\">ACT SCI 650</a></div></td><td> Actuarial Mathematics I</td><td class=\"hourscol\"></td></tr> <tr class=\"even\"><td class=\"codecol\"><div class=\"blockindent\" style=\"margin-left:20px;\"><a class=\"bubblelink code\" href=\"/search/?P=ACT%20SCI%20651\" onclick=\"return showCourse(this, 'ACT SCI 651');\" title=\"ACT SCI 651\">ACT SCI 651</a></div></td><td> Actuarial Mathematics II</td><td class=\"hourscol\"></td></tr> <tr class=\"odd\"><td class=\"codecol\"><div class=\"blockindent\" style=\"margin-left:20px;\"><a class=\"bubblelink code\" href=\"/search/?P=ACT%20SCI%20652\" onclick=\"return showCourse(this, 'ACT SCI 652');\" title=\"ACT SCI 652\">ACT SCI 652</a></div></td><td> Loss Models I</td><td class=\"hourscol\"></td></tr> <tr class=\"even\"><td class=\"codecol\"><div class=\"blockindent\" style=\"margin-left:20px;\"><a class=\"bubblelink code\" href=\"/search/?P=ACT%20SCI%20653\" onclick=\"return showCourse(this, 'ACT SCI 653');\" title=\"ACT SCI 653\">ACT SCI 653</a></div></td><td> Loss Models II</td><td class=\"hourscol\"></td></tr> <tr class=\"odd\"><td class=\"codecol\"><div class=\"blockindent\" style=\"margin-left:20px;\"><a class=\"bubblelink code\" href=\"/search/?P=ACT%20SCI%20654\" onclick=\"return showCourse(this, 'ACT SCI 654');\" title=\"ACT SCI 654\">ACT SCI 654</a></div></td><td> Regression and Time Series for Actuaries</td><td class=\"hourscol\"></td></tr> <tr class=\"even\"><td class=\"codecol\"><div class=\"blockindent\" style=\"margin-left:20px;\"><a class=\"bubblelink code\" href=\"/search/?P=ACT%20SCI%20655\" onclick=\"return showCourse(this, 'ACT SCI 655');\" title=\"ACT SCI 655\">ACT SCI 655</a></div></td><td> Health Analytics</td><td class=\"hourscol\"></td></tr> <tr class=\"odd\"><td class=\"codecol\"><div class=\"blockindent\" style=\"margin-left:20px;\"><a class=\"bubblelink code\" href=\"/search/?P=GEN%20BUS%20656\" onclick=\"return showCourse(this, 'GEN BUS 656');\" title=\"GEN BUS 656\">GEN BUS 656</a></div></td><td> Machine Learning for Business Analytics</td><td class=\"hourscol\"></td></tr> <tr class=\"even\"><td class=\"codecol\"><div class=\"blockindent\" style=\"margin-left:20px;\"><a class=\"bubblelink code\" href=\"/search/?P=STAT%20349\" onclick=\"return showCourse(this, 'STAT 349');\" title=\"STAT 349\">STAT 349</a></div></td><td> Introduction to Time Series</td><td class=\"hourscol\"></td></tr> <tr class=\"odd\"><td class=\"codecol\"><div class=\"blockindent\" style=\"margin-left:20px;\"><a class=\"bubblelink code\" href=\"/search/?P=STAT%20351\" onclick=\"return showCourse(this, 'STAT 351');\" title=\"STAT 351\">STAT 351</a></div></td><td> Introductory Nonparametric Statistics</td><td class=\"hourscol\"></td></tr> <tr class=\"even\"><td class=\"codecol\"><div class=\"blockindent\" style=\"margin-left:20px;\"><a class=\"bubblelink code\" href=\"/search/?P=STAT%20411\" onclick=\"return showCourse(this, 'STAT 411');\" title=\"STAT 411\">STAT 411</a></div></td><td> An Introduction to Sample Survey Theory and Methods</td><td class=\"hourscol\"></td></tr> <tr class=\"odd\"><td class=\"codecol\"><div class=\"blockindent\" style=\"margin-left:20px;\"><a class=\"bubblelink code\" href=\"/search/?P=STAT%20421\" onclick=\"return showCourse(this, 'STAT 421');\" title=\"STAT 421\">STAT 421</a></div></td><td> Applied Categorical Data Analysis</td><td class=\"hourscol\"></td></tr> <tr class=\"even\"><td class=\"codecol\"><div class=\"blockindent\" style=\"margin-left:20px;\"><a class=\"bubblelink code\" href=\"/search/?P=STAT%20456\" onclick=\"return showCourse(this, 'STAT 456');\" title=\"STAT 456\">STAT 456</a></div></td><td> Applied Multivariate Analysis</td><td class=\"hourscol\"></td></tr> <tr class=\"odd\"><td class=\"codecol\"><div class=\"blockindent\" style=\"margin-left:20px;\"><a class=\"bubblelink code\" href=\"/search/?P=STAT%20461\" onclick=\"return showCourse(this, 'STAT 461');\" title=\"STAT 461\">STAT 461</a></div></td><td> Financial Statistics</td><td class=\"hourscol\"></td></tr> <tr class=\"even\"><td class=\"codecol\"><div class=\"blockindent\" style=\"margin-left:20px;\"><a class=\"bubblelink code\" href=\"/search/?P=STAT%20471\" onclick=\"return showCourse(this, 'STAT 471');\" title=\"STAT/​COMP SCI  471\">STAT/​COMP SCI  471</a></div></td><td> Introduction to Computational Statistics</td><td class=\"hourscol\"></td></tr> <tr class=\"odd\"><td class=\"codecol\"><div class=\"blockindent\" style=\"margin-left:20px;\"><a class=\"bubblelink code\" href=\"/search/?P=STAT%20475\" onclick=\"return showCourse(this, 'STAT 475');\" title=\"STAT/​COMP SCI/​MATH  475\">STAT/​COMP SCI/​MATH  475</a></div></td><td> Introduction to Combinatorics</td><td class=\"hourscol\"></td></tr> <tr class=\"even\"><td class=\"codecol\"><div class=\"blockindent\" style=\"margin-left:20px;\"><a class=\"bubblelink code\" href=\"/search/?P=STAT%20525\" onclick=\"return showCourse(this, 'STAT 525');\" title=\"STAT/​COMP SCI/​I SY E/​MATH  525\">STAT/​COMP SCI/​I SY E/​MATH  525</a></div></td><td> Linear Optimization</td><td class=\"hourscol\"></td></tr> <tr class=\"odd\"><td class=\"codecol\"><div class=\"blockindent\" style=\"margin-left:20px;\"><a class=\"bubblelink code\" href=\"/search/?P=STAT%20575\" onclick=\"return showCourse(this, 'STAT 575');\" title=\"STAT 575\">STAT 575</a></div></td><td> Statistical Methods for Spatial Data</td><td class=\"hourscol\"></td></tr> <tr class=\"even\"><td class=\"codecol\"><div class=\"blockindent\" style=\"margin-left:20px;\"><a class=\"bubblelink code\" href=\"/search/?P=STAT%20632\" onclick=\"return showCourse(this, 'STAT 632');\" title=\"STAT/​I SY E/​MATH/​OTM  632\">STAT/​I SY E/​MATH/​OTM  632</a></div></td><td> Introduction to Stochastic Processes</td><td class=\"hourscol\"></td></tr> <tr class=\"odd\"><td class=\"codecol\"><div class=\"blockindent\" style=\"margin-left:20px;\"><a class=\"bubblelink code\" href=\"/search/?P=STAT%20641\" onclick=\"return showCourse(this, 'STAT 641');\" title=\"STAT/​B M I  641\">STAT/​B M I  641</a></div></td><td> Statistical Methods for Clinical Trials</td><td class=\"hourscol\"></td></tr> <tr class=\"even lastrow\"><td class=\"codecol\"><div class=\"blockindent\" style=\"margin-left:20px;\"><a class=\"bubblelink code\" href=\"/search/?P=STAT%20642\" onclick=\"return showCourse(this, 'STAT 642');\" title=\"STAT/​B M I  642\">STAT/​B M I  642</a></div></td><td> Statistical Methods for Epidemiology</td><td class=\"hourscol\"></td></tr> <tr class=\"listsum\"><td colspan=\"2\">Total Credits</td><td class=\"hourscol\">30</td></tr></tbody>\n"
     ]
    }
   ],
   "source": [
    "# Get the headings for the previous tables\n",
    "\n",
    "# First, we find all the tables and only keep the tables containing course info\n",
    "tables = text.findAll(\"tbody\")\n",
    "\n",
    "#required core part\n",
    "table_names = []\n",
    "#for table in tables[4]:\n",
    "    #table_names.append(table.find(\"span\", {\"class\": \"odd areasubheader undefined\"}))\n",
    "\n",
    "print(tables[0])"
   ]
  },
  {
   "cell_type": "code",
   "execution_count": 35,
   "metadata": {},
   "outputs": [
    {
     "ename": "ValueError",
     "evalue": "invalid literal for int() with base 10: '3-5'",
     "output_type": "error",
     "traceback": [
      "\u001b[1;31m---------------------------------------------------------------------------\u001b[0m",
      "\u001b[1;31mValueError\u001b[0m                                Traceback (most recent call last)",
      "\u001b[1;32m<ipython-input-35-55cb985ebaa0>\u001b[0m in \u001b[0;36m<module>\u001b[1;34m\u001b[0m\n\u001b[0;32m     27\u001b[0m                 \u001b[0mcredit\u001b[0m \u001b[1;33m=\u001b[0m \u001b[1;36m1\u001b[0m\u001b[1;33m\u001b[0m\u001b[1;33m\u001b[0m\u001b[0m\n\u001b[0;32m     28\u001b[0m             \u001b[1;32melse\u001b[0m\u001b[1;33m:\u001b[0m\u001b[1;33m\u001b[0m\u001b[1;33m\u001b[0m\u001b[0m\n\u001b[1;32m---> 29\u001b[1;33m                 \u001b[0mcredit\u001b[0m \u001b[1;33m=\u001b[0m \u001b[0mround\u001b[0m\u001b[1;33m(\u001b[0m\u001b[0mint\u001b[0m\u001b[1;33m(\u001b[0m\u001b[0mcredit\u001b[0m\u001b[1;33m)\u001b[0m\u001b[1;33m/\u001b[0m\u001b[1;36m3\u001b[0m\u001b[1;33m)\u001b[0m\u001b[1;33m\u001b[0m\u001b[1;33m\u001b[0m\u001b[0m\n\u001b[0m\u001b[0;32m     30\u001b[0m \u001b[1;33m\u001b[0m\u001b[0m\n\u001b[0;32m     31\u001b[0m             \u001b[1;31m# Start of a section!\u001b[0m\u001b[1;33m\u001b[0m\u001b[1;33m\u001b[0m\u001b[1;33m\u001b[0m\u001b[0m\n",
      "\u001b[1;31mValueError\u001b[0m: invalid literal for int() with base 10: '3-5'"
     ]
    }
   ],
   "source": [
    "# Get the headings for the previous tables\n",
    "\n",
    "# First, we find all the tables and only keep the tables containing course info\n",
    "tables = text.findAll(\"tbody\")\n",
    "\n",
    "table_names = []\n",
    "for table in tables:\n",
    "    table_names.append(table.find(\"span\", {\"class\": \"courselistcomment areaheader\"}).contents[0])\n",
    "\n",
    "DS_required = []\n",
    "\n",
    "for i,table_name in enumerate(table_names):\n",
    "    ## Append table name\n",
    "    cat = []\n",
    "    cat.append({\"Name\":table_name})\n",
    "    \n",
    "    ## Next, get the required credits\n",
    "    credit = tables[i].findAll(\"tr\")\n",
    "    \n",
    "    flag = 0 # marks the start of the category\n",
    "    categories = []\n",
    "    for row in credit:\n",
    "        # Search for rows containing numbers\n",
    "        if row.find(\"td\",{\"class\":\"hourscol\"}) and len(row.find(\"td\",{\"class\":\"hourscol\"}).text) > 0:\n",
    "            credit = row.find(\"td\",{\"class\":\"hourscol\"}).text\n",
    "            if credit == \"3-4\":\n",
    "                credit = 1\n",
    "            else:\n",
    "                credit = round(int(credit)/3)\n",
    "\n",
    "            # Start of a section!\n",
    "            if row.find(\"a\"):\n",
    "                class_code = row.find(\"a\").contents[0].replace(u'\\xa0',' ')\n",
    "                class_c = (credit,[class_code])\n",
    "                categories.append(class_c)\n",
    "            \n",
    "        else:\n",
    "            if row.find(\"a\"):\n",
    "                class_code = row.find(\"a\").contents[0].replace(u'\\xa0',' ')\n",
    "                categories[-1][-1].append(class_code)\n",
    "                \n",
    "    need = (cat,categories)\n",
    "    DS_required.append(need)\n"
   ]
  },
  {
   "cell_type": "code",
   "execution_count": 37,
   "metadata": {},
   "outputs": [
    {
     "data": {
      "text/plain": [
       "[<tbody> <tr class=\"even areaheader firstrow\"><td colspan=\"2\"><span class=\"courselistcomment areaheader\">Core Math Requirement (minimum of six distinct MATH courses for at least 18 credits)</span></td><td class=\"hourscol\"></td></tr> <tr class=\"odd areasubheader undefined\"><td colspan=\"2\"><span class=\"courselistcomment areasubheader undefined\">Linear Algebra</span></td><td class=\"hourscol\">3-5</td></tr> <tr class=\"even\"><td class=\"codecol\"><div class=\"blockindent\" style=\"margin-left:20px;\"><a class=\"bubblelink code\" href=\"/search/?P=MATH%20320\" onclick=\"return showCourse(this, 'MATH 320');\" title=\"MATH 320\">MATH 320</a></div></td><td> Linear Algebra and Differential Equations</td><td class=\"hourscol\"></td></tr> <tr class=\"orclass even\"><td class=\"codecol orclass\"><div class=\"blockindent\" style=\"margin-left:20px;\">or <a class=\"bubblelink code\" href=\"/search/?P=MATH%20340\" onclick=\"return showCourse(this, 'MATH 340');\" title=\"MATH 340\">MATH 340</a></div></td><td colspan=\"2\">  Elementary Matrix and Linear Algebra</td></tr> <tr class=\"orclass even\"><td class=\"codecol orclass\"><div class=\"blockindent\" style=\"margin-left:20px;\">or <a class=\"bubblelink code\" href=\"/search/?P=MATH%20341\" onclick=\"return showCourse(this, 'MATH 341');\" title=\"MATH 341\">MATH 341</a></div></td><td colspan=\"2\">  Linear Algebra</td></tr> <tr class=\"orclass even\"><td class=\"codecol orclass\"><div class=\"blockindent\" style=\"margin-left:20px;\">or <a class=\"bubblelink code\" href=\"/search/?P=MATH%20375\" onclick=\"return showCourse(this, 'MATH 375');\" title=\"MATH 375\">MATH 375</a></div></td><td colspan=\"2\">  Topics in Multi-Variable Calculus and Linear Algebra</td></tr> <tr class=\"odd areasubheader undefined\"><td colspan=\"2\"><span class=\"courselistcomment areasubheader undefined\">Probability (Complete at least one)</span></td><td class=\"hourscol\">3</td></tr> <tr class=\"even\"><td class=\"codecol\"><div class=\"blockindent\" style=\"margin-left:20px;\"><a class=\"bubblelink code\" href=\"/search/?P=MATH%20431\" onclick=\"return showCourse(this, 'MATH 431');\" title=\"MATH/​STAT  431\">MATH/​STAT  431</a></div></td><td> Introduction to the Theory of Probability</td><td class=\"hourscol\"></td></tr> <tr class=\"orclass even\"><td class=\"codecol orclass\"><div class=\"blockindent\" style=\"margin-left:20px;\">or <a class=\"bubblelink code\" href=\"/search/?P=MATH%20309\" onclick=\"return showCourse(this, 'MATH 309');\" title=\"MATH/​STAT  309\">MATH/​STAT  309</a></div></td><td colspan=\"2\">  Introduction to Probability and Mathematical Statistics I</td></tr> <tr class=\"odd\"><td class=\"codecol\"><div class=\"blockindent\" style=\"margin-left:20px;\"><a class=\"bubblelink code\" href=\"/search/?P=MATH%20531\" onclick=\"return showCourse(this, 'MATH 531');\" title=\"MATH 531\">MATH 531</a></div></td><td> Probability Theory</td><td class=\"hourscol\"></td></tr> <tr class=\"even areasubheader undefined\"><td colspan=\"2\"><span class=\"courselistcomment areasubheader undefined\">Statistics</span> <sup>1</sup></td><td class=\"hourscol\">3</td></tr> <tr class=\"odd\"><td class=\"codecol\"><div class=\"blockindent\" style=\"margin-left:20px;\"><a class=\"bubblelink code\" href=\"/search/?P=MATH%20310\" onclick=\"return showCourse(this, 'MATH 310');\" title=\"MATH/​STAT  310\">MATH/​STAT  310</a></div></td><td> Introduction to Probability and Mathematical Statistics II</td><td class=\"hourscol\"></td></tr> <tr class=\"orclass odd\"><td class=\"codecol orclass\"><div class=\"blockindent\" style=\"margin-left:20px;\">or <a class=\"bubblelink code\" href=\"/search/?P=STAT%20312\" onclick=\"return showCourse(this, 'STAT 312');\" title=\"STAT 312\">STAT 312</a></div></td><td colspan=\"2\">  Introduction to Theory and Methods of Mathematical Statistics II</td></tr> <tr class=\"even areasubheader undefined\"><td colspan=\"2\"><span class=\"courselistcomment areasubheader undefined\">Intermediate Mathematics Requirement (complete at least one)</span></td><td class=\"hourscol\">0-6</td></tr> <tr class=\"odd\"><td class=\"codecol\"><div class=\"blockindent\" style=\"margin-left:20px;\"><a class=\"bubblelink code\" href=\"/search/?P=MATH%20321\" onclick=\"return showCourse(this, 'MATH 321');\" title=\"MATH 321\">MATH 321</a><br/><span class=\"blockindent\" style=\"margin-left:20px;\">&amp; <a class=\"bubblelink code\" href=\"/search/?P=MATH%20322\" onclick=\"return showCourse(this, 'MATH 322');\" title=\"MATH 322\">MATH 322</a></span></div></td><td> Applied Mathematical Analysis<br/><span class=\"blockindent\" style=\"margin-left:20px;\">and  Applied Mathematical Analysis</span></td><td class=\"hourscol\"></td></tr> <tr class=\"even\"><td class=\"codecol\"><div class=\"blockindent\" style=\"margin-left:20px;\"><a class=\"bubblelink code\" href=\"/search/?P=MATH%20341\" onclick=\"return showCourse(this, 'MATH 341');\" title=\"MATH 341\">MATH 341</a></div></td><td> Linear Algebra</td><td class=\"hourscol\"></td></tr> <tr class=\"odd\"><td class=\"codecol\"><div class=\"blockindent\" style=\"margin-left:20px;\"><a class=\"bubblelink code\" href=\"/search/?P=MATH%20375\" onclick=\"return showCourse(this, 'MATH 375');\" title=\"MATH 375\">MATH 375</a></div></td><td> Topics in Multi-Variable Calculus and Linear Algebra</td><td class=\"hourscol\"></td></tr> <tr class=\"even\"><td class=\"codecol\"><div class=\"blockindent\" style=\"margin-left:20px;\"><a class=\"bubblelink code\" href=\"/search/?P=MATH%20421\" onclick=\"return showCourse(this, 'MATH 421');\" title=\"MATH 421\">MATH 421</a></div></td><td> The Theory of Single Variable Calculus</td><td class=\"hourscol\"></td></tr> <tr class=\"odd areasubheader undefined\"><td colspan=\"2\"><span class=\"courselistcomment areasubheader undefined\">Advanced Mathematics Requirement (select one)</span></td><td class=\"hourscol\">3</td></tr> <tr class=\"even\"><td class=\"codecol\"><div class=\"blockindent\" style=\"margin-left:20px;\"><a class=\"bubblelink code\" href=\"/search/?P=MATH%20514\" onclick=\"return showCourse(this, 'MATH 514');\" title=\"MATH/​COMP SCI  514\">MATH/​COMP SCI  514</a></div></td><td> Numerical Analysis</td><td class=\"hourscol\"></td></tr> <tr class=\"odd\"><td class=\"codecol\"><div class=\"blockindent\" style=\"margin-left:20px;\"><a class=\"bubblelink code\" href=\"/search/?P=MATH%20521\" onclick=\"return showCourse(this, 'MATH 521');\" title=\"MATH 521\">MATH 521</a></div></td><td> Analysis I</td><td class=\"hourscol\"></td></tr> <tr class=\"even\"><td class=\"codecol\"><div class=\"blockindent\" style=\"margin-left:20px;\"><a class=\"bubblelink code\" href=\"/search/?P=MATH%20531\" onclick=\"return showCourse(this, 'MATH 531');\" title=\"MATH 531\">MATH 531</a></div></td><td> Probability Theory</td><td class=\"hourscol\"></td></tr> <tr class=\"odd\"><td class=\"codecol\"><div class=\"blockindent\" style=\"margin-left:20px;\"><a class=\"bubblelink code\" href=\"/search/?P=MATH%20535\" onclick=\"return showCourse(this, 'MATH 535');\" title=\"MATH 535\">MATH 535</a></div></td><td> Mathematical Methods in Data Science</td><td class=\"hourscol\"></td></tr> <tr class=\"even\"><td class=\"codecol\"><div class=\"blockindent\" style=\"margin-left:20px;\"><a class=\"bubblelink code\" href=\"/search/?P=MATH%20540\" onclick=\"return showCourse(this, 'MATH 540');\" title=\"MATH 540\">MATH 540</a></div></td><td> Linear Algebra II</td><td class=\"hourscol\"></td></tr> <tr class=\"odd areasubheader undefined\"><td colspan=\"2\"><span class=\"courselistcomment areasubheader undefined\">Elective to reach required six courses and 18 credits</span></td><td class=\"hourscol\">3-6</td></tr> <tr class=\"even areasubheader undefined\"><td colspan=\"2\"><span class=\"courselistcomment areasubheader undefined\">Select one or more from:</span> <sup>2</sup></td><td class=\"hourscol\"></td></tr> <tr class=\"odd\"><td class=\"codecol\"><div class=\"blockindent\" style=\"margin-left:20px;\"><a class=\"bubblelink code\" href=\"/search/?P=MATH%20513\" onclick=\"return showCourse(this, 'MATH 513');\" title=\"MATH/​COMP SCI  513\">MATH/​COMP SCI  513</a></div></td><td> Numerical Linear Algebra</td><td class=\"hourscol\"></td></tr> <tr class=\"even\"><td class=\"codecol\"><div class=\"blockindent\" style=\"margin-left:20px;\"><a class=\"bubblelink code\" href=\"/search/?P=MATH%20514\" onclick=\"return showCourse(this, 'MATH 514');\" title=\"MATH/​COMP SCI  514\">MATH/​COMP SCI  514</a></div></td><td> Numerical Analysis</td><td class=\"hourscol\"></td></tr> <tr class=\"odd\"><td class=\"codecol\"><div class=\"blockindent\" style=\"margin-left:20px;\"><a class=\"bubblelink code\" href=\"/search/?P=MATH%20519\" onclick=\"return showCourse(this, 'MATH 519');\" title=\"MATH 519\">MATH 519</a></div></td><td> Ordinary Differential Equations</td><td class=\"hourscol\"></td></tr> <tr class=\"even\"><td class=\"codecol\"><div class=\"blockindent\" style=\"margin-left:20px;\"><a class=\"bubblelink code\" href=\"/search/?P=MATH%20521\" onclick=\"return showCourse(this, 'MATH 521');\" title=\"MATH 521\">MATH 521</a></div></td><td> Analysis I</td><td class=\"hourscol\"></td></tr> <tr class=\"odd\"><td class=\"codecol\"><div class=\"blockindent\" style=\"margin-left:20px;\"><a class=\"bubblelink code\" href=\"/search/?P=MATH%20522\" onclick=\"return showCourse(this, 'MATH 522');\" title=\"MATH 522\">MATH 522</a></div></td><td> Analysis II</td><td class=\"hourscol\"></td></tr> <tr class=\"even\"><td class=\"codecol\"><div class=\"blockindent\" style=\"margin-left:20px;\"><a class=\"bubblelink code\" href=\"/search/?P=MATH%20525\" onclick=\"return showCourse(this, 'MATH 525');\" title=\"MATH/​COMP SCI/​I SY E/​STAT  525\">MATH/​COMP SCI/​I SY E/​STAT  525</a></div></td><td> Linear Optimization</td><td class=\"hourscol\"></td></tr> <tr class=\"odd\"><td class=\"codecol\"><div class=\"blockindent\" style=\"margin-left:20px;\"><a class=\"bubblelink code\" href=\"/search/?P=MATH%20531\" onclick=\"return showCourse(this, 'MATH 531');\" title=\"MATH 531\">MATH 531</a></div></td><td> Probability Theory</td><td class=\"hourscol\"></td></tr> <tr class=\"even\"><td class=\"codecol\"><div class=\"blockindent\" style=\"margin-left:20px;\"><a class=\"bubblelink code\" href=\"/search/?P=MATH%20535\" onclick=\"return showCourse(this, 'MATH 535');\" title=\"MATH 535\">MATH 535</a></div></td><td> Mathematical Methods in Data Science</td><td class=\"hourscol\"></td></tr> <tr class=\"odd\"><td class=\"codecol\"><div class=\"blockindent\" style=\"margin-left:20px;\"><a class=\"bubblelink code\" href=\"/search/?P=MATH%20540\" onclick=\"return showCourse(this, 'MATH 540');\" title=\"MATH 540\">MATH 540</a></div></td><td> Linear Algebra II</td><td class=\"hourscol\"></td></tr> <tr class=\"even\"><td class=\"codecol\"><div class=\"blockindent\" style=\"margin-left:20px;\"><a class=\"bubblelink code\" href=\"/search/?P=MATH%20541\" onclick=\"return showCourse(this, 'MATH 541');\" title=\"MATH 541\">MATH 541</a></div></td><td> Modern Algebra</td><td class=\"hourscol\"></td></tr> <tr class=\"odd\"><td class=\"codecol\"><div class=\"blockindent\" style=\"margin-left:20px;\"><a class=\"bubblelink code\" href=\"/search/?P=MATH%20542\" onclick=\"return showCourse(this, 'MATH 542');\" title=\"MATH 542\">MATH 542</a></div></td><td> Modern Algebra</td><td class=\"hourscol\"></td></tr> <tr class=\"even\"><td class=\"codecol\"><div class=\"blockindent\" style=\"margin-left:20px;\"><a class=\"bubblelink code\" href=\"/search/?P=MATH%20605\" onclick=\"return showCourse(this, 'MATH 605');\" title=\"MATH 605\">MATH 605</a></div></td><td> Stochastic Methods for Biology</td><td class=\"hourscol\"></td></tr> <tr class=\"odd\"><td class=\"codecol\"><div class=\"blockindent\" style=\"margin-left:20px;\"><a class=\"bubblelink code\" href=\"/search/?P=MATH%20619\" onclick=\"return showCourse(this, 'MATH 619');\" title=\"MATH 619\">MATH 619</a></div></td><td> Analysis of Partial Differential Equations</td><td class=\"hourscol\"></td></tr> <tr class=\"even\"><td class=\"codecol\"><div class=\"blockindent\" style=\"margin-left:20px;\"><a class=\"bubblelink code\" href=\"/search/?P=MATH%20627\" onclick=\"return showCourse(this, 'MATH 627');\" title=\"MATH 627\">MATH 627</a></div></td><td> Introduction to Fourier Analysis</td><td class=\"hourscol\"></td></tr> <tr class=\"odd\"><td class=\"codecol\"><div class=\"blockindent\" style=\"margin-left:20px;\"><a class=\"bubblelink code\" href=\"/search/?P=MATH%20629\" onclick=\"return showCourse(this, 'MATH 629');\" title=\"MATH 629\">MATH 629</a></div></td><td> Introduction to Measure and Integration</td><td class=\"hourscol\"></td></tr> <tr class=\"even\"><td class=\"codecol\"><div class=\"blockindent\" style=\"margin-left:20px;\"><a class=\"bubblelink code\" href=\"/search/?P=MATH%20632\" onclick=\"return showCourse(this, 'MATH 632');\" title=\"MATH/​I SY E/​OTM/​STAT  632\">MATH/​I SY E/​OTM/​STAT  632</a></div></td><td> Introduction to Stochastic Processes</td><td class=\"hourscol\"></td></tr> <tr class=\"odd\"><td class=\"codecol\"><div class=\"blockindent\" style=\"margin-left:20px;\"><a class=\"bubblelink code\" href=\"/search/?P=MATH%20635\" onclick=\"return showCourse(this, 'MATH 635');\" title=\"MATH 635\">MATH 635</a></div></td><td> An Introduction to Brownian Motion and Stochastic Calculus</td><td class=\"hourscol\"></td></tr> <tr class=\"even areasubheader undefined\"><td colspan=\"2\"><span class=\"courselistcomment areasubheader undefined\">Remaining courses/credits may be selected from:</span></td><td class=\"hourscol\"></td></tr> <tr class=\"odd\"><td class=\"codecol\"><div class=\"blockindent\" style=\"margin-left:20px;\"><a class=\"bubblelink code\" href=\"/search/?P=MATH%20319\" onclick=\"return showCourse(this, 'MATH 319');\" title=\"MATH 319\">MATH 319</a></div></td><td> Techniques in Ordinary Differential Equations</td><td class=\"hourscol\"></td></tr> <tr class=\"even\"><td class=\"codecol\"><div class=\"blockindent\" style=\"margin-left:20px;\"><a class=\"bubblelink code\" href=\"/search/?P=MATH%20321\" onclick=\"return showCourse(this, 'MATH 321');\" title=\"MATH 321\">MATH 321</a></div></td><td> Applied Mathematical Analysis</td><td class=\"hourscol\"></td></tr> <tr class=\"odd\"><td class=\"codecol\"><div class=\"blockindent\" style=\"margin-left:20px;\"><a class=\"bubblelink code\" href=\"/search/?P=MATH%20322\" onclick=\"return showCourse(this, 'MATH 322');\" title=\"MATH 322\">MATH 322</a></div></td><td> Applied Mathematical Analysis</td><td class=\"hourscol\"></td></tr> <tr class=\"even\"><td class=\"codecol\"><div class=\"blockindent\" style=\"margin-left:20px;\"><a class=\"bubblelink code\" href=\"/search/?P=MATH%20376\" onclick=\"return showCourse(this, 'MATH 376');\" title=\"MATH 376\">MATH 376</a></div></td><td> Topics in Multi-Variable Calculus and Differential Equations</td><td class=\"hourscol\"></td></tr> <tr class=\"odd\"><td class=\"codecol\"><div class=\"blockindent\" style=\"margin-left:20px;\"><a class=\"bubblelink code\" href=\"/search/?P=MATH%20415\" onclick=\"return showCourse(this, 'MATH 415');\" title=\"MATH 415\">MATH 415</a></div></td><td> Applied Dynamical Systems, Chaos and Modeling</td><td class=\"hourscol\"></td></tr> <tr class=\"even\"><td class=\"codecol\"><div class=\"blockindent\" style=\"margin-left:20px;\"><a class=\"bubblelink code\" href=\"/search/?P=MATH%20421\" onclick=\"return showCourse(this, 'MATH 421');\" title=\"MATH 421\">MATH 421</a></div></td><td> The Theory of Single Variable Calculus</td><td class=\"hourscol\"></td></tr> <tr class=\"odd\"><td class=\"codecol\"><div class=\"blockindent\" style=\"margin-left:20px;\"><a class=\"bubblelink code\" href=\"/search/?P=MATH%20425\" onclick=\"return showCourse(this, 'MATH 425');\" title=\"MATH/​COMP SCI/​I SY E  425\">MATH/​COMP SCI/​I SY E  425</a></div></td><td> Introduction to Combinatorial Optimization</td><td class=\"hourscol\"></td></tr> <tr class=\"even\"><td class=\"codecol\"><div class=\"blockindent\" style=\"margin-left:20px;\"><a class=\"bubblelink code\" href=\"/search/?P=MATH%20435\" onclick=\"return showCourse(this, 'MATH 435');\" title=\"MATH/​COMP SCI/​E C E  435\">MATH/​COMP SCI/​E C E  435</a></div></td><td> Introduction to Cryptography</td><td class=\"hourscol\"></td></tr> <tr class=\"odd\"><td class=\"codecol\"><div class=\"blockindent\" style=\"margin-left:20px;\"><a class=\"bubblelink code\" href=\"/search/?P=MATH%20443\" onclick=\"return showCourse(this, 'MATH 443');\" title=\"MATH 443\">MATH 443</a></div></td><td> Applied Linear Algebra</td><td class=\"hourscol\"></td></tr> <tr class=\"even\"><td class=\"codecol\"><div class=\"blockindent\" style=\"margin-left:20px;\"><a class=\"bubblelink code\" href=\"/search/?P=MATH%20467\" onclick=\"return showCourse(this, 'MATH 467');\" title=\"MATH 467\">MATH 467</a></div></td><td> Introduction to Number Theory</td><td class=\"hourscol\"></td></tr> <tr class=\"odd\"><td class=\"codecol\"><div class=\"blockindent\" style=\"margin-left:20px;\"><a class=\"bubblelink code\" href=\"/search/?P=MATH%20475\" onclick=\"return showCourse(this, 'MATH 475');\" title=\"MATH/​COMP SCI/​STAT  475\">MATH/​COMP SCI/​STAT  475</a></div></td><td> Introduction to Combinatorics</td><td class=\"hourscol\"></td></tr> <tr class=\"even areaheader\"><td colspan=\"2\"><span class=\"courselistcomment areaheader\">Data/Risk Requirement (Four Courses distinct from the above for at least 12 credits)</span> <sup>3</sup></td><td class=\"hourscol\"></td></tr> <tr class=\"odd areasubheader undefined\"><td colspan=\"2\"><span class=\"courselistcomment areasubheader undefined\">Select a distinct introduction course or sequence: </span></td><td class=\"hourscol\">3-6</td></tr> <tr class=\"even areasubheader undefined\"><td colspan=\"2\"><div class=\"blockindent\" style=\"margin-left:20px;\"><span class=\"courselistcomment areasubheader undefined commentindent\">Actuarial Sciences:</span></div></td><td class=\"hourscol\"></td></tr> <tr class=\"odd\"><td class=\"codecol\"><div class=\"blockindent\" style=\"margin-left:20px;\"><a class=\"bubblelink code\" href=\"/search/?P=ACT%20SCI%20303\" onclick=\"return showCourse(this, 'ACT SCI 303');\" title=\"ACT SCI 303\">ACT SCI 303</a></div></td><td> Theory of Interest</td><td class=\"hourscol\"></td></tr> <tr class=\"even areasubheader undefined\"><td colspan=\"2\"><div class=\"blockindent\" style=\"margin-left:20px;\"><span class=\"courselistcomment areasubheader undefined commentindent\">Statistics:</span></div></td><td class=\"hourscol\"></td></tr> <tr class=\"odd\"><td class=\"codecol\"><div class=\"blockindent\" style=\"margin-left:20px;\"><a class=\"bubblelink code\" href=\"/search/?P=STAT%20333\" onclick=\"return showCourse(this, 'STAT 333');\" title=\"STAT 333\">STAT 333</a><br/><span class=\"blockindent\" style=\"margin-left:20px;\">&amp; <a class=\"bubblelink code\" href=\"/search/?P=STAT%20424\" onclick=\"return showCourse(this, 'STAT 424');\" title=\"STAT/​M E  424\">STAT/​M E  424</a></span></div></td><td> <i aria-hidden=\"true\" class=\"fa fa-graduation-cap\"></i>  Applied Regression Analysis<br/><span class=\"blockindent\" style=\"margin-left:20px;\">and  Statistical Experimental Design</span></td><td class=\"hourscol\"></td></tr> <tr class=\"even areasubheader undefined\"><td colspan=\"2\"><div class=\"blockindent\" style=\"margin-left:20px;\"><span class=\"courselistcomment areasubheader undefined commentindent\">Data Science:</span></div></td><td class=\"hourscol\"></td></tr> <tr class=\"odd\"><td class=\"codecol\"><div class=\"blockindent\" style=\"margin-left:20px;\"><a class=\"bubblelink code\" href=\"/search/?P=STAT%20340\" onclick=\"return showCourse(this, 'STAT 340');\" title=\"STAT 340\">STAT 340</a><br/><span class=\"blockindent\" style=\"margin-left:20px;\">&amp; <a class=\"bubblelink code\" href=\"/search/?P=STAT%20424\" onclick=\"return showCourse(this, 'STAT 424');\" title=\"STAT/​M E  424\">STAT/​M E  424</a></span></div></td><td> Introduction to Data Modeling II<br/><span class=\"blockindent\" style=\"margin-left:20px;\">and  Statistical Experimental Design</span></td><td class=\"hourscol\"></td></tr> <tr class=\"even areasubheader undefined\"><td colspan=\"2\"><span class=\"courselistcomment areasubheader undefined\">Select remaining courses/credits from:</span> <sup>4</sup></td><td class=\"hourscol\">6-14</td></tr> <tr class=\"odd\"><td class=\"codecol\"><div class=\"blockindent\" style=\"margin-left:20px;\"><a class=\"bubblelink code\" href=\"/search/?P=ACT%20SCI%20650\" onclick=\"return showCourse(this, 'ACT SCI 650');\" title=\"ACT SCI 650\">ACT SCI 650</a></div></td><td> Actuarial Mathematics I</td><td class=\"hourscol\"></td></tr> <tr class=\"even\"><td class=\"codecol\"><div class=\"blockindent\" style=\"margin-left:20px;\"><a class=\"bubblelink code\" href=\"/search/?P=ACT%20SCI%20651\" onclick=\"return showCourse(this, 'ACT SCI 651');\" title=\"ACT SCI 651\">ACT SCI 651</a></div></td><td> Actuarial Mathematics II</td><td class=\"hourscol\"></td></tr> <tr class=\"odd\"><td class=\"codecol\"><div class=\"blockindent\" style=\"margin-left:20px;\"><a class=\"bubblelink code\" href=\"/search/?P=ACT%20SCI%20652\" onclick=\"return showCourse(this, 'ACT SCI 652');\" title=\"ACT SCI 652\">ACT SCI 652</a></div></td><td> Loss Models I</td><td class=\"hourscol\"></td></tr> <tr class=\"even\"><td class=\"codecol\"><div class=\"blockindent\" style=\"margin-left:20px;\"><a class=\"bubblelink code\" href=\"/search/?P=ACT%20SCI%20653\" onclick=\"return showCourse(this, 'ACT SCI 653');\" title=\"ACT SCI 653\">ACT SCI 653</a></div></td><td> Loss Models II</td><td class=\"hourscol\"></td></tr> <tr class=\"odd\"><td class=\"codecol\"><div class=\"blockindent\" style=\"margin-left:20px;\"><a class=\"bubblelink code\" href=\"/search/?P=ACT%20SCI%20654\" onclick=\"return showCourse(this, 'ACT SCI 654');\" title=\"ACT SCI 654\">ACT SCI 654</a></div></td><td> Regression and Time Series for Actuaries</td><td class=\"hourscol\"></td></tr> <tr class=\"even\"><td class=\"codecol\"><div class=\"blockindent\" style=\"margin-left:20px;\"><a class=\"bubblelink code\" href=\"/search/?P=ACT%20SCI%20655\" onclick=\"return showCourse(this, 'ACT SCI 655');\" title=\"ACT SCI 655\">ACT SCI 655</a></div></td><td> Health Analytics</td><td class=\"hourscol\"></td></tr> <tr class=\"odd\"><td class=\"codecol\"><div class=\"blockindent\" style=\"margin-left:20px;\"><a class=\"bubblelink code\" href=\"/search/?P=GEN%20BUS%20656\" onclick=\"return showCourse(this, 'GEN BUS 656');\" title=\"GEN BUS 656\">GEN BUS 656</a></div></td><td> Machine Learning for Business Analytics</td><td class=\"hourscol\"></td></tr> <tr class=\"even\"><td class=\"codecol\"><div class=\"blockindent\" style=\"margin-left:20px;\"><a class=\"bubblelink code\" href=\"/search/?P=STAT%20349\" onclick=\"return showCourse(this, 'STAT 349');\" title=\"STAT 349\">STAT 349</a></div></td><td> Introduction to Time Series</td><td class=\"hourscol\"></td></tr> <tr class=\"odd\"><td class=\"codecol\"><div class=\"blockindent\" style=\"margin-left:20px;\"><a class=\"bubblelink code\" href=\"/search/?P=STAT%20351\" onclick=\"return showCourse(this, 'STAT 351');\" title=\"STAT 351\">STAT 351</a></div></td><td> Introductory Nonparametric Statistics</td><td class=\"hourscol\"></td></tr> <tr class=\"even\"><td class=\"codecol\"><div class=\"blockindent\" style=\"margin-left:20px;\"><a class=\"bubblelink code\" href=\"/search/?P=STAT%20411\" onclick=\"return showCourse(this, 'STAT 411');\" title=\"STAT 411\">STAT 411</a></div></td><td> An Introduction to Sample Survey Theory and Methods</td><td class=\"hourscol\"></td></tr> <tr class=\"odd\"><td class=\"codecol\"><div class=\"blockindent\" style=\"margin-left:20px;\"><a class=\"bubblelink code\" href=\"/search/?P=STAT%20421\" onclick=\"return showCourse(this, 'STAT 421');\" title=\"STAT 421\">STAT 421</a></div></td><td> Applied Categorical Data Analysis</td><td class=\"hourscol\"></td></tr> <tr class=\"even\"><td class=\"codecol\"><div class=\"blockindent\" style=\"margin-left:20px;\"><a class=\"bubblelink code\" href=\"/search/?P=STAT%20456\" onclick=\"return showCourse(this, 'STAT 456');\" title=\"STAT 456\">STAT 456</a></div></td><td> Applied Multivariate Analysis</td><td class=\"hourscol\"></td></tr> <tr class=\"odd\"><td class=\"codecol\"><div class=\"blockindent\" style=\"margin-left:20px;\"><a class=\"bubblelink code\" href=\"/search/?P=STAT%20461\" onclick=\"return showCourse(this, 'STAT 461');\" title=\"STAT 461\">STAT 461</a></div></td><td> Financial Statistics</td><td class=\"hourscol\"></td></tr> <tr class=\"even\"><td class=\"codecol\"><div class=\"blockindent\" style=\"margin-left:20px;\"><a class=\"bubblelink code\" href=\"/search/?P=STAT%20471\" onclick=\"return showCourse(this, 'STAT 471');\" title=\"STAT/​COMP SCI  471\">STAT/​COMP SCI  471</a></div></td><td> Introduction to Computational Statistics</td><td class=\"hourscol\"></td></tr> <tr class=\"odd\"><td class=\"codecol\"><div class=\"blockindent\" style=\"margin-left:20px;\"><a class=\"bubblelink code\" href=\"/search/?P=STAT%20475\" onclick=\"return showCourse(this, 'STAT 475');\" title=\"STAT/​COMP SCI/​MATH  475\">STAT/​COMP SCI/​MATH  475</a></div></td><td> Introduction to Combinatorics</td><td class=\"hourscol\"></td></tr> <tr class=\"even\"><td class=\"codecol\"><div class=\"blockindent\" style=\"margin-left:20px;\"><a class=\"bubblelink code\" href=\"/search/?P=STAT%20525\" onclick=\"return showCourse(this, 'STAT 525');\" title=\"STAT/​COMP SCI/​I SY E/​MATH  525\">STAT/​COMP SCI/​I SY E/​MATH  525</a></div></td><td> Linear Optimization</td><td class=\"hourscol\"></td></tr> <tr class=\"odd\"><td class=\"codecol\"><div class=\"blockindent\" style=\"margin-left:20px;\"><a class=\"bubblelink code\" href=\"/search/?P=STAT%20575\" onclick=\"return showCourse(this, 'STAT 575');\" title=\"STAT 575\">STAT 575</a></div></td><td> Statistical Methods for Spatial Data</td><td class=\"hourscol\"></td></tr> <tr class=\"even\"><td class=\"codecol\"><div class=\"blockindent\" style=\"margin-left:20px;\"><a class=\"bubblelink code\" href=\"/search/?P=STAT%20632\" onclick=\"return showCourse(this, 'STAT 632');\" title=\"STAT/​I SY E/​MATH/​OTM  632\">STAT/​I SY E/​MATH/​OTM  632</a></div></td><td> Introduction to Stochastic Processes</td><td class=\"hourscol\"></td></tr> <tr class=\"odd\"><td class=\"codecol\"><div class=\"blockindent\" style=\"margin-left:20px;\"><a class=\"bubblelink code\" href=\"/search/?P=STAT%20641\" onclick=\"return showCourse(this, 'STAT 641');\" title=\"STAT/​B M I  641\">STAT/​B M I  641</a></div></td><td> Statistical Methods for Clinical Trials</td><td class=\"hourscol\"></td></tr> <tr class=\"even lastrow\"><td class=\"codecol\"><div class=\"blockindent\" style=\"margin-left:20px;\"><a class=\"bubblelink code\" href=\"/search/?P=STAT%20642\" onclick=\"return showCourse(this, 'STAT 642');\" title=\"STAT/​B M I  642\">STAT/​B M I  642</a></div></td><td> Statistical Methods for Epidemiology</td><td class=\"hourscol\"></td></tr> <tr class=\"listsum\"><td colspan=\"2\">Total Credits</td><td class=\"hourscol\">30</td></tr></tbody>]"
      ]
     },
     "execution_count": 37,
     "metadata": {},
     "output_type": "execute_result"
    }
   ],
   "source": []
  },
  {
   "cell_type": "code",
   "execution_count": 78,
   "metadata": {},
   "outputs": [
    {
     "data": {
      "text/plain": [
       "[({'Name': 'Linear Algebra'},\n",
       "  1,\n",
       "  ['MATH 320', 'or MATH 340', 'or MATH 341', 'or MATH 375']),\n",
       " ({'Name': 'Probability (Complete at least one)'},\n",
       "  1,\n",
       "  ['MATH/ STAT  431', 'or MATH/ STAT  309', 'MATH 531']),\n",
       " ({'Name': 'Statistics'}, 1, ['MATH/ STAT  310', 'or STAT 312']),\n",
       " ({'Name': 'Intermediate Mathematics Requirement (complete at least one)'},\n",
       "  2,\n",
       "  ['MATH 321& MATH 322', 'MATH 341', 'MATH 375', 'MATH 421']),\n",
       " ({'Name': 'Advanced Mathematics Requirement (select one)'},\n",
       "  1,\n",
       "  ['MATH/ COMP SCI  514', 'MATH 521', 'MATH 531', 'MATH 535', 'MATH 540']),\n",
       " ({'Name': 'Elective to reach required six courses and 18 credits'},\n",
       "  2,\n",
       "  ['MATH/ COMP SCI  513',\n",
       "   'MATH/ COMP SCI  514',\n",
       "   'MATH 519',\n",
       "   'MATH 521',\n",
       "   'MATH 522',\n",
       "   'MATH/ COMP SCI/ I SY E/ STAT  525',\n",
       "   'MATH 531',\n",
       "   'MATH 535',\n",
       "   'MATH 540',\n",
       "   'MATH 541',\n",
       "   'MATH 542',\n",
       "   'MATH 605',\n",
       "   'MATH 619',\n",
       "   'MATH 627',\n",
       "   'MATH 629',\n",
       "   'MATH/ I SY E/ OTM/ STAT  632',\n",
       "   'MATH 635',\n",
       "   'MATH 319',\n",
       "   'MATH 321',\n",
       "   'MATH 322',\n",
       "   'MATH 376',\n",
       "   'MATH 415',\n",
       "   'MATH 421',\n",
       "   'MATH/ COMP SCI/ I SY E  425',\n",
       "   'MATH/ COMP SCI/ E C E  435',\n",
       "   'MATH 443',\n",
       "   'MATH 467',\n",
       "   'MATH/ COMP SCI/ STAT  475']),\n",
       " ({'Name': 'Select a distinct introduction course or sequence: '},\n",
       "  2,\n",
       "  ['STAT 340', 'STAT/ M E  424']),\n",
       " ({'Name': 'Select remaining courses/credits from:'},\n",
       "  3,\n",
       "  ['ACT SCI 650',\n",
       "   'ACT SCI 651',\n",
       "   'ACT SCI 652',\n",
       "   'ACT SCI 653',\n",
       "   'ACT SCI 654',\n",
       "   'ACT SCI 655',\n",
       "   'GEN BUS 656',\n",
       "   'STAT 349',\n",
       "   'STAT 351',\n",
       "   'STAT 411',\n",
       "   'STAT 421',\n",
       "   'STAT 456',\n",
       "   'STAT 461',\n",
       "   'STAT/ COMP SCI  471',\n",
       "   'STAT/ COMP SCI/ MATH  475',\n",
       "   'STAT/ COMP SCI/ I SY E/ MATH  525',\n",
       "   'STAT 575',\n",
       "   'STAT/ I SY E/ MATH/ OTM  632',\n",
       "   'STAT/ B M I  641',\n",
       "   'STAT/ B M I  642'])]"
      ]
     },
     "execution_count": 78,
     "metadata": {},
     "output_type": "execute_result"
    }
   ],
   "source": [
    "## INFO FROM ELECTIVES\n",
    "\n",
    "table = text.findAll(\"tbody\")\n",
    "table_tr = table[0].findAll(\"tr\")\n",
    "\n",
    "def get_ele(x):\n",
    "    for ele in x:\n",
    "        return ele.get_text()\n",
    "def replace_that(table):\n",
    "    a = []\n",
    "    for row in table:\n",
    "        r = []\n",
    "        credits = row.findAll(\"td\", {\"class\": \"hourscol\" })\n",
    "        credits = get_ele(credits)\n",
    "        \n",
    "        catg = row.findAll(\"span\",{\"class\":\"courselistcomment areasubheader undefined\"})\n",
    "        catg = get_ele(catg)\n",
    "        classtags= row.findAll(\"td\", {\"class\": \"codecol\"})\n",
    "        if len(classtags) > 0:\n",
    "            classtags = get_ele(classtags).replace(u'\\xa0',' ')\n",
    "            classtags = classtags.replace(u'\\u200b',' ')\n",
    "        \n",
    "        r.append(credits)\n",
    "        r.append(catg)\n",
    "        r.append(classtags)\n",
    "        a.append(r)\n",
    "    return(a[1:])\n",
    "\n",
    "tb = replace_that(table_tr)\n",
    "#tb = list(tb)\n",
    "\n",
    "#Now, we aim to clean up tb\n",
    "\n",
    "\n",
    "categories = []\n",
    "for row in tb:\n",
    "    ## Categories\n",
    "    if row[0] != None and len(row[0]) > 0:\n",
    "        ## Categories\n",
    "        if row[0] in [\"0-3\",\"3-5\"]:\n",
    "            row[0] = 1\n",
    "        elif row[1] == \"Select a distinct introduction course or sequence: \":\n",
    "            category = ({\"Name\":row[1]},2,['STAT 340','STAT/ M E  424'])\n",
    "            categories.append(category)\n",
    "            pass\n",
    "        elif row[0] in [\"0-6\",\"3-6\"]:\n",
    "            row[0] = 2\n",
    "        elif row[0] == \"6-14\":\n",
    "            row[0] = 3\n",
    "        else:\n",
    "            row[0] = round(int(row[0])/3)\n",
    "        category = ({\"Name\":row[1]},row[0],[])\n",
    "        categories.append(category)\n",
    "    elif len(row[2]) > 0:\n",
    "        categories[-1][-1].append(row[2])\n",
    "\n",
    "categories = categories[:-1]\n",
    "categories.pop(7)\n",
    "categories"
   ]
  },
  {
   "cell_type": "code",
   "execution_count": 31,
   "metadata": {},
   "outputs": [
    {
     "data": {
      "text/plain": [
       "[([{'Name': 'Foundational Math Courses'}],\n",
       "  [(2, ['MATH 221', 'MATH 217', 'MATH 275']), (1, ['MATH 222', 'MATH 276'])]),\n",
       " ([{'Name': 'Foundational Data Science Courses'}],\n",
       "  [(1, ['STAT 240']),\n",
       "   (1, ['STAT 340']),\n",
       "   (1, ['COMP SCI 220', 'COMP SCI 300']),\n",
       "   (1, ['COMP SCI 320']),\n",
       "   (1, ['L I S 461'])]),\n",
       " ({'Name': 'Machine Learning'},\n",
       "  1,\n",
       "  ['COMP SCI/ E C E/ M E  532',\n",
       "   'COMP SCI/ E C E/ M E  539',\n",
       "   'COMP SCI 540',\n",
       "   'MATH 535',\n",
       "   'STAT 451',\n",
       "   'STAT 453']),\n",
       " ({'Name': 'Advanced Computing'},\n",
       "  1,\n",
       "  ['COMP SCI 400',\n",
       "   'COMP SCI 412',\n",
       "   'COMP SCI/ STAT  471',\n",
       "   'COMP SCI/ MATH  513',\n",
       "   'COMP SCI/ MATH  514',\n",
       "   'COMP SCI/ E C E/ I SY E  524',\n",
       "   'COMP SCI 564',\n",
       "   'GEOG 573',\n",
       "   'GEOG 574']),\n",
       " ({'Name': 'Statistical Modeling'},\n",
       "  1,\n",
       "  ['ECON 400',\n",
       "   'ECON 410',\n",
       "   'STAT/ MATH  309',\n",
       "   'STAT/ MATH  310',\n",
       "   'STAT 311',\n",
       "   'STAT 312',\n",
       "   'STAT 349',\n",
       "   'STAT 351',\n",
       "   'STAT 421',\n",
       "   'STAT/ M E  424',\n",
       "   'STAT/ MATH  431',\n",
       "   'STAT 443',\n",
       "   'STAT 456',\n",
       "   'STAT 461',\n",
       "   'MATH 531',\n",
       "   'MATH/ I SY E/ OTM/ STAT  632',\n",
       "   'MATH 635']),\n",
       " ({'Name': 'Linear Algebra'},\n",
       "  1,\n",
       "  ['MATH 320',\n",
       "   'MATH 340',\n",
       "   'MATH 341',\n",
       "   'MATH 375',\n",
       "   'COMP SCI/ E C E/ M E  532']),\n",
       " ({'Name': 'Other Electives'},\n",
       "  3,\n",
       "  ['E C E 203',\n",
       "   'ECON 570',\n",
       "   'GEOG 572',\n",
       "   'GEOG 575',\n",
       "   'I SY E 323',\n",
       "   'I SY E 412',\n",
       "   'I SY E/ M E  512',\n",
       "   'I SY E 575',\n",
       "   'I SY E 612',\n",
       "   'COMP SCI/ I SY E/ MATH  425',\n",
       "   'COMP SCI/ I SY E/ MATH/ STAT  525',\n",
       "   'COMP SCI/ E C E  533',\n",
       "   'COMP SCI 559',\n",
       "   'COMP SCI/ B M I  567',\n",
       "   'COMP SCI/ B M I  576',\n",
       "   'COMP SCI 577',\n",
       "   'SOC 351',\n",
       "   'SOC/ C&E SOC  693',\n",
       "   'STAT 433'])]"
      ]
     },
     "execution_count": 31,
     "metadata": {},
     "output_type": "execute_result"
    }
   ],
   "source": [
    "DS = DS_required + categories\n",
    "DS"
   ]
  },
  {
   "cell_type": "code",
   "execution_count": null,
   "metadata": {},
   "outputs": [],
   "source": []
  }
 ],
 "metadata": {
  "kernelspec": {
   "display_name": "Python 3",
   "language": "python",
   "name": "python3"
  },
  "language_info": {
   "codemirror_mode": {
    "name": "ipython",
    "version": 3
   },
   "file_extension": ".py",
   "mimetype": "text/x-python",
   "name": "python",
   "nbconvert_exporter": "python",
   "pygments_lexer": "ipython3",
   "version": "3.8.8"
  }
 },
 "nbformat": 4,
 "nbformat_minor": 4
}
