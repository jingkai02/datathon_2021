{
 "cells": [
  {
   "cell_type": "code",
   "execution_count": 1,
   "metadata": {},
   "outputs": [],
   "source": [
    "from bs4 import BeautifulSoup\n",
    "import requests\n",
    "import pandas as pd\n",
    "import re"
   ]
  },
  {
   "cell_type": "code",
   "execution_count": 2,
   "metadata": {},
   "outputs": [],
   "source": [
    "url = \"https://guide.wisc.edu/undergraduate/business/risk-insurance/business-actuarial-science-bba/#requirementstext\"\n",
    "page = requests.get(url)"
   ]
  },
  {
   "cell_type": "code",
   "execution_count": 3,
   "metadata": {},
   "outputs": [],
   "source": [
    "text = BeautifulSoup(page.text, \"html.parser\")"
   ]
  },
  {
   "cell_type": "code",
   "execution_count": 4,
   "metadata": {},
   "outputs": [],
   "source": [
    "# Get the headings for the previous tables\n",
    "\n",
    "# First, we find all the tables and only keep the tables containing course info\n",
    "tables = text.findAll(\"table\", {\"class\": \"sc_courselist\" })\n",
    "\n",
    "#required core part\n",
    "table_names = []\n",
    "#for table in tables[4]:\n",
    "    #table_names.append(table.find(\"span\", {\"class\": \"odd areasubheader undefined\"}))"
   ]
  },
  {
   "cell_type": "code",
   "execution_count": 5,
   "metadata": {},
   "outputs": [],
   "source": [
    "def get_ele(x):\n",
    "    for ele in x:\n",
    "        return ele.get_text()\n",
    "    \n",
    "def replace_that(table):\n",
    "    a = []\n",
    "    for row in table:\n",
    "        r = []\n",
    "        credits = row.findAll(\"td\", {\"class\": \"hourscol\" })\n",
    "        credits = get_ele(credits)\n",
    "        r.append(credits)\n",
    "        \n",
    "        catg = row.findAll(\"h2\",{\"name\":\"requirementstext\"})\n",
    "        catg = get_ele(catg)\n",
    "        r.append(catg)\n",
    "        \n",
    "        classtags= row.findAll(\"td\", {\"class\": \"codecol\"})\n",
    "        if len(classtags) > 0:\n",
    "            classtags = get_ele(classtags).replace(u'\\xa0',' ')\n",
    "            classtags = classtags.replace(u'\\u200b',' ')\n",
    "        r.append(classtags)\n",
    "        \n",
    "        a.append(r)\n",
    "    return(a)"
   ]
  },
  {
   "cell_type": "code",
   "execution_count": 6,
   "metadata": {},
   "outputs": [],
   "source": [
    "#Now, we aim to clean up tb\n",
    "def clean_up(tb, cat = \"None\"):\n",
    "    categories = []\n",
    "    for row in tb:\n",
    "        ## Categories\n",
    "        if row[0] != None and len(row[0]) > 0:\n",
    "            ## Categories\n",
    "            if row[0]==\"1\":\n",
    "                row[0] = round(int(row[0])/3)\n",
    "            elif row[0]==\"3\":\n",
    "                row[0] = round(int(row[0])/3)\n",
    "            category = ({\"Name\":cat},\n",
    "                        row[0],[row[2]])\n",
    "            categories.append(category)\n",
    "        elif len(row[2]) > 0:\n",
    "            category[-1].append(row[2])\n",
    "    return categories\n",
    "\n",
    "#categories = categories[:-1]\n",
    "#categories.pop(7)"
   ]
  },
  {
   "cell_type": "code",
   "execution_count": 7,
   "metadata": {},
   "outputs": [
    {
     "data": {
      "text/plain": [
       "[({'Name': 'Recommended Electives'}, '4', ['MATH 234']),\n",
       " ({'Name': 'Recommended Electives'}, 1, ['MATH 340']),\n",
       " ({'Name': 'Recommended Electives'}, 1, ['R M I 300']),\n",
       " ({'Name': 'Recommended Electives'}, 1, ['FINANCE/ ECON  320']),\n",
       " ({'Name': 'Recommended Electives'}, '4', ['COMP SCI 220']),\n",
       " ({'Name': 'Recommended Electives'},\n",
       "  1,\n",
       "  ['STAT 303', ' STAT 304', ' STAT 305'])]"
      ]
     },
     "execution_count": 7,
     "metadata": {},
     "output_type": "execute_result"
    }
   ],
   "source": [
    "## INFO FROM Major Requirement\n",
    "major_tbody = tables[1].findAll(\"tbody\")\n",
    "major_tr=major_tbody[0].findAll(\"tr\")\n",
    "major_req = replace_that(major_tr)\n",
    "major = clean_up(major_req, \"Actuarial Science Major Requirements\")\n",
    "\n",
    "## INFO FROM ELECTIVE Requirement\n",
    "elective_tbody = tables[2].findAll(\"tbody\")\n",
    "elective_tr=elective_tbody[0].findAll(\"tr\")\n",
    "elective_req = replace_that(elective_tr)\n",
    "elective = clean_up(elective_req, \"Recommended Electives\")\n",
    "\n",
    "last_line = []\n",
    "#elective[-1][-1][0]=elective[-1][-1][0].split('&')[0],elective[-1][-1][0].split('&')[1],elective[-1][-1][0].split('&')[2]\n",
    "#elective[-1][-1][0].split('&')[0]+','+elective[-1][-1][0].split('&')[1]\n",
    "sp1=elective[-1][-1][0].split('&')[0]\n",
    "sp2=elective[-1][-1][0].split('&')[1]\n",
    "sp3=elective[-1][-1][0].split('&')[2]\n",
    "elective[-1][-1][0]=sp1\n",
    "elective[-1][-1].append(sp2)\n",
    "elective[-1][-1].append(sp3)\n",
    "elective"
   ]
  },
  {
   "cell_type": "code",
   "execution_count": 9,
   "metadata": {},
   "outputs": [
    {
     "ename": "SyntaxError",
     "evalue": "can't assign to function call (<ipython-input-9-ddecf7e3291a>, line 3)",
     "output_type": "error",
     "traceback": [
      "\u001b[1;36m  File \u001b[1;32m\"<ipython-input-9-ddecf7e3291a>\"\u001b[1;36m, line \u001b[1;32m3\u001b[0m\n\u001b[1;33m    replace() = elective[-1][-1][0].split('&')\u001b[0m\n\u001b[1;37m                                              ^\u001b[0m\n\u001b[1;31mSyntaxError\u001b[0m\u001b[1;31m:\u001b[0m can't assign to function call\n"
     ]
    }
   ],
   "source": [
    "txt = 'STAT 303& STAT 304& STAT 305'\n",
    "txt.split('&')\n",
    "replace() = elective[-1][-1][0].split('&')"
   ]
  }
 ],
 "metadata": {
  "kernelspec": {
   "display_name": "Python 3",
   "language": "python",
   "name": "python3"
  },
  "language_info": {
   "codemirror_mode": {
    "name": "ipython",
    "version": 3
   },
   "file_extension": ".py",
   "mimetype": "text/x-python",
   "name": "python",
   "nbconvert_exporter": "python",
   "pygments_lexer": "ipython3",
   "version": "3.7.6"
  }
 },
 "nbformat": 4,
 "nbformat_minor": 5
}
