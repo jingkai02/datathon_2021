{
 "cells": [
  {
   "cell_type": "code",
   "execution_count": 8,
   "metadata": {},
   "outputs": [],
   "source": [
    "import random"
   ]
  },
  {
   "cell_type": "code",
   "execution_count": 19,
   "metadata": {},
   "outputs": [
    {
     "data": {
      "text/plain": [
       "[[[{'Name': 'Foundational Math Courses'}],\n",
       "  [[5, ['MATH 221', 'MATH 217', 'MATH 275']], [4, ['MATH 222', 'MATH 276']]]],\n",
       " [[{'Name': 'Foundational Data Science Courses'}],\n",
       "  [[4, ['STAT 240']],\n",
       "   [4, ['STAT 340']],\n",
       "   [4, ['COMP SCI 220', 'COMP SCI 300']],\n",
       "   [4, ['COMP SCI 320']],\n",
       "   [3, ['L I S 461']]]]]"
      ]
     },
     "execution_count": 19,
     "metadata": {},
     "output_type": "execute_result"
    }
   ],
   "source": [
    "data = [[{'Name': 'Foundational Math Courses'}],\n",
    "  [[5, ['MATH 221', 'MATH 217', 'MATH 275']],\n",
    "   [4, ['MATH 222', 'MATH 276']]]],\n",
    " [[{'Name': 'Foundational Data Science Courses'}],\n",
    "  [[4, ['STAT 240']],\n",
    "   [4, ['STAT 340']],\n",
    "   [4, ['COMP SCI 220', 'COMP SCI 300']],\n",
    "   [4, ['COMP SCI 320']],\n",
    "   [3, ['L I S 461']]]]\n",
    "data"
   ]
  },
  {
   "cell_type": "code",
   "execution_count": 14,
   "metadata": {},
   "outputs": [
    {
     "data": {
      "text/plain": [
       "[2, 3]"
      ]
     },
     "execution_count": 14,
     "metadata": {},
     "output_type": "execute_result"
    }
   ],
   "source": []
  },
  {
   "cell_type": "code",
   "execution_count": 32,
   "metadata": {},
   "outputs": [],
   "source": [
    "\n",
    "## Implement Monte Carlo Simulation to determine the number of additional credits \n",
    "## This Monte Carlo can be potentially eliminated if we know what classes students are taking.\n",
    "\n",
    "# Function to randomly select classes\n",
    "\n",
    "def sample(category):\n",
    "    samples = random.sample(category[1],category[0])\n",
    "    return samples\n",
    "\n",
    "classes = []\n",
    "\n",
    "## Use recursion to choose classes\n",
    "def choose_classes(class_req):\n",
    "    if type(class_req[0]) == int:\n",
    "        return sample(class_req[1])\n",
    "    \n",
    "    for req in class_req:\n",
    "        choose_classes(req)\n",
    "\n",
    "## Function for Monte Carlo simulation to find best combis\n",
    "def best_classes(class_req):\n",
    "    \n",
    "    ## Step 1: Initialize no of trials\n",
    "    n = 1000\n",
    "\n",
    "    for i in range(n):\n",
    "\n",
    "    ## Step 2: Pick random classes from each category to form list of \"classes taken\" in ori Major\n",
    "        classes = []\n",
    "        choose_classes(class_req)\n",
    "\n",
    "    ## Step 3: Compare each class to each category in target Major. For each class, \n",
    "    ## calculate how many categories the class fulfills in the target major, and sort the classes\n",
    "    ## taken by that priority\n",
    "    \n",
    "        for i, c in enumerate(classes):\n",
    "            count = 0\n",
    "            \n",
    "            if c in None:\n",
    "                count += 1\n",
    "                \n",
    "            classes\n",
    "\n",
    "    ## Step 4: Go down the priority list to take turns eliminating categories. \n",
    "\n",
    "    ## optional: This step could be randomized if we decide to randomize what classes to take. \n",
    "    ##          we could then find the minimum additional credits we need to take\n",
    "\n",
    "    ## Step 5: Over all the trials, find the starting classes that result in the least additional classes\n"
   ]
  },
  {
   "cell_type": "code",
   "execution_count": 31,
   "metadata": {},
   "outputs": [
    {
     "ename": "KeyError",
     "evalue": "0",
     "output_type": "error",
     "traceback": [
      "\u001b[1;31m---------------------------------------------------------------------------\u001b[0m",
      "\u001b[1;31mKeyError\u001b[0m                                  Traceback (most recent call last)",
      "\u001b[1;32m<ipython-input-31-3bb4d74c9bf1>\u001b[0m in \u001b[0;36m<module>\u001b[1;34m\u001b[0m\n\u001b[1;32m----> 1\u001b[1;33m \u001b[0mchoose_classes\u001b[0m\u001b[1;33m(\u001b[0m\u001b[0mdata\u001b[0m\u001b[1;33m)\u001b[0m\u001b[1;33m\u001b[0m\u001b[1;33m\u001b[0m\u001b[0m\n\u001b[0m",
      "\u001b[1;32m<ipython-input-30-a798f1923bad>\u001b[0m in \u001b[0;36mchoose_classes\u001b[1;34m(class_req)\u001b[0m\n\u001b[0;32m     17\u001b[0m         \u001b[1;32mreturn\u001b[0m \u001b[1;32mNone\u001b[0m\u001b[1;33m\u001b[0m\u001b[1;33m\u001b[0m\u001b[0m\n\u001b[0;32m     18\u001b[0m     \u001b[1;32mfor\u001b[0m \u001b[0mreq\u001b[0m \u001b[1;32min\u001b[0m \u001b[0mclass_req\u001b[0m\u001b[1;33m:\u001b[0m\u001b[1;33m\u001b[0m\u001b[1;33m\u001b[0m\u001b[0m\n\u001b[1;32m---> 19\u001b[1;33m         \u001b[0mchoose_classes\u001b[0m\u001b[1;33m(\u001b[0m\u001b[0mreq\u001b[0m\u001b[1;33m)\u001b[0m\u001b[1;33m\u001b[0m\u001b[1;33m\u001b[0m\u001b[0m\n\u001b[0m\u001b[0;32m     20\u001b[0m \u001b[1;33m\u001b[0m\u001b[0m\n\u001b[0;32m     21\u001b[0m \u001b[1;31m## Function for Monte Carlo simulation to find best combis\u001b[0m\u001b[1;33m\u001b[0m\u001b[1;33m\u001b[0m\u001b[1;33m\u001b[0m\u001b[0m\n",
      "\u001b[1;32m<ipython-input-30-a798f1923bad>\u001b[0m in \u001b[0;36mchoose_classes\u001b[1;34m(class_req)\u001b[0m\n\u001b[0;32m     17\u001b[0m         \u001b[1;32mreturn\u001b[0m \u001b[1;32mNone\u001b[0m\u001b[1;33m\u001b[0m\u001b[1;33m\u001b[0m\u001b[0m\n\u001b[0;32m     18\u001b[0m     \u001b[1;32mfor\u001b[0m \u001b[0mreq\u001b[0m \u001b[1;32min\u001b[0m \u001b[0mclass_req\u001b[0m\u001b[1;33m:\u001b[0m\u001b[1;33m\u001b[0m\u001b[1;33m\u001b[0m\u001b[0m\n\u001b[1;32m---> 19\u001b[1;33m         \u001b[0mchoose_classes\u001b[0m\u001b[1;33m(\u001b[0m\u001b[0mreq\u001b[0m\u001b[1;33m)\u001b[0m\u001b[1;33m\u001b[0m\u001b[1;33m\u001b[0m\u001b[0m\n\u001b[0m\u001b[0;32m     20\u001b[0m \u001b[1;33m\u001b[0m\u001b[0m\n\u001b[0;32m     21\u001b[0m \u001b[1;31m## Function for Monte Carlo simulation to find best combis\u001b[0m\u001b[1;33m\u001b[0m\u001b[1;33m\u001b[0m\u001b[1;33m\u001b[0m\u001b[0m\n",
      "\u001b[1;32m<ipython-input-30-a798f1923bad>\u001b[0m in \u001b[0;36mchoose_classes\u001b[1;34m(class_req)\u001b[0m\n\u001b[0;32m     17\u001b[0m         \u001b[1;32mreturn\u001b[0m \u001b[1;32mNone\u001b[0m\u001b[1;33m\u001b[0m\u001b[1;33m\u001b[0m\u001b[0m\n\u001b[0;32m     18\u001b[0m     \u001b[1;32mfor\u001b[0m \u001b[0mreq\u001b[0m \u001b[1;32min\u001b[0m \u001b[0mclass_req\u001b[0m\u001b[1;33m:\u001b[0m\u001b[1;33m\u001b[0m\u001b[1;33m\u001b[0m\u001b[0m\n\u001b[1;32m---> 19\u001b[1;33m         \u001b[0mchoose_classes\u001b[0m\u001b[1;33m(\u001b[0m\u001b[0mreq\u001b[0m\u001b[1;33m)\u001b[0m\u001b[1;33m\u001b[0m\u001b[1;33m\u001b[0m\u001b[0m\n\u001b[0m\u001b[0;32m     20\u001b[0m \u001b[1;33m\u001b[0m\u001b[0m\n\u001b[0;32m     21\u001b[0m \u001b[1;31m## Function for Monte Carlo simulation to find best combis\u001b[0m\u001b[1;33m\u001b[0m\u001b[1;33m\u001b[0m\u001b[1;33m\u001b[0m\u001b[0m\n",
      "\u001b[1;32m<ipython-input-30-a798f1923bad>\u001b[0m in \u001b[0;36mchoose_classes\u001b[1;34m(class_req)\u001b[0m\n\u001b[0;32m     13\u001b[0m \u001b[1;33m\u001b[0m\u001b[0m\n\u001b[0;32m     14\u001b[0m \u001b[1;32mdef\u001b[0m \u001b[0mchoose_classes\u001b[0m\u001b[1;33m(\u001b[0m\u001b[0mclass_req\u001b[0m\u001b[1;33m)\u001b[0m\u001b[1;33m:\u001b[0m\u001b[1;33m\u001b[0m\u001b[1;33m\u001b[0m\u001b[0m\n\u001b[1;32m---> 15\u001b[1;33m     \u001b[1;32mif\u001b[0m \u001b[0mtype\u001b[0m\u001b[1;33m(\u001b[0m\u001b[0mclass_req\u001b[0m\u001b[1;33m[\u001b[0m\u001b[1;36m0\u001b[0m\u001b[1;33m]\u001b[0m\u001b[1;33m)\u001b[0m \u001b[1;33m==\u001b[0m \u001b[0mint\u001b[0m\u001b[1;33m:\u001b[0m\u001b[1;33m\u001b[0m\u001b[1;33m\u001b[0m\u001b[0m\n\u001b[0m\u001b[0;32m     16\u001b[0m         \u001b[0mclasses\u001b[0m\u001b[1;33m.\u001b[0m\u001b[0mappend\u001b[0m\u001b[1;33m(\u001b[0m\u001b[0msample\u001b[0m\u001b[1;33m(\u001b[0m\u001b[0mclass_req\u001b[0m\u001b[1;33m)\u001b[0m\u001b[1;33m)\u001b[0m\u001b[1;33m\u001b[0m\u001b[1;33m\u001b[0m\u001b[0m\n\u001b[0;32m     17\u001b[0m         \u001b[1;32mreturn\u001b[0m \u001b[1;32mNone\u001b[0m\u001b[1;33m\u001b[0m\u001b[1;33m\u001b[0m\u001b[0m\n",
      "\u001b[1;31mKeyError\u001b[0m: 0"
     ]
    }
   ],
   "source": [
    "choose_classes(data)"
   ]
  }
 ],
 "metadata": {
  "kernelspec": {
   "display_name": "Python 3",
   "language": "python",
   "name": "python3"
  },
  "language_info": {
   "codemirror_mode": {
    "name": "ipython",
    "version": 3
   },
   "file_extension": ".py",
   "mimetype": "text/x-python",
   "name": "python",
   "nbconvert_exporter": "python",
   "pygments_lexer": "ipython3",
   "version": "3.7.6"
  }
 },
 "nbformat": 4,
 "nbformat_minor": 4
}
