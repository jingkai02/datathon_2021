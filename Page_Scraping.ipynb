{
 "cells": [
  {
   "cell_type": "code",
   "execution_count": 1,
   "metadata": {},
   "outputs": [
    {
     "name": "stderr",
     "output_type": "stream",
     "text": [
      "D:\\anaconda3\\lib\\site-packages\\requests\\__init__.py:89: RequestsDependencyWarning: urllib3 (1.26.7) or chardet (3.0.4) doesn't match a supported version!\n",
      "  warnings.warn(\"urllib3 ({}) or chardet ({}) doesn't match a supported \"\n"
     ]
    }
   ],
   "source": [
    "from bs4 import BeautifulSoup\n",
    "import requests\n",
    "import pandas as pd\n",
    "import re"
   ]
  },
  {
   "cell_type": "code",
   "execution_count": null,
   "metadata": {},
   "outputs": [],
   "source": [
    "# Get Pages\n",
    "pages = {}\n",
    "for url in Results:\n",
    "    #TODO: get names\n",
    "    \n",
    "    pages[url] = requests.get(url)"
   ]
  },
  {
   "cell_type": "code",
   "execution_count": null,
   "metadata": {},
   "outputs": [],
   "source": [
    "# Get Text from the Pages\n",
    "texts = {}\n",
    "for page in pages:\n",
    "    text[url] = BeautifulSoup(page.text, \"html.parser\")"
   ]
  },
  {
   "cell_type": "code",
   "execution_count": null,
   "metadata": {},
   "outputs": [],
   "source": [
    "# EXAMPLE MAJOR\n",
    "\n",
    "# Get the headings for the previous tables\n",
    "\n",
    "# First, we find all the tables and only keep the tables containing course info\n",
    "t = text[\"https://guide.wisc.edu/undergraduate/business/risk-insurance/business-actuarial-science-bba/#requirementstext\"]\n",
    "tables = t.findAll(\"table\", {\"class\": \"sc_courselist\" })"
   ]
  },
  {
   "cell_type": "code",
   "execution_count": null,
   "metadata": {},
   "outputs": [],
   "source": [
    "# Functions to clean up the tables\n",
    "def get_ele(x):\n",
    "    for ele in x:\n",
    "        return ele.get_text()\n",
    "    \n",
    "def replace_that(table):\n",
    "    a = []\n",
    "    for row in table:\n",
    "        r = []\n",
    "        credits = row.findAll(\"td\", {\"class\": \"hourscol\" })\n",
    "        credits = get_ele(credits)\n",
    "        r.append(credits)\n",
    "        \n",
    "        catg = row.findAll(\"h2\",{\"name\":\"requirementstext\"})\n",
    "        catg = get_ele(catg)\n",
    "        r.append(catg)\n",
    "        \n",
    "        classtags= row.findAll(\"td\", {\"class\": \"codecol\"})\n",
    "        if len(classtags) > 0:\n",
    "            classtags = get_ele(classtags).replace(u'\\xa0',' ')\n",
    "            classtags = classtags.replace(u'\\u200b',' ')\n",
    "        r.append(classtags)\n",
    "        \n",
    "        a.append(r)\n",
    "    return(a)"
   ]
  }
 ],
 "metadata": {
  "kernelspec": {
   "display_name": "Python 3",
   "language": "python",
   "name": "python3"
  },
  "language_info": {
   "codemirror_mode": {
    "name": "ipython",
    "version": 3
   },
   "file_extension": ".py",
   "mimetype": "text/x-python",
   "name": "python",
   "nbconvert_exporter": "python",
   "pygments_lexer": "ipython3",
   "version": "3.8.5"
  }
 },
 "nbformat": 4,
 "nbformat_minor": 4
}
